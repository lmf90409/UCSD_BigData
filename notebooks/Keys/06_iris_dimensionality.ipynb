




<!DOCTYPE html>
<html class="   ">
  <head prefix="og: http://ogp.me/ns# fb: http://ogp.me/ns/fb# object: http://ogp.me/ns/object# article: http://ogp.me/ns/article# profile: http://ogp.me/ns/profile#">
    <meta charset='utf-8'>
    <meta http-equiv="X-UA-Compatible" content="IE=edge">
    
    
    <title>UCSD_BigData/notebooks/sklearn_Yoav/06_iris_dimensionality.ipynb at master · lmf90409/UCSD_BigData</title>
    <link rel="search" type="application/opensearchdescription+xml" href="/opensearch.xml" title="GitHub" />
    <link rel="fluid-icon" href="https://github.com/fluidicon.png" title="GitHub" />
    <link rel="apple-touch-icon" sizes="57x57" href="/apple-touch-icon-114.png" />
    <link rel="apple-touch-icon" sizes="114x114" href="/apple-touch-icon-114.png" />
    <link rel="apple-touch-icon" sizes="72x72" href="/apple-touch-icon-144.png" />
    <link rel="apple-touch-icon" sizes="144x144" href="/apple-touch-icon-144.png" />
    <meta property="fb:app_id" content="1401488693436528"/>

      <meta content="@github" name="twitter:site" /><meta content="summary" name="twitter:card" /><meta content="lmf90409/UCSD_BigData" name="twitter:title" /><meta content="UCSD_BigData - A repository for scripts and notebooks for the UCSD big data course" name="twitter:description" /><meta content="https://avatars2.githubusercontent.com/u/6384979?s=400" name="twitter:image:src" />
<meta content="GitHub" property="og:site_name" /><meta content="object" property="og:type" /><meta content="https://avatars2.githubusercontent.com/u/6384979?s=400" property="og:image" /><meta content="lmf90409/UCSD_BigData" property="og:title" /><meta content="https://github.com/lmf90409/UCSD_BigData" property="og:url" /><meta content="UCSD_BigData - A repository for scripts and notebooks for the UCSD big data course" property="og:description" />

    <link rel="assets" href="https://github.global.ssl.fastly.net/">
    <link rel="conduit-xhr" href="https://ghconduit.com:25035/">
    <link rel="xhr-socket" href="/_sockets" />

    <meta name="msapplication-TileImage" content="/windows-tile.png" />
    <meta name="msapplication-TileColor" content="#ffffff" />
    <meta name="selected-link" value="repo_source" data-pjax-transient />
    <meta content="collector.githubapp.com" name="octolytics-host" /><meta content="collector-cdn.github.com" name="octolytics-script-host" /><meta content="github" name="octolytics-app-id" /><meta content="4CB0116C:43A0:22EDA6C:5356C29A" name="octolytics-dimension-request_id" /><meta content="6384979" name="octolytics-actor-id" /><meta content="lmf90409" name="octolytics-actor-login" /><meta content="577c222185f777e2bd26c5197d95723520a8ea9d4ef00a33eb37ba319cae821f" name="octolytics-actor-hash" />
    

    
    
    <link rel="icon" type="image/x-icon" href="https://github.global.ssl.fastly.net/favicon.ico" />

    <meta content="authenticity_token" name="csrf-param" />
<meta content="mCi732hTMbtylpQhs5OnubOKZehathw40j7m6tLegv4waCgv1y6ArJQP9o6NoKXOyaC6iqZUqhppVfjyrTXf9Q==" name="csrf-token" />

    <link href="https://github.global.ssl.fastly.net/assets/github-032b3c7a54484297af92575eb05cf788e01e9a47.css" media="all" rel="stylesheet" type="text/css" />
    <link href="https://github.global.ssl.fastly.net/assets/github2-db8a18c1f2effb249df5cfaf579f4aba25fc345b.css" media="all" rel="stylesheet" type="text/css" />
    


        <script crossorigin="anonymous" src="https://github.global.ssl.fastly.net/assets/frameworks-f8f8d8ee1afb4365ba5e002fdbc3c8e61738713b.js" type="text/javascript"></script>
        <script async="async" crossorigin="anonymous" src="https://github.global.ssl.fastly.net/assets/github-9b5ee003ab01a44bbc43a93276724dcc2d33a087.js" type="text/javascript"></script>
        
        
      <meta http-equiv="x-pjax-version" content="23a0e59da73e16faa8fd334ec684661d">

        <link data-pjax-transient rel='permalink' href='/lmf90409/UCSD_BigData/blob/95a7ac694dcd4440c5caf59548e13bb116ef104f/notebooks/sklearn_Yoav/06_iris_dimensionality.ipynb'>

  <meta name="description" content="UCSD_BigData - A repository for scripts and notebooks for the UCSD big data course" />

  <meta content="6384979" name="octolytics-dimension-user_id" /><meta content="lmf90409" name="octolytics-dimension-user_login" /><meta content="18421222" name="octolytics-dimension-repository_id" /><meta content="lmf90409/UCSD_BigData" name="octolytics-dimension-repository_nwo" /><meta content="true" name="octolytics-dimension-repository_public" /><meta content="true" name="octolytics-dimension-repository_is_fork" /><meta content="17647752" name="octolytics-dimension-repository_parent_id" /><meta content="yoavfreund/UCSD_BigData" name="octolytics-dimension-repository_parent_nwo" /><meta content="17647752" name="octolytics-dimension-repository_network_root_id" /><meta content="yoavfreund/UCSD_BigData" name="octolytics-dimension-repository_network_root_nwo" />
  <link href="https://github.com/lmf90409/UCSD_BigData/commits/master.atom" rel="alternate" title="Recent Commits to UCSD_BigData:master" type="application/atom+xml" />

  </head>


  <body class="logged_in  env-production macintosh vis-public fork page-blob">
    <a href="#start-of-content" tabindex="1" class="accessibility-aid js-skip-to-content">Skip to content</a>
    <div class="wrapper">
      
      
      
      


      <div class="header header-logged-in true">
  <div class="container clearfix">

    <a class="header-logo-invertocat" href="https://github.com/">
  <span class="mega-octicon octicon-mark-github"></span>
</a>

    
    <a href="/notifications" aria-label="You have no unread notifications" class="notification-indicator tooltipped tooltipped-s" data-gotokey="n">
        <span class="mail-status all-read"></span>
</a>

      <div class="command-bar js-command-bar  in-repository">
          <form accept-charset="UTF-8" action="/search" class="command-bar-form" id="top_search_form" method="get">

<div class="commandbar">
  <span class="message"></span>
  <input type="text" data-hotkey="/ s" name="q" id="js-command-bar-field" placeholder="Search or type a command" tabindex="1" autocapitalize="off"
    
    data-username="lmf90409"
      data-repo="lmf90409/UCSD_BigData"
      data-branch="master"
      data-sha="2e42ca923ee1fa2fc479a8c33ee7d3d1e716208e"
  >
  <div class="display hidden"></div>
</div>

    <input type="hidden" name="nwo" value="lmf90409/UCSD_BigData" />

    <div class="select-menu js-menu-container js-select-menu search-context-select-menu">
      <span class="minibutton select-menu-button js-menu-target" role="button" aria-haspopup="true">
        <span class="js-select-button">This repository</span>
      </span>

      <div class="select-menu-modal-holder js-menu-content js-navigation-container" aria-hidden="true">
        <div class="select-menu-modal">

          <div class="select-menu-item js-navigation-item js-this-repository-navigation-item selected">
            <span class="select-menu-item-icon octicon octicon-check"></span>
            <input type="radio" class="js-search-this-repository" name="search_target" value="repository" checked="checked" />
            <div class="select-menu-item-text js-select-button-text">This repository</div>
          </div> <!-- /.select-menu-item -->

          <div class="select-menu-item js-navigation-item js-all-repositories-navigation-item">
            <span class="select-menu-item-icon octicon octicon-check"></span>
            <input type="radio" name="search_target" value="global" />
            <div class="select-menu-item-text js-select-button-text">All repositories</div>
          </div> <!-- /.select-menu-item -->

        </div>
      </div>
    </div>

  <span class="help tooltipped tooltipped-s" aria-label="Show command bar help">
    <span class="octicon octicon-question"></span>
  </span>


  <input type="hidden" name="ref" value="cmdform">

</form>
        <ul class="top-nav">
          <li class="explore"><a href="/explore">Explore</a></li>
            <li><a href="https://gist.github.com">Gist</a></li>
            <li><a href="/blog">Blog</a></li>
          <li><a href="https://help.github.com">Help</a></li>
        </ul>
      </div>

    


  <ul id="user-links">
    <li>
      <a href="/lmf90409" class="name">
        <img alt="" class=" js-avatar" data-user="6384979" height="20" src="https://avatars1.githubusercontent.com/u/6384979?s=140" width="20" /> lmf90409
      </a>
    </li>

    <li class="new-menu dropdown-toggle js-menu-container">
      <a href="#" class="js-menu-target tooltipped tooltipped-s" aria-label="Create new...">
        <span class="octicon octicon-plus"></span>
        <span class="dropdown-arrow"></span>
      </a>

      <div class="new-menu-content js-menu-content">
      </div>
    </li>

    <li>
      <a href="/settings/profile" id="account_settings"
        class="tooltipped tooltipped-s"
        aria-label="Account settings ">
        <span class="octicon octicon-tools"></span>
      </a>
    </li>
    <li>
      <form class="logout-form" action="/logout" method="post">
        <button class="sign-out-button tooltipped tooltipped-s" aria-label="Sign out">
          <span class="octicon octicon-log-out"></span>
        </button>
      </form>
    </li>

  </ul>

<div class="js-new-dropdown-contents hidden">
  

<ul class="dropdown-menu">
  <li>
    <a href="/new"><span class="octicon octicon-repo-create"></span> New repository</a>
  </li>
  <li>
    <a href="/organizations/new"><span class="octicon octicon-organization"></span> New organization</a>
  </li>


    <li class="section-title">
      <span title="lmf90409/UCSD_BigData">This repository</span>
    </li>
      <li>
        <a href="/lmf90409/UCSD_BigData/settings/collaboration"><span class="octicon octicon-person-add"></span> New collaborator</a>
      </li>
</ul>

</div>


    
  </div>
</div>

      

        



      <div id="start-of-content" class="accessibility-aid"></div>
          <div class="site" itemscope itemtype="http://schema.org/WebPage">
    <div id="js-flash-container">
      
    </div>
    <div class="pagehead repohead instapaper_ignore readability-menu">
      <div class="container">
        

<ul class="pagehead-actions">

    <li class="subscription">
      <form accept-charset="UTF-8" action="/notifications/subscribe" class="js-social-container" data-autosubmit="true" data-remote="true" method="post"><div style="margin:0;padding:0;display:inline"><input name="authenticity_token" type="hidden" value="YHAObx/BPTbvbo7zuP7MTUqSR5T9uhD3QVkirzpWV5c/6UDHtBrvmpb4ThDgTfZ0nPgzOVOQQT2tduQs71cRDw==" /></div>  <input id="repository_id" name="repository_id" type="hidden" value="18421222" />

    <div class="select-menu js-menu-container js-select-menu">
      <a class="social-count js-social-count" href="/lmf90409/UCSD_BigData/watchers">
        3
      </a>
      <span class="minibutton select-menu-button with-count js-menu-target" role="button" tabindex="0" aria-haspopup="true">
        <span class="js-select-button">
          <span class="octicon octicon-eye-unwatch"></span>
          Unwatch
        </span>
      </span>

      <div class="select-menu-modal-holder">
        <div class="select-menu-modal subscription-menu-modal js-menu-content" aria-hidden="true">
          <div class="select-menu-header">
            <span class="select-menu-title">Notification status</span>
            <span class="octicon octicon-remove-close js-menu-close"></span>
          </div> <!-- /.select-menu-header -->

          <div class="select-menu-list js-navigation-container" role="menu">

            <div class="select-menu-item js-navigation-item " role="menuitem" tabindex="0">
              <span class="select-menu-item-icon octicon octicon-check"></span>
              <div class="select-menu-item-text">
                <input id="do_included" name="do" type="radio" value="included" />
                <h4>Not watching</h4>
                <span class="description">You only receive notifications for conversations in which you participate or are @mentioned.</span>
                <span class="js-select-button-text hidden-select-button-text">
                  <span class="octicon octicon-eye-watch"></span>
                  Watch
                </span>
              </div>
            </div> <!-- /.select-menu-item -->

            <div class="select-menu-item js-navigation-item selected" role="menuitem" tabindex="0">
              <span class="select-menu-item-icon octicon octicon octicon-check"></span>
              <div class="select-menu-item-text">
                <input checked="checked" id="do_subscribed" name="do" type="radio" value="subscribed" />
                <h4>Watching</h4>
                <span class="description">You receive notifications for all conversations in this repository.</span>
                <span class="js-select-button-text hidden-select-button-text">
                  <span class="octicon octicon-eye-unwatch"></span>
                  Unwatch
                </span>
              </div>
            </div> <!-- /.select-menu-item -->

            <div class="select-menu-item js-navigation-item " role="menuitem" tabindex="0">
              <span class="select-menu-item-icon octicon octicon-check"></span>
              <div class="select-menu-item-text">
                <input id="do_ignore" name="do" type="radio" value="ignore" />
                <h4>Ignoring</h4>
                <span class="description">You do not receive any notifications for conversations in this repository.</span>
                <span class="js-select-button-text hidden-select-button-text">
                  <span class="octicon octicon-mute"></span>
                  Stop ignoring
                </span>
              </div>
            </div> <!-- /.select-menu-item -->

          </div> <!-- /.select-menu-list -->

        </div> <!-- /.select-menu-modal -->
      </div> <!-- /.select-menu-modal-holder -->
    </div> <!-- /.select-menu -->

</form>
    </li>

  <li>
  

  <div class="js-toggler-container js-social-container starring-container ">
    <a href="/lmf90409/UCSD_BigData/unstar"
      class="minibutton with-count js-toggler-target star-button starred"
      aria-label="Unstar this repository" title="Unstar lmf90409/UCSD_BigData" data-remote="true" data-method="post" rel="nofollow">
      <span class="octicon octicon-star-delete"></span><span class="text">Unstar</span>
    </a>

    <a href="/lmf90409/UCSD_BigData/star"
      class="minibutton with-count js-toggler-target star-button unstarred"
      aria-label="Star this repository" title="Star lmf90409/UCSD_BigData" data-remote="true" data-method="post" rel="nofollow">
      <span class="octicon octicon-star"></span><span class="text">Star</span>
    </a>

      <a class="social-count js-social-count" href="/lmf90409/UCSD_BigData/stargazers">
        0
      </a>
  </div>

  </li>


        <li>
          <a href="/lmf90409/UCSD_BigData/fork" class="minibutton with-count js-toggler-target fork-button lighter tooltipped-n" title="Fork your own copy of lmf90409/UCSD_BigData to your account" aria-label="Fork your own copy of lmf90409/UCSD_BigData to your account" rel="nofollow" data-method="post">
            <span class="octicon octicon-git-branch-create"></span><span class="text">Fork</span>
          </a>
          <a href="/lmf90409/UCSD_BigData/network" class="social-count">43</a>
        </li>


</ul>

        <h1 itemscope itemtype="http://data-vocabulary.org/Breadcrumb" class="entry-title public">
          <span class="repo-label"><span>public</span></span>
          <span class="mega-octicon octicon-repo-forked"></span>
          <span class="author"><a href="/lmf90409" class="url fn" itemprop="url" rel="author"><span itemprop="title">lmf90409</span></a></span><!--
       --><span class="path-divider">/</span><!--
       --><strong><a href="/lmf90409/UCSD_BigData" class="js-current-repository js-repo-home-link">UCSD_BigData</a></strong>

          <span class="page-context-loader">
            <img alt="Octocat-spinner-32" height="16" src="https://github.global.ssl.fastly.net/images/spinners/octocat-spinner-32.gif" width="16" />
          </span>

            <span class="fork-flag">
              <span class="text">forked from <a href="/yoavfreund/UCSD_BigData">yoavfreund/UCSD_BigData</a></span>
            </span>
        </h1>
      </div><!-- /.container -->
    </div><!-- /.repohead -->

    <div class="container">
      <div class="repository-with-sidebar repo-container new-discussion-timeline js-new-discussion-timeline  ">
        <div class="repository-sidebar clearfix">
            

<div class="sunken-menu vertical-right repo-nav js-repo-nav js-repository-container-pjax js-octicon-loaders">
  <div class="sunken-menu-contents">
    <ul class="sunken-menu-group">
      <li class="tooltipped tooltipped-w" aria-label="Code">
        <a href="/lmf90409/UCSD_BigData" aria-label="Code" class="selected js-selected-navigation-item sunken-menu-item" data-gotokey="c" data-pjax="true" data-selected-links="repo_source repo_downloads repo_commits repo_tags repo_branches /lmf90409/UCSD_BigData">
          <span class="octicon octicon-code"></span> <span class="full-word">Code</span>
          <img alt="Octocat-spinner-32" class="mini-loader" height="16" src="https://github.global.ssl.fastly.net/images/spinners/octocat-spinner-32.gif" width="16" />
</a>      </li>


      <li class="tooltipped tooltipped-w" aria-label="Pull Requests">
        <a href="/lmf90409/UCSD_BigData/pulls" aria-label="Pull Requests" class="js-selected-navigation-item sunken-menu-item js-disable-pjax" data-gotokey="p" data-selected-links="repo_pulls /lmf90409/UCSD_BigData/pulls">
            <span class="octicon octicon-git-pull-request"></span> <span class="full-word">Pull Requests</span>
            <span class='counter'>0</span>
            <img alt="Octocat-spinner-32" class="mini-loader" height="16" src="https://github.global.ssl.fastly.net/images/spinners/octocat-spinner-32.gif" width="16" />
</a>      </li>


        <li class="tooltipped tooltipped-w" aria-label="Wiki">
          <a href="/lmf90409/UCSD_BigData/wiki" aria-label="Wiki" class="js-selected-navigation-item sunken-menu-item" data-pjax="true" data-selected-links="repo_wiki /lmf90409/UCSD_BigData/wiki">
            <span class="octicon octicon-book"></span> <span class="full-word">Wiki</span>
            <img alt="Octocat-spinner-32" class="mini-loader" height="16" src="https://github.global.ssl.fastly.net/images/spinners/octocat-spinner-32.gif" width="16" />
</a>        </li>
    </ul>
    <div class="sunken-menu-separator"></div>
    <ul class="sunken-menu-group">

      <li class="tooltipped tooltipped-w" aria-label="Pulse">
        <a href="/lmf90409/UCSD_BigData/pulse" aria-label="Pulse" class="js-selected-navigation-item sunken-menu-item" data-pjax="true" data-selected-links="pulse /lmf90409/UCSD_BigData/pulse">
          <span class="octicon octicon-pulse"></span> <span class="full-word">Pulse</span>
          <img alt="Octocat-spinner-32" class="mini-loader" height="16" src="https://github.global.ssl.fastly.net/images/spinners/octocat-spinner-32.gif" width="16" />
</a>      </li>

      <li class="tooltipped tooltipped-w" aria-label="Graphs">
        <a href="/lmf90409/UCSD_BigData/graphs" aria-label="Graphs" class="js-selected-navigation-item sunken-menu-item" data-pjax="true" data-selected-links="repo_graphs repo_contributors /lmf90409/UCSD_BigData/graphs">
          <span class="octicon octicon-graph"></span> <span class="full-word">Graphs</span>
          <img alt="Octocat-spinner-32" class="mini-loader" height="16" src="https://github.global.ssl.fastly.net/images/spinners/octocat-spinner-32.gif" width="16" />
</a>      </li>

      <li class="tooltipped tooltipped-w" aria-label="Network">
        <a href="/lmf90409/UCSD_BigData/network" aria-label="Network" class="js-selected-navigation-item sunken-menu-item js-disable-pjax" data-selected-links="repo_network /lmf90409/UCSD_BigData/network">
          <span class="octicon octicon-git-branch"></span> <span class="full-word">Network</span>
          <img alt="Octocat-spinner-32" class="mini-loader" height="16" src="https://github.global.ssl.fastly.net/images/spinners/octocat-spinner-32.gif" width="16" />
</a>      </li>
    </ul>


      <div class="sunken-menu-separator"></div>
      <ul class="sunken-menu-group">
        <li class="tooltipped tooltipped-w" aria-label="Settings">
          <a href="/lmf90409/UCSD_BigData/settings" aria-label="Settings" class="js-selected-navigation-item sunken-menu-item" data-pjax="true" data-selected-links="repo_settings /lmf90409/UCSD_BigData/settings">
            <span class="octicon octicon-tools"></span> <span class="full-word">Settings</span>
            <img alt="Octocat-spinner-32" class="mini-loader" height="16" src="https://github.global.ssl.fastly.net/images/spinners/octocat-spinner-32.gif" width="16" />
</a>        </li>
      </ul>
  </div>
</div>

              <div class="only-with-full-nav">
                

  

<div class="clone-url open"
  data-protocol-type="http"
  data-url="/users/set_protocol?protocol_selector=http&amp;protocol_type=push">
  <h3><strong>HTTPS</strong> clone URL</h3>
  <div class="clone-url-box">
    <input type="text" class="clone js-url-field"
           value="https://github.com/lmf90409/UCSD_BigData.git" readonly="readonly">

    <span aria-label="copy to clipboard" class="js-zeroclipboard url-box-clippy minibutton zeroclipboard-button" data-clipboard-text="https://github.com/lmf90409/UCSD_BigData.git" data-copied-hint="copied!"><span class="octicon octicon-clippy"></span></span>
  </div>
</div>

  

<div class="clone-url "
  data-protocol-type="ssh"
  data-url="/users/set_protocol?protocol_selector=ssh&amp;protocol_type=push">
  <h3><strong>SSH</strong> clone URL</h3>
  <div class="clone-url-box">
    <input type="text" class="clone js-url-field"
           value="git@github.com:lmf90409/UCSD_BigData.git" readonly="readonly">

    <span aria-label="copy to clipboard" class="js-zeroclipboard url-box-clippy minibutton zeroclipboard-button" data-clipboard-text="git@github.com:lmf90409/UCSD_BigData.git" data-copied-hint="copied!"><span class="octicon octicon-clippy"></span></span>
  </div>
</div>

  

<div class="clone-url "
  data-protocol-type="subversion"
  data-url="/users/set_protocol?protocol_selector=subversion&amp;protocol_type=push">
  <h3><strong>Subversion</strong> checkout URL</h3>
  <div class="clone-url-box">
    <input type="text" class="clone js-url-field"
           value="https://github.com/lmf90409/UCSD_BigData" readonly="readonly">

    <span aria-label="copy to clipboard" class="js-zeroclipboard url-box-clippy minibutton zeroclipboard-button" data-clipboard-text="https://github.com/lmf90409/UCSD_BigData" data-copied-hint="copied!"><span class="octicon octicon-clippy"></span></span>
  </div>
</div>


<p class="clone-options">You can clone with
      <a href="#" class="js-clone-selector" data-protocol="http">HTTPS</a>,
      <a href="#" class="js-clone-selector" data-protocol="ssh">SSH</a>,
      or <a href="#" class="js-clone-selector" data-protocol="subversion">Subversion</a>.
  <span class="help tooltipped tooltipped-n" aria-label="Get help on which URL is right for you.">
    <a href="https://help.github.com/articles/which-remote-url-should-i-use">
    <span class="octicon octicon-question"></span>
    </a>
  </span>
</p>

  <a href="http://mac.github.com" data-url="github-mac://openRepo/https://github.com/lmf90409/UCSD_BigData" class="minibutton sidebar-button js-conduit-rewrite-url" title="Save lmf90409/UCSD_BigData to your computer and use it in GitHub Desktop." aria-label="Save lmf90409/UCSD_BigData to your computer and use it in GitHub Desktop.">
    <span class="octicon octicon-device-desktop"></span>
    Clone in Desktop
  </a>


                <a href="/lmf90409/UCSD_BigData/archive/master.zip"
                   class="minibutton sidebar-button"
                   aria-label="Download lmf90409/UCSD_BigData as a zip file"
                   title="Download lmf90409/UCSD_BigData as a zip file"
                   rel="nofollow">
                  <span class="octicon octicon-cloud-download"></span>
                  Download ZIP
                </a>
              </div>
        </div><!-- /.repository-sidebar -->

        <div id="js-repo-pjax-container" class="repository-content context-loader-container" data-pjax-container>
          


<!-- blob contrib key: blob_contributors:v21:853b2348d7f08921802d98d0096515ef -->

<p title="This is a placeholder element" class="js-history-link-replace hidden"></p>

<a href="/lmf90409/UCSD_BigData/find/master" data-pjax data-hotkey="t" class="js-show-file-finder" style="display:none">Show File Finder</a>

<div class="file-navigation">
  

<div class="select-menu js-menu-container js-select-menu" >
  <span class="minibutton select-menu-button js-menu-target" data-hotkey="w"
    data-master-branch="master"
    data-ref="master"
    role="button" aria-label="Switch branches or tags" tabindex="0" aria-haspopup="true">
    <span class="octicon octicon-git-branch"></span>
    <i>branch:</i>
    <span class="js-select-button">master</span>
  </span>

  <div class="select-menu-modal-holder js-menu-content js-navigation-container" data-pjax aria-hidden="true">

    <div class="select-menu-modal">
      <div class="select-menu-header">
        <span class="select-menu-title">Switch branches/tags</span>
        <span class="octicon octicon-remove-close js-menu-close"></span>
      </div> <!-- /.select-menu-header -->

      <div class="select-menu-filters">
        <div class="select-menu-text-filter">
          <input type="text" aria-label="Find or create a branch…" id="context-commitish-filter-field" class="js-filterable-field js-navigation-enable" placeholder="Find or create a branch…">
        </div>
        <div class="select-menu-tabs">
          <ul>
            <li class="select-menu-tab">
              <a href="#" data-tab-filter="branches" class="js-select-menu-tab">Branches</a>
            </li>
            <li class="select-menu-tab">
              <a href="#" data-tab-filter="tags" class="js-select-menu-tab">Tags</a>
            </li>
          </ul>
        </div><!-- /.select-menu-tabs -->
      </div><!-- /.select-menu-filters -->

      <div class="select-menu-list select-menu-tab-bucket js-select-menu-tab-bucket" data-tab-filter="branches">

        <div data-filterable-for="context-commitish-filter-field" data-filterable-type="substring">


            <div class="select-menu-item js-navigation-item selected">
              <span class="select-menu-item-icon octicon octicon-check"></span>
              <a href="/lmf90409/UCSD_BigData/blob/master/notebooks/sklearn_Yoav/06_iris_dimensionality.ipynb"
                 data-name="master"
                 data-skip-pjax="true"
                 rel="nofollow"
                 class="js-navigation-open select-menu-item-text js-select-button-text css-truncate-target"
                 title="master">master</a>
            </div> <!-- /.select-menu-item -->
        </div>

          <form accept-charset="UTF-8" action="/lmf90409/UCSD_BigData/branches" class="js-create-branch select-menu-item select-menu-new-item-form js-navigation-item js-new-item-form" method="post"><div style="margin:0;padding:0;display:inline"><input name="authenticity_token" type="hidden" value="m3IMwaa6IxkB3lXF2eiOc3sOWpzufW2nDqmIE6nAfF11+VMtHVY9SBP+V6y7ut78TL7mGLyvWXqIaBbKNclNRg==" /></div>
            <span class="octicon octicon-git-branch-create select-menu-item-icon"></span>
            <div class="select-menu-item-text">
              <h4>Create branch: <span class="js-new-item-name"></span></h4>
              <span class="description">from ‘master’</span>
            </div>
            <input type="hidden" name="name" id="name" class="js-new-item-value">
            <input type="hidden" name="branch" id="branch" value="master" />
            <input type="hidden" name="path" id="path" value="notebooks/sklearn_Yoav/06_iris_dimensionality.ipynb" />
          </form> <!-- /.select-menu-item -->

      </div> <!-- /.select-menu-list -->

      <div class="select-menu-list select-menu-tab-bucket js-select-menu-tab-bucket" data-tab-filter="tags">
        <div data-filterable-for="context-commitish-filter-field" data-filterable-type="substring">


            <div class="select-menu-item js-navigation-item ">
              <span class="select-menu-item-icon octicon octicon-check"></span>
              <a href="/lmf90409/UCSD_BigData/tree/v1.0/notebooks/sklearn_Yoav/06_iris_dimensionality.ipynb"
                 data-name="v1.0"
                 data-skip-pjax="true"
                 rel="nofollow"
                 class="js-navigation-open select-menu-item-text js-select-button-text css-truncate-target"
                 title="v1.0">v1.0</a>
            </div> <!-- /.select-menu-item -->
        </div>

        <div class="select-menu-no-results">Nothing to show</div>
      </div> <!-- /.select-menu-list -->

    </div> <!-- /.select-menu-modal -->
  </div> <!-- /.select-menu-modal-holder -->
</div> <!-- /.select-menu -->

  <div class="breadcrumb">
    <span class='repo-root js-repo-root'><span itemscope="" itemtype="http://data-vocabulary.org/Breadcrumb"><a href="/lmf90409/UCSD_BigData" data-branch="master" data-direction="back" data-pjax="true" itemscope="url"><span itemprop="title">UCSD_BigData</span></a></span></span><span class="separator"> / </span><span itemscope="" itemtype="http://data-vocabulary.org/Breadcrumb"><a href="/lmf90409/UCSD_BigData/tree/master/notebooks" data-branch="master" data-direction="back" data-pjax="true" itemscope="url"><span itemprop="title">notebooks</span></a></span><span class="separator"> / </span><span itemscope="" itemtype="http://data-vocabulary.org/Breadcrumb"><a href="/lmf90409/UCSD_BigData/tree/master/notebooks/sklearn_Yoav" data-branch="master" data-direction="back" data-pjax="true" itemscope="url"><span itemprop="title">sklearn_Yoav</span></a></span><span class="separator"> / </span><strong class="final-path">06_iris_dimensionality.ipynb</strong> <span aria-label="copy to clipboard" class="js-zeroclipboard minibutton zeroclipboard-button" data-clipboard-text="notebooks/sklearn_Yoav/06_iris_dimensionality.ipynb" data-copied-hint="copied!"><span class="octicon octicon-clippy"></span></span>
  </div>
</div>


  <div class="commit file-history-tease">
    <img alt="" class="main-avatar js-avatar" data-user="6384979" height="24" src="https://avatars1.githubusercontent.com/u/6384979?s=140" width="24" />
    <span class="author"><a href="/lmf90409" rel="author">lmf90409</a></span>
    <local-time datetime="2014-04-21T22:39:10-07:00" from="now" title-format="%Y-%m-%d %H:%M:%S %z" title="2014-04-21 22:39:10 -0700">April 21, 2014</local-time>
    <div class="commit-title">
        <a href="/lmf90409/UCSD_BigData/commit/95a7ac694dcd4440c5caf59548e13bb116ef104f" class="message" data-pjax="true" title="Merge remote-tracking branch &#39;upstream/master&#39;

Conflicts:
	LocalScripts/LaunchNotebookServer.py
	notebooks/eigenfaces/EigenFaces.ipynb
	notebooks/sklearn_Yoav/06_iris_dimensionality.ipynb
	notebooks/weather/.ipynb_checkpoints/Weather Analysis-checkpoint.ipynb
	notebooks/weather/Weather Analysis.ipynb">Merge remote-tracking branch 'upstream/master'</a>
    </div>

    <div class="participation">
      <p class="quickstat"><a href="#blob_contributors_box" rel="facebox"><strong>2</strong>  contributors</a></p>
          <a class="avatar tooltipped tooltipped-s" aria-label="lmf90409" href="/lmf90409/UCSD_BigData/commits/master/notebooks/sklearn_Yoav/06_iris_dimensionality.ipynb?author=lmf90409"><img alt="" class=" js-avatar" data-user="6384979" height="20" src="https://avatars1.githubusercontent.com/u/6384979?s=140" width="20" /></a>
    <a class="avatar tooltipped tooltipped-s" aria-label="wchuan" href="/lmf90409/UCSD_BigData/commits/master/notebooks/sklearn_Yoav/06_iris_dimensionality.ipynb?author=wchuan"><img alt="Chuan" class=" js-avatar" data-user="2824584" height="20" src="https://avatars1.githubusercontent.com/u/2824584?s=140" width="20" /></a>


    </div>
    <div id="blob_contributors_box" style="display:none">
      <h2 class="facebox-header">Users who have contributed to this file</h2>
      <ul class="facebox-user-list">
          <li class="facebox-user-list-item">
            <img alt="" class=" js-avatar" data-user="6384979" height="24" src="https://avatars1.githubusercontent.com/u/6384979?s=140" width="24" />
            <a href="/lmf90409">lmf90409</a>
          </li>
          <li class="facebox-user-list-item">
            <img alt="Chuan" class=" js-avatar" data-user="2824584" height="24" src="https://avatars1.githubusercontent.com/u/2824584?s=140" width="24" />
            <a href="/wchuan">wchuan</a>
          </li>
      </ul>
    </div>
  </div>

<div class="file-box">
  <div class="file">
    <div class="meta clearfix">
      <div class="info file-name">
        <span class="icon"><b class="octicon octicon-file-text"></b></span>
        <span class="mode" title="File Mode">file</span>
        <span class="meta-divider"></span>
          <span>821 lines (821 sloc)</span>
          <span class="meta-divider"></span>
        <span>124.767 kb</span>
      </div>
      <div class="actions">
        <div class="button-group">
            <a class="minibutton tooltipped tooltipped-w js-conduit-openfile-check"
               href="http://mac.github.com"
               data-url="github-mac://openRepo/https://github.com/lmf90409/UCSD_BigData?branch=master&amp;filepath=notebooks%2Fsklearn_Yoav%2F06_iris_dimensionality.ipynb"
               aria-label="Open this file in GitHub for Mac"
               data-failed-title="Your version of GitHub for Mac is too old to open this file. Try checking for updates.">
                <span class="octicon octicon-device-desktop"></span> Open
            </a>
                <a class="minibutton js-update-url-with-hash"
                   href="/lmf90409/UCSD_BigData/edit/master/notebooks/sklearn_Yoav/06_iris_dimensionality.ipynb"
                   data-method="post" rel="nofollow" data-hotkey="e">Edit</a>
          <a href="/lmf90409/UCSD_BigData/raw/master/notebooks/sklearn_Yoav/06_iris_dimensionality.ipynb" class="button minibutton " id="raw-url">Raw</a>
            <a href="/lmf90409/UCSD_BigData/blame/master/notebooks/sklearn_Yoav/06_iris_dimensionality.ipynb" class="button minibutton js-update-url-with-hash">Blame</a>
          <a href="/lmf90409/UCSD_BigData/commits/master/notebooks/sklearn_Yoav/06_iris_dimensionality.ipynb" class="button minibutton " rel="nofollow">History</a>
        </div><!-- /.button-group -->

            <a class="minibutton danger empty-icon"
               href="/lmf90409/UCSD_BigData/delete/master/notebooks/sklearn_Yoav/06_iris_dimensionality.ipynb"
               data-method="post" data-test-id="delete-blob-file" rel="nofollow">

          Delete
        </a>
      </div><!-- /.actions -->
    </div>
        <div class="blob-wrapper data type-text js-blob-data">
        <table class="file-code file-diff tab-size-8">
          <tr class="file-code-line">
            <td class="blob-line-nums">
              <span id="L1" rel="#L1">1</span>
<span id="L2" rel="#L2">2</span>
<span id="L3" rel="#L3">3</span>
<span id="L4" rel="#L4">4</span>
<span id="L5" rel="#L5">5</span>
<span id="L6" rel="#L6">6</span>
<span id="L7" rel="#L7">7</span>
<span id="L8" rel="#L8">8</span>
<span id="L9" rel="#L9">9</span>
<span id="L10" rel="#L10">10</span>
<span id="L11" rel="#L11">11</span>
<span id="L12" rel="#L12">12</span>
<span id="L13" rel="#L13">13</span>
<span id="L14" rel="#L14">14</span>
<span id="L15" rel="#L15">15</span>
<span id="L16" rel="#L16">16</span>
<span id="L17" rel="#L17">17</span>
<span id="L18" rel="#L18">18</span>
<span id="L19" rel="#L19">19</span>
<span id="L20" rel="#L20">20</span>
<span id="L21" rel="#L21">21</span>
<span id="L22" rel="#L22">22</span>
<span id="L23" rel="#L23">23</span>
<span id="L24" rel="#L24">24</span>
<span id="L25" rel="#L25">25</span>
<span id="L26" rel="#L26">26</span>
<span id="L27" rel="#L27">27</span>
<span id="L28" rel="#L28">28</span>
<span id="L29" rel="#L29">29</span>
<span id="L30" rel="#L30">30</span>
<span id="L31" rel="#L31">31</span>
<span id="L32" rel="#L32">32</span>
<span id="L33" rel="#L33">33</span>
<span id="L34" rel="#L34">34</span>
<span id="L35" rel="#L35">35</span>
<span id="L36" rel="#L36">36</span>
<span id="L37" rel="#L37">37</span>
<span id="L38" rel="#L38">38</span>
<span id="L39" rel="#L39">39</span>
<span id="L40" rel="#L40">40</span>
<span id="L41" rel="#L41">41</span>
<span id="L42" rel="#L42">42</span>
<span id="L43" rel="#L43">43</span>
<span id="L44" rel="#L44">44</span>
<span id="L45" rel="#L45">45</span>
<span id="L46" rel="#L46">46</span>
<span id="L47" rel="#L47">47</span>
<span id="L48" rel="#L48">48</span>
<span id="L49" rel="#L49">49</span>
<span id="L50" rel="#L50">50</span>
<span id="L51" rel="#L51">51</span>
<span id="L52" rel="#L52">52</span>
<span id="L53" rel="#L53">53</span>
<span id="L54" rel="#L54">54</span>
<span id="L55" rel="#L55">55</span>
<span id="L56" rel="#L56">56</span>
<span id="L57" rel="#L57">57</span>
<span id="L58" rel="#L58">58</span>
<span id="L59" rel="#L59">59</span>
<span id="L60" rel="#L60">60</span>
<span id="L61" rel="#L61">61</span>
<span id="L62" rel="#L62">62</span>
<span id="L63" rel="#L63">63</span>
<span id="L64" rel="#L64">64</span>
<span id="L65" rel="#L65">65</span>
<span id="L66" rel="#L66">66</span>
<span id="L67" rel="#L67">67</span>
<span id="L68" rel="#L68">68</span>
<span id="L69" rel="#L69">69</span>
<span id="L70" rel="#L70">70</span>
<span id="L71" rel="#L71">71</span>
<span id="L72" rel="#L72">72</span>
<span id="L73" rel="#L73">73</span>
<span id="L74" rel="#L74">74</span>
<span id="L75" rel="#L75">75</span>
<span id="L76" rel="#L76">76</span>
<span id="L77" rel="#L77">77</span>
<span id="L78" rel="#L78">78</span>
<span id="L79" rel="#L79">79</span>
<span id="L80" rel="#L80">80</span>
<span id="L81" rel="#L81">81</span>
<span id="L82" rel="#L82">82</span>
<span id="L83" rel="#L83">83</span>
<span id="L84" rel="#L84">84</span>
<span id="L85" rel="#L85">85</span>
<span id="L86" rel="#L86">86</span>
<span id="L87" rel="#L87">87</span>
<span id="L88" rel="#L88">88</span>
<span id="L89" rel="#L89">89</span>
<span id="L90" rel="#L90">90</span>
<span id="L91" rel="#L91">91</span>
<span id="L92" rel="#L92">92</span>
<span id="L93" rel="#L93">93</span>
<span id="L94" rel="#L94">94</span>
<span id="L95" rel="#L95">95</span>
<span id="L96" rel="#L96">96</span>
<span id="L97" rel="#L97">97</span>
<span id="L98" rel="#L98">98</span>
<span id="L99" rel="#L99">99</span>
<span id="L100" rel="#L100">100</span>
<span id="L101" rel="#L101">101</span>
<span id="L102" rel="#L102">102</span>
<span id="L103" rel="#L103">103</span>
<span id="L104" rel="#L104">104</span>
<span id="L105" rel="#L105">105</span>
<span id="L106" rel="#L106">106</span>
<span id="L107" rel="#L107">107</span>
<span id="L108" rel="#L108">108</span>
<span id="L109" rel="#L109">109</span>
<span id="L110" rel="#L110">110</span>
<span id="L111" rel="#L111">111</span>
<span id="L112" rel="#L112">112</span>
<span id="L113" rel="#L113">113</span>
<span id="L114" rel="#L114">114</span>
<span id="L115" rel="#L115">115</span>
<span id="L116" rel="#L116">116</span>
<span id="L117" rel="#L117">117</span>
<span id="L118" rel="#L118">118</span>
<span id="L119" rel="#L119">119</span>
<span id="L120" rel="#L120">120</span>
<span id="L121" rel="#L121">121</span>
<span id="L122" rel="#L122">122</span>
<span id="L123" rel="#L123">123</span>
<span id="L124" rel="#L124">124</span>
<span id="L125" rel="#L125">125</span>
<span id="L126" rel="#L126">126</span>
<span id="L127" rel="#L127">127</span>
<span id="L128" rel="#L128">128</span>
<span id="L129" rel="#L129">129</span>
<span id="L130" rel="#L130">130</span>
<span id="L131" rel="#L131">131</span>
<span id="L132" rel="#L132">132</span>
<span id="L133" rel="#L133">133</span>
<span id="L134" rel="#L134">134</span>
<span id="L135" rel="#L135">135</span>
<span id="L136" rel="#L136">136</span>
<span id="L137" rel="#L137">137</span>
<span id="L138" rel="#L138">138</span>
<span id="L139" rel="#L139">139</span>
<span id="L140" rel="#L140">140</span>
<span id="L141" rel="#L141">141</span>
<span id="L142" rel="#L142">142</span>
<span id="L143" rel="#L143">143</span>
<span id="L144" rel="#L144">144</span>
<span id="L145" rel="#L145">145</span>
<span id="L146" rel="#L146">146</span>
<span id="L147" rel="#L147">147</span>
<span id="L148" rel="#L148">148</span>
<span id="L149" rel="#L149">149</span>
<span id="L150" rel="#L150">150</span>
<span id="L151" rel="#L151">151</span>
<span id="L152" rel="#L152">152</span>
<span id="L153" rel="#L153">153</span>
<span id="L154" rel="#L154">154</span>
<span id="L155" rel="#L155">155</span>
<span id="L156" rel="#L156">156</span>
<span id="L157" rel="#L157">157</span>
<span id="L158" rel="#L158">158</span>
<span id="L159" rel="#L159">159</span>
<span id="L160" rel="#L160">160</span>
<span id="L161" rel="#L161">161</span>
<span id="L162" rel="#L162">162</span>
<span id="L163" rel="#L163">163</span>
<span id="L164" rel="#L164">164</span>
<span id="L165" rel="#L165">165</span>
<span id="L166" rel="#L166">166</span>
<span id="L167" rel="#L167">167</span>
<span id="L168" rel="#L168">168</span>
<span id="L169" rel="#L169">169</span>
<span id="L170" rel="#L170">170</span>
<span id="L171" rel="#L171">171</span>
<span id="L172" rel="#L172">172</span>
<span id="L173" rel="#L173">173</span>
<span id="L174" rel="#L174">174</span>
<span id="L175" rel="#L175">175</span>
<span id="L176" rel="#L176">176</span>
<span id="L177" rel="#L177">177</span>
<span id="L178" rel="#L178">178</span>
<span id="L179" rel="#L179">179</span>
<span id="L180" rel="#L180">180</span>
<span id="L181" rel="#L181">181</span>
<span id="L182" rel="#L182">182</span>
<span id="L183" rel="#L183">183</span>
<span id="L184" rel="#L184">184</span>
<span id="L185" rel="#L185">185</span>
<span id="L186" rel="#L186">186</span>
<span id="L187" rel="#L187">187</span>
<span id="L188" rel="#L188">188</span>
<span id="L189" rel="#L189">189</span>
<span id="L190" rel="#L190">190</span>
<span id="L191" rel="#L191">191</span>
<span id="L192" rel="#L192">192</span>
<span id="L193" rel="#L193">193</span>
<span id="L194" rel="#L194">194</span>
<span id="L195" rel="#L195">195</span>
<span id="L196" rel="#L196">196</span>
<span id="L197" rel="#L197">197</span>
<span id="L198" rel="#L198">198</span>
<span id="L199" rel="#L199">199</span>
<span id="L200" rel="#L200">200</span>
<span id="L201" rel="#L201">201</span>
<span id="L202" rel="#L202">202</span>
<span id="L203" rel="#L203">203</span>
<span id="L204" rel="#L204">204</span>
<span id="L205" rel="#L205">205</span>
<span id="L206" rel="#L206">206</span>
<span id="L207" rel="#L207">207</span>
<span id="L208" rel="#L208">208</span>
<span id="L209" rel="#L209">209</span>
<span id="L210" rel="#L210">210</span>
<span id="L211" rel="#L211">211</span>
<span id="L212" rel="#L212">212</span>
<span id="L213" rel="#L213">213</span>
<span id="L214" rel="#L214">214</span>
<span id="L215" rel="#L215">215</span>
<span id="L216" rel="#L216">216</span>
<span id="L217" rel="#L217">217</span>
<span id="L218" rel="#L218">218</span>
<span id="L219" rel="#L219">219</span>
<span id="L220" rel="#L220">220</span>
<span id="L221" rel="#L221">221</span>
<span id="L222" rel="#L222">222</span>
<span id="L223" rel="#L223">223</span>
<span id="L224" rel="#L224">224</span>
<span id="L225" rel="#L225">225</span>
<span id="L226" rel="#L226">226</span>
<span id="L227" rel="#L227">227</span>
<span id="L228" rel="#L228">228</span>
<span id="L229" rel="#L229">229</span>
<span id="L230" rel="#L230">230</span>
<span id="L231" rel="#L231">231</span>
<span id="L232" rel="#L232">232</span>
<span id="L233" rel="#L233">233</span>
<span id="L234" rel="#L234">234</span>
<span id="L235" rel="#L235">235</span>
<span id="L236" rel="#L236">236</span>
<span id="L237" rel="#L237">237</span>
<span id="L238" rel="#L238">238</span>
<span id="L239" rel="#L239">239</span>
<span id="L240" rel="#L240">240</span>
<span id="L241" rel="#L241">241</span>
<span id="L242" rel="#L242">242</span>
<span id="L243" rel="#L243">243</span>
<span id="L244" rel="#L244">244</span>
<span id="L245" rel="#L245">245</span>
<span id="L246" rel="#L246">246</span>
<span id="L247" rel="#L247">247</span>
<span id="L248" rel="#L248">248</span>
<span id="L249" rel="#L249">249</span>
<span id="L250" rel="#L250">250</span>
<span id="L251" rel="#L251">251</span>
<span id="L252" rel="#L252">252</span>
<span id="L253" rel="#L253">253</span>
<span id="L254" rel="#L254">254</span>
<span id="L255" rel="#L255">255</span>
<span id="L256" rel="#L256">256</span>
<span id="L257" rel="#L257">257</span>
<span id="L258" rel="#L258">258</span>
<span id="L259" rel="#L259">259</span>
<span id="L260" rel="#L260">260</span>
<span id="L261" rel="#L261">261</span>
<span id="L262" rel="#L262">262</span>
<span id="L263" rel="#L263">263</span>
<span id="L264" rel="#L264">264</span>
<span id="L265" rel="#L265">265</span>
<span id="L266" rel="#L266">266</span>
<span id="L267" rel="#L267">267</span>
<span id="L268" rel="#L268">268</span>
<span id="L269" rel="#L269">269</span>
<span id="L270" rel="#L270">270</span>
<span id="L271" rel="#L271">271</span>
<span id="L272" rel="#L272">272</span>
<span id="L273" rel="#L273">273</span>
<span id="L274" rel="#L274">274</span>
<span id="L275" rel="#L275">275</span>
<span id="L276" rel="#L276">276</span>
<span id="L277" rel="#L277">277</span>
<span id="L278" rel="#L278">278</span>
<span id="L279" rel="#L279">279</span>
<span id="L280" rel="#L280">280</span>
<span id="L281" rel="#L281">281</span>
<span id="L282" rel="#L282">282</span>
<span id="L283" rel="#L283">283</span>
<span id="L284" rel="#L284">284</span>
<span id="L285" rel="#L285">285</span>
<span id="L286" rel="#L286">286</span>
<span id="L287" rel="#L287">287</span>
<span id="L288" rel="#L288">288</span>
<span id="L289" rel="#L289">289</span>
<span id="L290" rel="#L290">290</span>
<span id="L291" rel="#L291">291</span>
<span id="L292" rel="#L292">292</span>
<span id="L293" rel="#L293">293</span>
<span id="L294" rel="#L294">294</span>
<span id="L295" rel="#L295">295</span>
<span id="L296" rel="#L296">296</span>
<span id="L297" rel="#L297">297</span>
<span id="L298" rel="#L298">298</span>
<span id="L299" rel="#L299">299</span>
<span id="L300" rel="#L300">300</span>
<span id="L301" rel="#L301">301</span>
<span id="L302" rel="#L302">302</span>
<span id="L303" rel="#L303">303</span>
<span id="L304" rel="#L304">304</span>
<span id="L305" rel="#L305">305</span>
<span id="L306" rel="#L306">306</span>
<span id="L307" rel="#L307">307</span>
<span id="L308" rel="#L308">308</span>
<span id="L309" rel="#L309">309</span>
<span id="L310" rel="#L310">310</span>
<span id="L311" rel="#L311">311</span>
<span id="L312" rel="#L312">312</span>
<span id="L313" rel="#L313">313</span>
<span id="L314" rel="#L314">314</span>
<span id="L315" rel="#L315">315</span>
<span id="L316" rel="#L316">316</span>
<span id="L317" rel="#L317">317</span>
<span id="L318" rel="#L318">318</span>
<span id="L319" rel="#L319">319</span>
<span id="L320" rel="#L320">320</span>
<span id="L321" rel="#L321">321</span>
<span id="L322" rel="#L322">322</span>
<span id="L323" rel="#L323">323</span>
<span id="L324" rel="#L324">324</span>
<span id="L325" rel="#L325">325</span>
<span id="L326" rel="#L326">326</span>
<span id="L327" rel="#L327">327</span>
<span id="L328" rel="#L328">328</span>
<span id="L329" rel="#L329">329</span>
<span id="L330" rel="#L330">330</span>
<span id="L331" rel="#L331">331</span>
<span id="L332" rel="#L332">332</span>
<span id="L333" rel="#L333">333</span>
<span id="L334" rel="#L334">334</span>
<span id="L335" rel="#L335">335</span>
<span id="L336" rel="#L336">336</span>
<span id="L337" rel="#L337">337</span>
<span id="L338" rel="#L338">338</span>
<span id="L339" rel="#L339">339</span>
<span id="L340" rel="#L340">340</span>
<span id="L341" rel="#L341">341</span>
<span id="L342" rel="#L342">342</span>
<span id="L343" rel="#L343">343</span>
<span id="L344" rel="#L344">344</span>
<span id="L345" rel="#L345">345</span>
<span id="L346" rel="#L346">346</span>
<span id="L347" rel="#L347">347</span>
<span id="L348" rel="#L348">348</span>
<span id="L349" rel="#L349">349</span>
<span id="L350" rel="#L350">350</span>
<span id="L351" rel="#L351">351</span>
<span id="L352" rel="#L352">352</span>
<span id="L353" rel="#L353">353</span>
<span id="L354" rel="#L354">354</span>
<span id="L355" rel="#L355">355</span>
<span id="L356" rel="#L356">356</span>
<span id="L357" rel="#L357">357</span>
<span id="L358" rel="#L358">358</span>
<span id="L359" rel="#L359">359</span>
<span id="L360" rel="#L360">360</span>
<span id="L361" rel="#L361">361</span>
<span id="L362" rel="#L362">362</span>
<span id="L363" rel="#L363">363</span>
<span id="L364" rel="#L364">364</span>
<span id="L365" rel="#L365">365</span>
<span id="L366" rel="#L366">366</span>
<span id="L367" rel="#L367">367</span>
<span id="L368" rel="#L368">368</span>
<span id="L369" rel="#L369">369</span>
<span id="L370" rel="#L370">370</span>
<span id="L371" rel="#L371">371</span>
<span id="L372" rel="#L372">372</span>
<span id="L373" rel="#L373">373</span>
<span id="L374" rel="#L374">374</span>
<span id="L375" rel="#L375">375</span>
<span id="L376" rel="#L376">376</span>
<span id="L377" rel="#L377">377</span>
<span id="L378" rel="#L378">378</span>
<span id="L379" rel="#L379">379</span>
<span id="L380" rel="#L380">380</span>
<span id="L381" rel="#L381">381</span>
<span id="L382" rel="#L382">382</span>
<span id="L383" rel="#L383">383</span>
<span id="L384" rel="#L384">384</span>
<span id="L385" rel="#L385">385</span>
<span id="L386" rel="#L386">386</span>
<span id="L387" rel="#L387">387</span>
<span id="L388" rel="#L388">388</span>
<span id="L389" rel="#L389">389</span>
<span id="L390" rel="#L390">390</span>
<span id="L391" rel="#L391">391</span>
<span id="L392" rel="#L392">392</span>
<span id="L393" rel="#L393">393</span>
<span id="L394" rel="#L394">394</span>
<span id="L395" rel="#L395">395</span>
<span id="L396" rel="#L396">396</span>
<span id="L397" rel="#L397">397</span>
<span id="L398" rel="#L398">398</span>
<span id="L399" rel="#L399">399</span>
<span id="L400" rel="#L400">400</span>
<span id="L401" rel="#L401">401</span>
<span id="L402" rel="#L402">402</span>
<span id="L403" rel="#L403">403</span>
<span id="L404" rel="#L404">404</span>
<span id="L405" rel="#L405">405</span>
<span id="L406" rel="#L406">406</span>
<span id="L407" rel="#L407">407</span>
<span id="L408" rel="#L408">408</span>
<span id="L409" rel="#L409">409</span>
<span id="L410" rel="#L410">410</span>
<span id="L411" rel="#L411">411</span>
<span id="L412" rel="#L412">412</span>
<span id="L413" rel="#L413">413</span>
<span id="L414" rel="#L414">414</span>
<span id="L415" rel="#L415">415</span>
<span id="L416" rel="#L416">416</span>
<span id="L417" rel="#L417">417</span>
<span id="L418" rel="#L418">418</span>
<span id="L419" rel="#L419">419</span>
<span id="L420" rel="#L420">420</span>
<span id="L421" rel="#L421">421</span>
<span id="L422" rel="#L422">422</span>
<span id="L423" rel="#L423">423</span>
<span id="L424" rel="#L424">424</span>
<span id="L425" rel="#L425">425</span>
<span id="L426" rel="#L426">426</span>
<span id="L427" rel="#L427">427</span>
<span id="L428" rel="#L428">428</span>
<span id="L429" rel="#L429">429</span>
<span id="L430" rel="#L430">430</span>
<span id="L431" rel="#L431">431</span>
<span id="L432" rel="#L432">432</span>
<span id="L433" rel="#L433">433</span>
<span id="L434" rel="#L434">434</span>
<span id="L435" rel="#L435">435</span>
<span id="L436" rel="#L436">436</span>
<span id="L437" rel="#L437">437</span>
<span id="L438" rel="#L438">438</span>
<span id="L439" rel="#L439">439</span>
<span id="L440" rel="#L440">440</span>
<span id="L441" rel="#L441">441</span>
<span id="L442" rel="#L442">442</span>
<span id="L443" rel="#L443">443</span>
<span id="L444" rel="#L444">444</span>
<span id="L445" rel="#L445">445</span>
<span id="L446" rel="#L446">446</span>
<span id="L447" rel="#L447">447</span>
<span id="L448" rel="#L448">448</span>
<span id="L449" rel="#L449">449</span>
<span id="L450" rel="#L450">450</span>
<span id="L451" rel="#L451">451</span>
<span id="L452" rel="#L452">452</span>
<span id="L453" rel="#L453">453</span>
<span id="L454" rel="#L454">454</span>
<span id="L455" rel="#L455">455</span>
<span id="L456" rel="#L456">456</span>
<span id="L457" rel="#L457">457</span>
<span id="L458" rel="#L458">458</span>
<span id="L459" rel="#L459">459</span>
<span id="L460" rel="#L460">460</span>
<span id="L461" rel="#L461">461</span>
<span id="L462" rel="#L462">462</span>
<span id="L463" rel="#L463">463</span>
<span id="L464" rel="#L464">464</span>
<span id="L465" rel="#L465">465</span>
<span id="L466" rel="#L466">466</span>
<span id="L467" rel="#L467">467</span>
<span id="L468" rel="#L468">468</span>
<span id="L469" rel="#L469">469</span>
<span id="L470" rel="#L470">470</span>
<span id="L471" rel="#L471">471</span>
<span id="L472" rel="#L472">472</span>
<span id="L473" rel="#L473">473</span>
<span id="L474" rel="#L474">474</span>
<span id="L475" rel="#L475">475</span>
<span id="L476" rel="#L476">476</span>
<span id="L477" rel="#L477">477</span>
<span id="L478" rel="#L478">478</span>
<span id="L479" rel="#L479">479</span>
<span id="L480" rel="#L480">480</span>
<span id="L481" rel="#L481">481</span>
<span id="L482" rel="#L482">482</span>
<span id="L483" rel="#L483">483</span>
<span id="L484" rel="#L484">484</span>
<span id="L485" rel="#L485">485</span>
<span id="L486" rel="#L486">486</span>
<span id="L487" rel="#L487">487</span>
<span id="L488" rel="#L488">488</span>
<span id="L489" rel="#L489">489</span>
<span id="L490" rel="#L490">490</span>
<span id="L491" rel="#L491">491</span>
<span id="L492" rel="#L492">492</span>
<span id="L493" rel="#L493">493</span>
<span id="L494" rel="#L494">494</span>
<span id="L495" rel="#L495">495</span>
<span id="L496" rel="#L496">496</span>
<span id="L497" rel="#L497">497</span>
<span id="L498" rel="#L498">498</span>
<span id="L499" rel="#L499">499</span>
<span id="L500" rel="#L500">500</span>
<span id="L501" rel="#L501">501</span>
<span id="L502" rel="#L502">502</span>
<span id="L503" rel="#L503">503</span>
<span id="L504" rel="#L504">504</span>
<span id="L505" rel="#L505">505</span>
<span id="L506" rel="#L506">506</span>
<span id="L507" rel="#L507">507</span>
<span id="L508" rel="#L508">508</span>
<span id="L509" rel="#L509">509</span>
<span id="L510" rel="#L510">510</span>
<span id="L511" rel="#L511">511</span>
<span id="L512" rel="#L512">512</span>
<span id="L513" rel="#L513">513</span>
<span id="L514" rel="#L514">514</span>
<span id="L515" rel="#L515">515</span>
<span id="L516" rel="#L516">516</span>
<span id="L517" rel="#L517">517</span>
<span id="L518" rel="#L518">518</span>
<span id="L519" rel="#L519">519</span>
<span id="L520" rel="#L520">520</span>
<span id="L521" rel="#L521">521</span>
<span id="L522" rel="#L522">522</span>
<span id="L523" rel="#L523">523</span>
<span id="L524" rel="#L524">524</span>
<span id="L525" rel="#L525">525</span>
<span id="L526" rel="#L526">526</span>
<span id="L527" rel="#L527">527</span>
<span id="L528" rel="#L528">528</span>
<span id="L529" rel="#L529">529</span>
<span id="L530" rel="#L530">530</span>
<span id="L531" rel="#L531">531</span>
<span id="L532" rel="#L532">532</span>
<span id="L533" rel="#L533">533</span>
<span id="L534" rel="#L534">534</span>
<span id="L535" rel="#L535">535</span>
<span id="L536" rel="#L536">536</span>
<span id="L537" rel="#L537">537</span>
<span id="L538" rel="#L538">538</span>
<span id="L539" rel="#L539">539</span>
<span id="L540" rel="#L540">540</span>
<span id="L541" rel="#L541">541</span>
<span id="L542" rel="#L542">542</span>
<span id="L543" rel="#L543">543</span>
<span id="L544" rel="#L544">544</span>
<span id="L545" rel="#L545">545</span>
<span id="L546" rel="#L546">546</span>
<span id="L547" rel="#L547">547</span>
<span id="L548" rel="#L548">548</span>
<span id="L549" rel="#L549">549</span>
<span id="L550" rel="#L550">550</span>
<span id="L551" rel="#L551">551</span>
<span id="L552" rel="#L552">552</span>
<span id="L553" rel="#L553">553</span>
<span id="L554" rel="#L554">554</span>
<span id="L555" rel="#L555">555</span>
<span id="L556" rel="#L556">556</span>
<span id="L557" rel="#L557">557</span>
<span id="L558" rel="#L558">558</span>
<span id="L559" rel="#L559">559</span>
<span id="L560" rel="#L560">560</span>
<span id="L561" rel="#L561">561</span>
<span id="L562" rel="#L562">562</span>
<span id="L563" rel="#L563">563</span>
<span id="L564" rel="#L564">564</span>
<span id="L565" rel="#L565">565</span>
<span id="L566" rel="#L566">566</span>
<span id="L567" rel="#L567">567</span>
<span id="L568" rel="#L568">568</span>
<span id="L569" rel="#L569">569</span>
<span id="L570" rel="#L570">570</span>
<span id="L571" rel="#L571">571</span>
<span id="L572" rel="#L572">572</span>
<span id="L573" rel="#L573">573</span>
<span id="L574" rel="#L574">574</span>
<span id="L575" rel="#L575">575</span>
<span id="L576" rel="#L576">576</span>
<span id="L577" rel="#L577">577</span>
<span id="L578" rel="#L578">578</span>
<span id="L579" rel="#L579">579</span>
<span id="L580" rel="#L580">580</span>
<span id="L581" rel="#L581">581</span>
<span id="L582" rel="#L582">582</span>
<span id="L583" rel="#L583">583</span>
<span id="L584" rel="#L584">584</span>
<span id="L585" rel="#L585">585</span>
<span id="L586" rel="#L586">586</span>
<span id="L587" rel="#L587">587</span>
<span id="L588" rel="#L588">588</span>
<span id="L589" rel="#L589">589</span>
<span id="L590" rel="#L590">590</span>
<span id="L591" rel="#L591">591</span>
<span id="L592" rel="#L592">592</span>
<span id="L593" rel="#L593">593</span>
<span id="L594" rel="#L594">594</span>
<span id="L595" rel="#L595">595</span>
<span id="L596" rel="#L596">596</span>
<span id="L597" rel="#L597">597</span>
<span id="L598" rel="#L598">598</span>
<span id="L599" rel="#L599">599</span>
<span id="L600" rel="#L600">600</span>
<span id="L601" rel="#L601">601</span>
<span id="L602" rel="#L602">602</span>
<span id="L603" rel="#L603">603</span>
<span id="L604" rel="#L604">604</span>
<span id="L605" rel="#L605">605</span>
<span id="L606" rel="#L606">606</span>
<span id="L607" rel="#L607">607</span>
<span id="L608" rel="#L608">608</span>
<span id="L609" rel="#L609">609</span>
<span id="L610" rel="#L610">610</span>
<span id="L611" rel="#L611">611</span>
<span id="L612" rel="#L612">612</span>
<span id="L613" rel="#L613">613</span>
<span id="L614" rel="#L614">614</span>
<span id="L615" rel="#L615">615</span>
<span id="L616" rel="#L616">616</span>
<span id="L617" rel="#L617">617</span>
<span id="L618" rel="#L618">618</span>
<span id="L619" rel="#L619">619</span>
<span id="L620" rel="#L620">620</span>
<span id="L621" rel="#L621">621</span>
<span id="L622" rel="#L622">622</span>
<span id="L623" rel="#L623">623</span>
<span id="L624" rel="#L624">624</span>
<span id="L625" rel="#L625">625</span>
<span id="L626" rel="#L626">626</span>
<span id="L627" rel="#L627">627</span>
<span id="L628" rel="#L628">628</span>
<span id="L629" rel="#L629">629</span>
<span id="L630" rel="#L630">630</span>
<span id="L631" rel="#L631">631</span>
<span id="L632" rel="#L632">632</span>
<span id="L633" rel="#L633">633</span>
<span id="L634" rel="#L634">634</span>
<span id="L635" rel="#L635">635</span>
<span id="L636" rel="#L636">636</span>
<span id="L637" rel="#L637">637</span>
<span id="L638" rel="#L638">638</span>
<span id="L639" rel="#L639">639</span>
<span id="L640" rel="#L640">640</span>
<span id="L641" rel="#L641">641</span>
<span id="L642" rel="#L642">642</span>
<span id="L643" rel="#L643">643</span>
<span id="L644" rel="#L644">644</span>
<span id="L645" rel="#L645">645</span>
<span id="L646" rel="#L646">646</span>
<span id="L647" rel="#L647">647</span>
<span id="L648" rel="#L648">648</span>
<span id="L649" rel="#L649">649</span>
<span id="L650" rel="#L650">650</span>
<span id="L651" rel="#L651">651</span>
<span id="L652" rel="#L652">652</span>
<span id="L653" rel="#L653">653</span>
<span id="L654" rel="#L654">654</span>
<span id="L655" rel="#L655">655</span>
<span id="L656" rel="#L656">656</span>
<span id="L657" rel="#L657">657</span>
<span id="L658" rel="#L658">658</span>
<span id="L659" rel="#L659">659</span>
<span id="L660" rel="#L660">660</span>
<span id="L661" rel="#L661">661</span>
<span id="L662" rel="#L662">662</span>
<span id="L663" rel="#L663">663</span>
<span id="L664" rel="#L664">664</span>
<span id="L665" rel="#L665">665</span>
<span id="L666" rel="#L666">666</span>
<span id="L667" rel="#L667">667</span>
<span id="L668" rel="#L668">668</span>
<span id="L669" rel="#L669">669</span>
<span id="L670" rel="#L670">670</span>
<span id="L671" rel="#L671">671</span>
<span id="L672" rel="#L672">672</span>
<span id="L673" rel="#L673">673</span>
<span id="L674" rel="#L674">674</span>
<span id="L675" rel="#L675">675</span>
<span id="L676" rel="#L676">676</span>
<span id="L677" rel="#L677">677</span>
<span id="L678" rel="#L678">678</span>
<span id="L679" rel="#L679">679</span>
<span id="L680" rel="#L680">680</span>
<span id="L681" rel="#L681">681</span>
<span id="L682" rel="#L682">682</span>
<span id="L683" rel="#L683">683</span>
<span id="L684" rel="#L684">684</span>
<span id="L685" rel="#L685">685</span>
<span id="L686" rel="#L686">686</span>
<span id="L687" rel="#L687">687</span>
<span id="L688" rel="#L688">688</span>
<span id="L689" rel="#L689">689</span>
<span id="L690" rel="#L690">690</span>
<span id="L691" rel="#L691">691</span>
<span id="L692" rel="#L692">692</span>
<span id="L693" rel="#L693">693</span>
<span id="L694" rel="#L694">694</span>
<span id="L695" rel="#L695">695</span>
<span id="L696" rel="#L696">696</span>
<span id="L697" rel="#L697">697</span>
<span id="L698" rel="#L698">698</span>
<span id="L699" rel="#L699">699</span>
<span id="L700" rel="#L700">700</span>
<span id="L701" rel="#L701">701</span>
<span id="L702" rel="#L702">702</span>
<span id="L703" rel="#L703">703</span>
<span id="L704" rel="#L704">704</span>
<span id="L705" rel="#L705">705</span>
<span id="L706" rel="#L706">706</span>
<span id="L707" rel="#L707">707</span>
<span id="L708" rel="#L708">708</span>
<span id="L709" rel="#L709">709</span>
<span id="L710" rel="#L710">710</span>
<span id="L711" rel="#L711">711</span>
<span id="L712" rel="#L712">712</span>
<span id="L713" rel="#L713">713</span>
<span id="L714" rel="#L714">714</span>
<span id="L715" rel="#L715">715</span>
<span id="L716" rel="#L716">716</span>
<span id="L717" rel="#L717">717</span>
<span id="L718" rel="#L718">718</span>
<span id="L719" rel="#L719">719</span>
<span id="L720" rel="#L720">720</span>
<span id="L721" rel="#L721">721</span>
<span id="L722" rel="#L722">722</span>
<span id="L723" rel="#L723">723</span>
<span id="L724" rel="#L724">724</span>
<span id="L725" rel="#L725">725</span>
<span id="L726" rel="#L726">726</span>
<span id="L727" rel="#L727">727</span>
<span id="L728" rel="#L728">728</span>
<span id="L729" rel="#L729">729</span>
<span id="L730" rel="#L730">730</span>
<span id="L731" rel="#L731">731</span>
<span id="L732" rel="#L732">732</span>
<span id="L733" rel="#L733">733</span>
<span id="L734" rel="#L734">734</span>
<span id="L735" rel="#L735">735</span>
<span id="L736" rel="#L736">736</span>
<span id="L737" rel="#L737">737</span>
<span id="L738" rel="#L738">738</span>
<span id="L739" rel="#L739">739</span>
<span id="L740" rel="#L740">740</span>
<span id="L741" rel="#L741">741</span>
<span id="L742" rel="#L742">742</span>
<span id="L743" rel="#L743">743</span>
<span id="L744" rel="#L744">744</span>
<span id="L745" rel="#L745">745</span>
<span id="L746" rel="#L746">746</span>
<span id="L747" rel="#L747">747</span>
<span id="L748" rel="#L748">748</span>
<span id="L749" rel="#L749">749</span>
<span id="L750" rel="#L750">750</span>
<span id="L751" rel="#L751">751</span>
<span id="L752" rel="#L752">752</span>
<span id="L753" rel="#L753">753</span>
<span id="L754" rel="#L754">754</span>
<span id="L755" rel="#L755">755</span>
<span id="L756" rel="#L756">756</span>
<span id="L757" rel="#L757">757</span>
<span id="L758" rel="#L758">758</span>
<span id="L759" rel="#L759">759</span>
<span id="L760" rel="#L760">760</span>
<span id="L761" rel="#L761">761</span>
<span id="L762" rel="#L762">762</span>
<span id="L763" rel="#L763">763</span>
<span id="L764" rel="#L764">764</span>
<span id="L765" rel="#L765">765</span>
<span id="L766" rel="#L766">766</span>
<span id="L767" rel="#L767">767</span>
<span id="L768" rel="#L768">768</span>
<span id="L769" rel="#L769">769</span>
<span id="L770" rel="#L770">770</span>
<span id="L771" rel="#L771">771</span>
<span id="L772" rel="#L772">772</span>
<span id="L773" rel="#L773">773</span>
<span id="L774" rel="#L774">774</span>
<span id="L775" rel="#L775">775</span>
<span id="L776" rel="#L776">776</span>
<span id="L777" rel="#L777">777</span>
<span id="L778" rel="#L778">778</span>
<span id="L779" rel="#L779">779</span>
<span id="L780" rel="#L780">780</span>
<span id="L781" rel="#L781">781</span>
<span id="L782" rel="#L782">782</span>
<span id="L783" rel="#L783">783</span>
<span id="L784" rel="#L784">784</span>
<span id="L785" rel="#L785">785</span>
<span id="L786" rel="#L786">786</span>
<span id="L787" rel="#L787">787</span>
<span id="L788" rel="#L788">788</span>
<span id="L789" rel="#L789">789</span>
<span id="L790" rel="#L790">790</span>
<span id="L791" rel="#L791">791</span>
<span id="L792" rel="#L792">792</span>
<span id="L793" rel="#L793">793</span>
<span id="L794" rel="#L794">794</span>
<span id="L795" rel="#L795">795</span>
<span id="L796" rel="#L796">796</span>
<span id="L797" rel="#L797">797</span>
<span id="L798" rel="#L798">798</span>
<span id="L799" rel="#L799">799</span>
<span id="L800" rel="#L800">800</span>
<span id="L801" rel="#L801">801</span>
<span id="L802" rel="#L802">802</span>
<span id="L803" rel="#L803">803</span>
<span id="L804" rel="#L804">804</span>
<span id="L805" rel="#L805">805</span>
<span id="L806" rel="#L806">806</span>
<span id="L807" rel="#L807">807</span>
<span id="L808" rel="#L808">808</span>
<span id="L809" rel="#L809">809</span>
<span id="L810" rel="#L810">810</span>
<span id="L811" rel="#L811">811</span>
<span id="L812" rel="#L812">812</span>
<span id="L813" rel="#L813">813</span>
<span id="L814" rel="#L814">814</span>
<span id="L815" rel="#L815">815</span>
<span id="L816" rel="#L816">816</span>
<span id="L817" rel="#L817">817</span>
<span id="L818" rel="#L818">818</span>
<span id="L819" rel="#L819">819</span>
<span id="L820" rel="#L820">820</span>
<span id="L821" rel="#L821">821</span>

            </td>
            <td class="blob-line-code"><div class="code-body highlight"><pre><div class='line' id='LC1'>{</div><div class='line' id='LC2'>&nbsp;&quot;metadata&quot;: {</div><div class='line' id='LC3'>&nbsp;&nbsp;&quot;name&quot;: &quot;&quot;,</div><div class='line' id='LC4'>&nbsp;&nbsp;&quot;signature&quot;: &quot;sha256:e090aacaf5f285c583615a5ad4b09131650bc8a135fc666a62be6ef05cea88ae&quot;</div><div class='line' id='LC5'>&nbsp;},</div><div class='line' id='LC6'>&nbsp;&quot;nbformat&quot;: 3,</div><div class='line' id='LC7'>&nbsp;&quot;nbformat_minor&quot;: 0,</div><div class='line' id='LC8'>&nbsp;&quot;worksheets&quot;: [</div><div class='line' id='LC9'>&nbsp;&nbsp;{</div><div class='line' id='LC10'>&nbsp;&nbsp;&nbsp;&quot;cells&quot;: [</div><div class='line' id='LC11'>&nbsp;&nbsp;&nbsp;&nbsp;{</div><div class='line' id='LC12'>&nbsp;&nbsp;&nbsp;&nbsp;&nbsp;&quot;cell_type&quot;: &quot;heading&quot;,</div><div class='line' id='LC13'>&nbsp;&nbsp;&nbsp;&nbsp;&nbsp;&quot;level&quot;: 1,</div><div class='line' id='LC14'>&nbsp;&nbsp;&nbsp;&nbsp;&nbsp;&quot;metadata&quot;: {},</div><div class='line' id='LC15'>&nbsp;&nbsp;&nbsp;&nbsp;&nbsp;&quot;source&quot;: [</div><div class='line' id='LC16'>&nbsp;&nbsp;&nbsp;&nbsp;&nbsp;&nbsp;&quot;Unsupervised Learning: Dimensionality Reduction and Visualization&quot;</div><div class='line' id='LC17'>&nbsp;&nbsp;&nbsp;&nbsp;&nbsp;]</div><div class='line' id='LC18'>&nbsp;&nbsp;&nbsp;&nbsp;},</div><div class='line' id='LC19'>&nbsp;&nbsp;&nbsp;&nbsp;{</div><div class='line' id='LC20'>&nbsp;&nbsp;&nbsp;&nbsp;&nbsp;&quot;cell_type&quot;: &quot;markdown&quot;,</div><div class='line' id='LC21'>&nbsp;&nbsp;&nbsp;&nbsp;&nbsp;&quot;metadata&quot;: {},</div><div class='line' id='LC22'>&nbsp;&nbsp;&nbsp;&nbsp;&nbsp;&quot;source&quot;: [</div><div class='line' id='LC23'>&nbsp;&nbsp;&nbsp;&nbsp;&nbsp;&nbsp;&quot;Previously we worked on visualizing the iris data by plotting\n&quot;,</div><div class='line' id='LC24'>&nbsp;&nbsp;&nbsp;&nbsp;&nbsp;&nbsp;&quot;pairs of dimensions by trial and error, until we arrived at\n&quot;,</div><div class='line' id='LC25'>&nbsp;&nbsp;&nbsp;&nbsp;&nbsp;&nbsp;&quot;the best pair of dimensions for our dataset.  Here we will\n&quot;,</div><div class='line' id='LC26'>&nbsp;&nbsp;&nbsp;&nbsp;&nbsp;&nbsp;&quot;use an unsupervised *dimensionality reduction* algorithm\n&quot;,</div><div class='line' id='LC27'>&nbsp;&nbsp;&nbsp;&nbsp;&nbsp;&nbsp;&quot;to accomplish this more automatically.&quot;</div><div class='line' id='LC28'>&nbsp;&nbsp;&nbsp;&nbsp;&nbsp;]</div><div class='line' id='LC29'>&nbsp;&nbsp;&nbsp;&nbsp;},</div><div class='line' id='LC30'>&nbsp;&nbsp;&nbsp;&nbsp;{</div><div class='line' id='LC31'>&nbsp;&nbsp;&nbsp;&nbsp;&nbsp;&quot;cell_type&quot;: &quot;markdown&quot;,</div><div class='line' id='LC32'>&nbsp;&nbsp;&nbsp;&nbsp;&nbsp;&quot;metadata&quot;: {},</div><div class='line' id='LC33'>&nbsp;&nbsp;&nbsp;&nbsp;&nbsp;&quot;source&quot;: [</div><div class='line' id='LC34'>&nbsp;&nbsp;&nbsp;&nbsp;&nbsp;&nbsp;&quot;By the end of this section you will\n&quot;,</div><div class='line' id='LC35'>&nbsp;&nbsp;&nbsp;&nbsp;&nbsp;&nbsp;&quot;\n&quot;,</div><div class='line' id='LC36'>&nbsp;&nbsp;&nbsp;&nbsp;&nbsp;&nbsp;&quot;- Know how to instantiate and train an unsupervised dimensionality reduction algorithm:\n&quot;,</div><div class='line' id='LC37'>&nbsp;&nbsp;&nbsp;&nbsp;&nbsp;&nbsp;&quot;  Principal Component Analysis (PCA)\n&quot;,</div><div class='line' id='LC38'>&nbsp;&nbsp;&nbsp;&nbsp;&nbsp;&nbsp;&quot;- Know how to use PCA to visualize high-dimensional data&quot;</div><div class='line' id='LC39'>&nbsp;&nbsp;&nbsp;&nbsp;&nbsp;]</div><div class='line' id='LC40'>&nbsp;&nbsp;&nbsp;&nbsp;},</div><div class='line' id='LC41'>&nbsp;&nbsp;&nbsp;&nbsp;{</div><div class='line' id='LC42'>&lt;&lt;&lt;&lt;&lt;&lt;&lt; HEAD</div><div class='line' id='LC43'>=======</div><div class='line' id='LC44'>&nbsp;&nbsp;&nbsp;&nbsp;&nbsp;&quot;cell_type&quot;: &quot;markdown&quot;,</div><div class='line' id='LC45'>&nbsp;&nbsp;&nbsp;&nbsp;&nbsp;&quot;metadata&quot;: {},</div><div class='line' id='LC46'>&nbsp;&nbsp;&nbsp;&nbsp;&nbsp;&quot;source&quot;: [</div><div class='line' id='LC47'>&nbsp;&nbsp;&nbsp;&nbsp;&nbsp;&nbsp;&quot;## The Math of PCA ###\n&quot;,</div><div class='line' id='LC48'>&nbsp;&nbsp;&nbsp;&nbsp;&nbsp;&nbsp;&quot;\n&quot;,</div><div class='line' id='LC49'>&nbsp;&nbsp;&nbsp;&nbsp;&nbsp;&nbsp;&quot;We start with PCA in 2D, which is convinient because we can plot everything. Performing PCA in 2D corrsponds to identifying the rotation \n&quot;,</div><div class='line' id='LC50'>&nbsp;&nbsp;&nbsp;&nbsp;&nbsp;&nbsp;&quot;and scaling of the data so that the coordinates become uncorrelated with variance of 1 each.\n&quot;,</div><div class='line' id='LC51'>&nbsp;&nbsp;&nbsp;&nbsp;&nbsp;&nbsp;&quot;\n&quot;,</div><div class='line' id='LC52'>&nbsp;&nbsp;&nbsp;&nbsp;&nbsp;&nbsp;&quot;The matrix that describes a 2D rotation around the origin with angle $\\theta$ is\n&quot;,</div><div class='line' id='LC53'>&nbsp;&nbsp;&nbsp;&nbsp;&nbsp;&nbsp;&quot;\n&quot;,</div><div class='line' id='LC54'>&nbsp;&nbsp;&nbsp;&nbsp;&nbsp;&nbsp;&quot;&lt;img src=\&quot;files/Rotation_matrix.jpg\&quot;/&gt;&quot;</div><div class='line' id='LC55'>&nbsp;&nbsp;&nbsp;&nbsp;&nbsp;]</div><div class='line' id='LC56'>&nbsp;&nbsp;&nbsp;&nbsp;},</div><div class='line' id='LC57'>&nbsp;&nbsp;&nbsp;&nbsp;{</div><div class='line' id='LC58'>&nbsp;&nbsp;&nbsp;&nbsp;&nbsp;&quot;cell_type&quot;: &quot;code&quot;,</div><div class='line' id='LC59'>&nbsp;&nbsp;&nbsp;&nbsp;&nbsp;&quot;collapsed&quot;: false,</div><div class='line' id='LC60'>&nbsp;&nbsp;&nbsp;&nbsp;&nbsp;&quot;input&quot;: [</div><div class='line' id='LC61'>&nbsp;&nbsp;&nbsp;&nbsp;&nbsp;&nbsp;&quot;from random import uniform\n&quot;,</div><div class='line' id='LC62'>&nbsp;&nbsp;&nbsp;&nbsp;&nbsp;&nbsp;&quot;from numpy.linalg import norm\n&quot;,</div><div class='line' id='LC63'>&nbsp;&nbsp;&nbsp;&nbsp;&nbsp;&nbsp;&quot;n=1000\n&quot;,</div><div class='line' id='LC64'>&nbsp;&nbsp;&nbsp;&nbsp;&nbsp;&nbsp;&quot;i=0\n&quot;,</div><div class='line' id='LC65'>&nbsp;&nbsp;&nbsp;&nbsp;&nbsp;&nbsp;&quot;shift=np.matrix([[3],[5]])\n&quot;,</div><div class='line' id='LC66'>&nbsp;&nbsp;&nbsp;&nbsp;&nbsp;&nbsp;&quot;theta=0.5\n&quot;,</div><div class='line' id='LC67'>&nbsp;&nbsp;&nbsp;&nbsp;&nbsp;&nbsp;&quot;rotation=np.matrix([[cos(theta),-sin(theta)],[sin(theta),cos(theta)]])\n&quot;,</div><div class='line' id='LC68'>&nbsp;&nbsp;&nbsp;&nbsp;&nbsp;&nbsp;&quot;scale=np.matrix([1,0.1]).transpose()\n&quot;,</div><div class='line' id='LC69'>&nbsp;&nbsp;&nbsp;&nbsp;&nbsp;&nbsp;&quot;print &#39;rotation matrix=\\n&#39;,mat\n&quot;,</div><div class='line' id='LC70'>&nbsp;&nbsp;&nbsp;&nbsp;&nbsp;&nbsp;&quot;print &#39;scaling factors=&#39;,scale.transpose()\n&quot;,</div><div class='line' id='LC71'>&nbsp;&nbsp;&nbsp;&nbsp;&nbsp;&nbsp;&quot;\n&quot;,</div><div class='line' id='LC72'>&nbsp;&nbsp;&nbsp;&nbsp;&nbsp;&nbsp;&quot;X=np.zeros([2,n])\n&quot;,</div><div class='line' id='LC73'>&nbsp;&nbsp;&nbsp;&nbsp;&nbsp;&nbsp;&quot;while i&lt;n:\n&quot;,</div><div class='line' id='LC74'>&nbsp;&nbsp;&nbsp;&nbsp;&nbsp;&nbsp;&quot;    p=np.matrix([uniform(-1,1),uniform(-1,1)]).transpose()\n&quot;,</div><div class='line' id='LC75'>&nbsp;&nbsp;&nbsp;&nbsp;&nbsp;&nbsp;&quot;    if norm(p)&lt;1:\n&quot;,</div><div class='line' id='LC76'>&nbsp;&nbsp;&nbsp;&nbsp;&nbsp;&nbsp;&quot;        p=rotation*np.multiply(p,scale)\n&quot;,</div><div class='line' id='LC77'>&nbsp;&nbsp;&nbsp;&nbsp;&nbsp;&nbsp;&quot;        X[:,i]=np.squeeze(np.asarray(p+shift))\n&quot;,</div><div class='line' id='LC78'>&nbsp;&nbsp;&nbsp;&nbsp;&nbsp;&nbsp;&quot;        #list(p*mat)\n&quot;,</div><div class='line' id='LC79'>&nbsp;&nbsp;&nbsp;&nbsp;&nbsp;&nbsp;&quot;        i+=1\n&quot;,</div><div class='line' id='LC80'>&nbsp;&nbsp;&nbsp;&nbsp;&nbsp;&nbsp;&quot;scatter(X[0,:],X[1,:])\n&quot;,</div><div class='line' id='LC81'>&nbsp;&nbsp;&nbsp;&nbsp;&nbsp;&nbsp;&quot;#xlim([0,10])\n&quot;,</div><div class='line' id='LC82'>&nbsp;&nbsp;&nbsp;&nbsp;&nbsp;&nbsp;&quot;#ylim([0,10])\n&quot;,</div><div class='line' id='LC83'>&nbsp;&nbsp;&nbsp;&nbsp;&nbsp;&nbsp;&quot;grid()&quot;</div><div class='line' id='LC84'>&nbsp;&nbsp;&nbsp;&nbsp;&nbsp;],</div><div class='line' id='LC85'>&nbsp;&nbsp;&nbsp;&nbsp;&nbsp;&quot;language&quot;: &quot;python&quot;,</div><div class='line' id='LC86'>&nbsp;&nbsp;&nbsp;&nbsp;&nbsp;&quot;metadata&quot;: {},</div><div class='line' id='LC87'>&nbsp;&nbsp;&nbsp;&nbsp;&nbsp;&quot;outputs&quot;: [</div><div class='line' id='LC88'>&nbsp;&nbsp;&nbsp;&nbsp;&nbsp;&nbsp;{</div><div class='line' id='LC89'>&nbsp;&nbsp;&nbsp;&nbsp;&nbsp;&nbsp;&nbsp;&quot;output_type&quot;: &quot;stream&quot;,</div><div class='line' id='LC90'>&nbsp;&nbsp;&nbsp;&nbsp;&nbsp;&nbsp;&nbsp;&quot;stream&quot;: &quot;stdout&quot;,</div><div class='line' id='LC91'>&nbsp;&nbsp;&nbsp;&nbsp;&nbsp;&nbsp;&nbsp;&quot;text&quot;: [</div><div class='line' id='LC92'>&nbsp;&nbsp;&nbsp;&nbsp;&nbsp;&nbsp;&nbsp;&nbsp;&quot;rotation matrix=\n&quot;,</div><div class='line' id='LC93'>&nbsp;&nbsp;&nbsp;&nbsp;&nbsp;&nbsp;&nbsp;&nbsp;&quot;&lt;function asmatrix at 0x163c9b0&gt;\n&quot;,</div><div class='line' id='LC94'>&nbsp;&nbsp;&nbsp;&nbsp;&nbsp;&nbsp;&nbsp;&nbsp;&quot;scaling factors= [[ 1.   0.1]]\n&quot;</div><div class='line' id='LC95'>&nbsp;&nbsp;&nbsp;&nbsp;&nbsp;&nbsp;&nbsp;]</div><div class='line' id='LC96'>&nbsp;&nbsp;&nbsp;&nbsp;&nbsp;&nbsp;},</div><div class='line' id='LC97'>&nbsp;&nbsp;&nbsp;&nbsp;&nbsp;&nbsp;{</div><div class='line' id='LC98'>&nbsp;&nbsp;&nbsp;&nbsp;&nbsp;&nbsp;&nbsp;&quot;metadata&quot;: {},</div><div class='line' id='LC99'>&nbsp;&nbsp;&nbsp;&nbsp;&nbsp;&nbsp;&nbsp;&quot;output_type&quot;: &quot;display_data&quot;,</div><div class='line' id='LC100'>&nbsp;&nbsp;&nbsp;&nbsp;&nbsp;&nbsp;&nbsp;&quot;png&quot;: &quot;iVBORw0KGgoAAAANSUhEUgAAAXcAAAD9CAYAAABHnDf0AAAABHNCSVQICAgIfAhkiAAAAAlwSFlz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\nGAznIf8PthWMR27uPxQAAAAASUVORK5CYII=\n&quot;,</div><div class='line' id='LC101'>&nbsp;&nbsp;&nbsp;&nbsp;&nbsp;&nbsp;&nbsp;&quot;text&quot;: [</div><div class='line' id='LC102'>&nbsp;&nbsp;&nbsp;&nbsp;&nbsp;&nbsp;&nbsp;&nbsp;&quot;&lt;matplotlib.figure.Figure at 0x2e1f750&gt;&quot;</div><div class='line' id='LC103'>&nbsp;&nbsp;&nbsp;&nbsp;&nbsp;&nbsp;&nbsp;]</div><div class='line' id='LC104'>&nbsp;&nbsp;&nbsp;&nbsp;&nbsp;&nbsp;}</div><div class='line' id='LC105'>&nbsp;&nbsp;&nbsp;&nbsp;&nbsp;],</div><div class='line' id='LC106'>&nbsp;&nbsp;&nbsp;&nbsp;&nbsp;&quot;prompt_number&quot;: 10</div><div class='line' id='LC107'>&nbsp;&nbsp;&nbsp;&nbsp;},</div><div class='line' id='LC108'>&nbsp;&nbsp;&nbsp;&nbsp;{</div><div class='line' id='LC109'>&nbsp;&nbsp;&nbsp;&nbsp;&nbsp;&quot;cell_type&quot;: &quot;code&quot;,</div><div class='line' id='LC110'>&nbsp;&nbsp;&nbsp;&nbsp;&nbsp;&quot;collapsed&quot;: false,</div><div class='line' id='LC111'>&nbsp;&nbsp;&nbsp;&nbsp;&nbsp;&quot;input&quot;: [</div><div class='line' id='LC112'>&nbsp;&nbsp;&nbsp;&nbsp;&nbsp;&nbsp;&quot;mean(X,axis=1)&quot;</div><div class='line' id='LC113'>&nbsp;&nbsp;&nbsp;&nbsp;&nbsp;],</div><div class='line' id='LC114'>&nbsp;&nbsp;&nbsp;&nbsp;&nbsp;&quot;language&quot;: &quot;python&quot;,</div><div class='line' id='LC115'>&nbsp;&nbsp;&nbsp;&nbsp;&nbsp;&quot;metadata&quot;: {},</div><div class='line' id='LC116'>&nbsp;&nbsp;&nbsp;&nbsp;&nbsp;&quot;outputs&quot;: [</div><div class='line' id='LC117'>&nbsp;&nbsp;&nbsp;&nbsp;&nbsp;&nbsp;{</div><div class='line' id='LC118'>&nbsp;&nbsp;&nbsp;&nbsp;&nbsp;&nbsp;&nbsp;&quot;metadata&quot;: {},</div><div class='line' id='LC119'>&nbsp;&nbsp;&nbsp;&nbsp;&nbsp;&nbsp;&nbsp;&quot;output_type&quot;: &quot;pyout&quot;,</div><div class='line' id='LC120'>&nbsp;&nbsp;&nbsp;&nbsp;&nbsp;&nbsp;&nbsp;&quot;prompt_number&quot;: 11,</div><div class='line' id='LC121'>&nbsp;&nbsp;&nbsp;&nbsp;&nbsp;&nbsp;&nbsp;&quot;text&quot;: [</div><div class='line' id='LC122'>&nbsp;&nbsp;&nbsp;&nbsp;&nbsp;&nbsp;&nbsp;&nbsp;&quot;array([ 3.02895121,  5.01438933])&quot;</div><div class='line' id='LC123'>&nbsp;&nbsp;&nbsp;&nbsp;&nbsp;&nbsp;&nbsp;]</div><div class='line' id='LC124'>&nbsp;&nbsp;&nbsp;&nbsp;&nbsp;&nbsp;}</div><div class='line' id='LC125'>&nbsp;&nbsp;&nbsp;&nbsp;&nbsp;],</div><div class='line' id='LC126'>&nbsp;&nbsp;&nbsp;&nbsp;&nbsp;&quot;prompt_number&quot;: 11</div><div class='line' id='LC127'>&nbsp;&nbsp;&nbsp;&nbsp;},</div><div class='line' id='LC128'>&nbsp;&nbsp;&nbsp;&nbsp;{</div><div class='line' id='LC129'>&nbsp;&nbsp;&nbsp;&nbsp;&nbsp;&quot;cell_type&quot;: &quot;markdown&quot;,</div><div class='line' id='LC130'>&nbsp;&nbsp;&nbsp;&nbsp;&nbsp;&quot;metadata&quot;: {},</div><div class='line' id='LC131'>&nbsp;&nbsp;&nbsp;&nbsp;&nbsp;&quot;source&quot;: [</div><div class='line' id='LC132'>&nbsp;&nbsp;&nbsp;&nbsp;&nbsp;&nbsp;&quot;##Normalizing 2D data using PCA##\n&quot;,</div><div class='line' id='LC133'>&nbsp;&nbsp;&nbsp;&nbsp;&nbsp;&nbsp;&quot;For more documentation on sklearn.decomposition.PCA see http://scikit-learn.org/stable/modules/generated/sklearn.decomposition.PCA.html&quot;</div><div class='line' id='LC134'>&nbsp;&nbsp;&nbsp;&nbsp;&nbsp;]</div><div class='line' id='LC135'>&nbsp;&nbsp;&nbsp;&nbsp;},</div><div class='line' id='LC136'>&nbsp;&nbsp;&nbsp;&nbsp;{</div><div class='line' id='LC137'>&nbsp;&nbsp;&nbsp;&nbsp;&nbsp;&quot;cell_type&quot;: &quot;code&quot;,</div><div class='line' id='LC138'>&nbsp;&nbsp;&nbsp;&nbsp;&nbsp;&quot;collapsed&quot;: false,</div><div class='line' id='LC139'>&nbsp;&nbsp;&nbsp;&nbsp;&nbsp;&quot;input&quot;: [</div><div class='line' id='LC140'>&nbsp;&nbsp;&nbsp;&nbsp;&nbsp;&nbsp;&quot;from sklearn.decomposition import PCA\n&quot;,</div><div class='line' id='LC141'>&nbsp;&nbsp;&nbsp;&nbsp;&nbsp;&nbsp;&quot;pca = PCA(n_components=2)\n&quot;,</div><div class='line' id='LC142'>&nbsp;&nbsp;&nbsp;&nbsp;&nbsp;&nbsp;&quot;pca.fit(X.transpose())\n&quot;,</div><div class='line' id='LC143'>&nbsp;&nbsp;&nbsp;&nbsp;&nbsp;&nbsp;&quot;V=pca.components_ \n&quot;,</div><div class='line' id='LC144'>&nbsp;&nbsp;&nbsp;&nbsp;&nbsp;&nbsp;&quot;print &#39;eigenvectors=\\n&#39;,V\n&quot;,</div><div class='line' id='LC145'>&nbsp;&nbsp;&nbsp;&nbsp;&nbsp;&nbsp;&quot;print &#39;rotation matrix=\\n&#39;,rotation\n&quot;,</div><div class='line' id='LC146'>&nbsp;&nbsp;&nbsp;&nbsp;&nbsp;&nbsp;&quot;print &#39;Product=\\n&#39;,V*rotation&quot;</div><div class='line' id='LC147'>&nbsp;&nbsp;&nbsp;&nbsp;&nbsp;],</div><div class='line' id='LC148'>&nbsp;&nbsp;&nbsp;&nbsp;&nbsp;&quot;language&quot;: &quot;python&quot;,</div><div class='line' id='LC149'>&nbsp;&nbsp;&nbsp;&nbsp;&nbsp;&quot;metadata&quot;: {},</div><div class='line' id='LC150'>&nbsp;&nbsp;&nbsp;&nbsp;&nbsp;&quot;outputs&quot;: [</div><div class='line' id='LC151'>&nbsp;&nbsp;&nbsp;&nbsp;&nbsp;&nbsp;{</div><div class='line' id='LC152'>&nbsp;&nbsp;&nbsp;&nbsp;&nbsp;&nbsp;&nbsp;&quot;output_type&quot;: &quot;stream&quot;,</div><div class='line' id='LC153'>&nbsp;&nbsp;&nbsp;&nbsp;&nbsp;&nbsp;&nbsp;&quot;stream&quot;: &quot;stdout&quot;,</div><div class='line' id='LC154'>&nbsp;&nbsp;&nbsp;&nbsp;&nbsp;&nbsp;&nbsp;&quot;text&quot;: [</div><div class='line' id='LC155'>&nbsp;&nbsp;&nbsp;&nbsp;&nbsp;&nbsp;&nbsp;&nbsp;&quot;eigenvectors=\n&quot;,</div><div class='line' id='LC156'>&nbsp;&nbsp;&nbsp;&nbsp;&nbsp;&nbsp;&nbsp;&nbsp;&quot;[[-0.87642223 -0.48154343]\n&quot;,</div><div class='line' id='LC157'>&nbsp;&nbsp;&nbsp;&nbsp;&nbsp;&nbsp;&nbsp;&nbsp;&quot; [ 0.48154343 -0.87642223]]\n&quot;,</div><div class='line' id='LC158'>&nbsp;&nbsp;&nbsp;&nbsp;&nbsp;&nbsp;&nbsp;&nbsp;&quot;rotation matrix=\n&quot;,</div><div class='line' id='LC159'>&nbsp;&nbsp;&nbsp;&nbsp;&nbsp;&nbsp;&nbsp;&nbsp;&quot;[[ 0.87758256 -0.47942554]\n&quot;,</div><div class='line' id='LC160'>&nbsp;&nbsp;&nbsp;&nbsp;&nbsp;&nbsp;&nbsp;&nbsp;&quot; [ 0.47942554  0.87758256]]\n&quot;,</div><div class='line' id='LC161'>&nbsp;&nbsp;&nbsp;&nbsp;&nbsp;&nbsp;&nbsp;&nbsp;&quot;Product=\n&quot;,</div><div class='line' id='LC162'>&nbsp;&nbsp;&nbsp;&nbsp;&nbsp;&nbsp;&nbsp;&nbsp;&quot;[[-0.99999708 -0.00241491]\n&quot;,</div><div class='line' id='LC163'>&nbsp;&nbsp;&nbsp;&nbsp;&nbsp;&nbsp;&nbsp;&nbsp;&quot; [ 0.00241491 -0.99999708]]\n&quot;</div><div class='line' id='LC164'>&nbsp;&nbsp;&nbsp;&nbsp;&nbsp;&nbsp;&nbsp;]</div><div class='line' id='LC165'>&nbsp;&nbsp;&nbsp;&nbsp;&nbsp;&nbsp;}</div><div class='line' id='LC166'>&nbsp;&nbsp;&nbsp;&nbsp;&nbsp;],</div><div class='line' id='LC167'>&nbsp;&nbsp;&nbsp;&nbsp;&nbsp;&quot;prompt_number&quot;: 12</div><div class='line' id='LC168'>&nbsp;&nbsp;&nbsp;&nbsp;},</div><div class='line' id='LC169'>&nbsp;&nbsp;&nbsp;&nbsp;{</div><div class='line' id='LC170'>&nbsp;&nbsp;&nbsp;&nbsp;&nbsp;&quot;cell_type&quot;: &quot;code&quot;,</div><div class='line' id='LC171'>&nbsp;&nbsp;&nbsp;&nbsp;&nbsp;&quot;collapsed&quot;: false,</div><div class='line' id='LC172'>&nbsp;&nbsp;&nbsp;&nbsp;&nbsp;&quot;input&quot;: [</div><div class='line' id='LC173'>&nbsp;&nbsp;&nbsp;&nbsp;&nbsp;&nbsp;&quot;print pca.mean_\n&quot;,</div><div class='line' id='LC174'>&nbsp;&nbsp;&nbsp;&nbsp;&nbsp;&nbsp;&quot;Xt=np.zeros([2,n])\n&quot;,</div><div class='line' id='LC175'>&nbsp;&nbsp;&nbsp;&nbsp;&nbsp;&nbsp;&quot;for i in range(n):\n&quot;,</div><div class='line' id='LC176'>&nbsp;&nbsp;&nbsp;&nbsp;&nbsp;&nbsp;&quot;    Xt[:,i]=pca.transform(X[:,i])\n&quot;,</div><div class='line' id='LC177'>&nbsp;&nbsp;&nbsp;&nbsp;&nbsp;&nbsp;&quot;scatter(Xt[0,:],Xt[1,:])\n&quot;,</div><div class='line' id='LC178'>&nbsp;&nbsp;&nbsp;&nbsp;&nbsp;&nbsp;&quot;xlim([-1,1])\n&quot;,</div><div class='line' id='LC179'>&nbsp;&nbsp;&nbsp;&nbsp;&nbsp;&nbsp;&quot;ylim([-1,1])\n&quot;,</div><div class='line' id='LC180'>&nbsp;&nbsp;&nbsp;&nbsp;&nbsp;&nbsp;&quot;grid()&quot;</div><div class='line' id='LC181'>&nbsp;&nbsp;&nbsp;&nbsp;&nbsp;],</div><div class='line' id='LC182'>&nbsp;&nbsp;&nbsp;&nbsp;&nbsp;&quot;language&quot;: &quot;python&quot;,</div><div class='line' id='LC183'>&nbsp;&nbsp;&nbsp;&nbsp;&nbsp;&quot;metadata&quot;: {},</div><div class='line' id='LC184'>&nbsp;&nbsp;&nbsp;&nbsp;&nbsp;&quot;outputs&quot;: [</div><div class='line' id='LC185'>&nbsp;&nbsp;&nbsp;&nbsp;&nbsp;&nbsp;{</div><div class='line' id='LC186'>&nbsp;&nbsp;&nbsp;&nbsp;&nbsp;&nbsp;&nbsp;&quot;output_type&quot;: &quot;stream&quot;,</div><div class='line' id='LC187'>&nbsp;&nbsp;&nbsp;&nbsp;&nbsp;&nbsp;&nbsp;&quot;stream&quot;: &quot;stdout&quot;,</div><div class='line' id='LC188'>&nbsp;&nbsp;&nbsp;&nbsp;&nbsp;&nbsp;&nbsp;&quot;text&quot;: [</div><div class='line' id='LC189'>&nbsp;&nbsp;&nbsp;&nbsp;&nbsp;&nbsp;&nbsp;&nbsp;&quot;[ 3.02895121  5.01438933]\n&quot;</div><div class='line' id='LC190'>&nbsp;&nbsp;&nbsp;&nbsp;&nbsp;&nbsp;&nbsp;]</div><div class='line' id='LC191'>&nbsp;&nbsp;&nbsp;&nbsp;&nbsp;&nbsp;},</div><div class='line' id='LC192'>&nbsp;&nbsp;&nbsp;&nbsp;&nbsp;&nbsp;{</div><div class='line' id='LC193'>&nbsp;&nbsp;&nbsp;&nbsp;&nbsp;&nbsp;&nbsp;&quot;metadata&quot;: {},</div><div class='line' id='LC194'>&nbsp;&nbsp;&nbsp;&nbsp;&nbsp;&nbsp;&nbsp;&quot;output_type&quot;: &quot;display_data&quot;,</div><div class='line' id='LC195'>&nbsp;&nbsp;&nbsp;&nbsp;&nbsp;&nbsp;&nbsp;&quot;png&quot;: &quot;iVBORw0KGgoAAAANSUhEUgAAAX4AAAD9CAYAAAC7iRw+AAAABHNCSVQICAgIfAhkiAAAAAlwSFlz\nAAALEgAACxIB0t1+/AAAIABJREFUeJztnXd4lMX2x8+7fTe7m95IhRASQglVuvSOEb2oKEqxoahc\nu15/XhUb6FXvVRG5oijFiihFBEUBFSkRxYpKEZQuLShFIMn398c5b96NgObCCinn8zx5YPdtM2dm\nvnPmzMy7BgCQoiiKUmOwne4EKIqiKKcWFX5FUZQahgq/oihKDUOFX1EUpYahwq8oilLDUOFXFEWp\nYZyU8F966aWUmJhIjRo1Ou45I0eOpOzsbMrPz6eVK1eezOMURVGUMHBSwj9s2DCaN2/ecY+//fbb\ntHbtWlqzZg0988wzdPXVV5/M4xRFUZQwcFLC36FDB4qOjj7u8VmzZtGQIUOIiKhVq1ZUVFRE27dv\nP5lHKoqiKCeJ46+8+ebNmyktLa3sc2pqKm3atIkSExPLnWcYxl+ZDEVRlGrLibx84S+f3P19oo4n\n8gD0Lwx/d99992lPQ3X6U3uqPSvz34nylwp/SkoKbdy4sezzpk2bKCUl5a98ZI1nw4YNpzsJ1Qq1\nZ3hRe1YO/lLhLygooMmTJxMR0bJlyygqKuqoMI+iKIpyajmpGP+FF15IH3zwAe3cuZPS0tJo1KhR\ndOTIESIiGj58OPXp04fefvttqlu3LkVERNDzzz8flkQrx2fo0KGnOwnVCrVneFF7Vg4MnEygKFyJ\nMIyTilcpiqLURE5UO3XnbjVj0aJFpzsJ1Qq1Z3hRe1YOVPgVRVFqGBrqURRFqaJoqEdRFEWpECr8\n1QyNoYYXtWd4UXtWDlT4FUVRahga41cURamiaIxfURRFqRAq/NUMjaGGF7VneFF7Vg5U+BVFUWoY\nGuNXFEWpomiMX1EURakQKvzVDI2hhhe1Z3hRe1YOVPgVRVFqGBrjVxRFqaJojF9RFEWpECr81QyN\noYYXtWd4UXtWDlT4FUVRahga41cURamiaIxfURRFqRAq/NUMjaGGF7VneFF7Vg5U+BVFUWoYGuNX\nFEWpomiMX1EURakQKvzVDI2hhhe1Z3hRe1YOVPgVRVFqGBrjVxRFqaJojF9RFEWpECr81QyNoYYX\ntWd4UXtWDlT4FUVRahga41cURamiaIxfURRFqRAq/NUMjaGGF7VneFF7Vg5U+BVFUWoYGuNXFEWp\nomiMX1EURakQKvzVDI2hhhe1Z3hRe1YOVPgVRVFqGBrjVxRFqaJojF9RFEWpECr81QyNoYYXtWd4\nUXtWDlT4FUVRahga41cURamiaIxfURRFqRAq/NUMjaGGF7VneFF7Vg5U+BVFUWoYJy388+bNo9zc\nXMrOzqaHHnroqOOLFi2iyMhIatq0KTVt2pTuv//+k32k8gd06tTpdCehWqH2DC9qz8qB42QuLikp\noWuvvZbee+89SklJoZYtW1JBQQHVr1+/3HkdO3akWbNmnVRCFUVRlPBwUh5/YWEh1a1blzIzM8np\ndNLAgQNp5syZR52nK3ZOHRpDDS9qz/Ci9qwcnJTHv3nzZkpLSyv7nJqaSsuXLy93jmEYtGTJEsrP\nz6eUlBR65JFHKC8v76h7DR06lDIzM4mIKCoqipo0aVI2LDQri37Wz/pZP9fkz4sWLaIXXniBiKhM\nL0+Ek1rHP336dJo3bx5NmDCBiIimTp1Ky5cvpyeffLLsnF9//ZXsdjv5fD6aO3cu/f3vf6fVq1eX\nT4Su41cURfmfOS3r+FNSUmjjxo1lnzdu3EipqanlzgkEAuTz+YiIqHfv3nTkyBHavXv3yTxWURRF\nOQlOSvhbtGhBa9asoQ0bNtDhw4fp1VdfpYKCgnLnbN++vaxHKiwsJAAUExNzMo9V/gBzWKiEB7Vn\neFF7Vg5OKsbvcDho7Nix1LNnTyopKaHLLruM6tevT//973+JiGj48OH0+uuv09NPP00Oh4N8Ph+9\n8sorYUm4oiiKcmLou3oURVGqKPquHkVRFKVCqPBXMzSGGl7UnuFF7Vk5UOFXFEWpYWiMX1EUpYqi\nMX5FURSlQqjwVzM0hhpe1J7hRe1ZOVDhVxRFqWFojF9RFKWKojF+RVEUpUKo8FczNIYaXtSe4UXt\nWTlQ4VcURalhaIxfURSliqIxfkVRFKVCqPBXMzSGGl7UnuFF7Vk5UOFXFEWpYWiMX1EUpYqiMX5F\nURSlQqjwVzM0hhpe1J7hRe1ZOVDhVxRFqWFojF9RFKWKojF+RVEUpUKo8FczNIYaXtSe4UXtWTlQ\n4VcURalhaIxfURSliqIxfkVRFKVCqPBXMzSGGl7UnuFF7Vk5UOFXFEWpYWiMX1EUpYqiMX5FURSl\nQqjwVzM0hhpe1J7hRe1ZOVDhVxRFqWFojF9RFKWKojF+RVEUpUKo8FczNIYaXtSe4UXtWTlQ4VcU\nRalhaIxfURSliqIxfkVRFKVCqPBXMzSGWp7ffvuNVqxYQatWrfpDz+jIkSPHPH4y9iwtLaWNGzfS\n7t27iYhoxYoV9NJLL9GECRNo1qxZtHfv3qOuAUC7du2ikpKSE35uZUbrZ+VAhV85YUyROnToUIWv\n2bZtGzVr1pZ8vniKjU2hUaNG0b33Pkj16jWn5s070cKFC497bUlJCd111/2Ul9eG2rfvTYWFhX/4\nrG+++Yays5tQly7DqHnz7uTzJZLT6aEGDVrR6tWry9LTpEl78nh85PfH0tSpLx51n/Xr19MzzzxD\nw4YNI5fLR4bhJsNwU7t2PWjXrl30/fff07vvvkurV6+mq6++gRo2bEc9e55LOTlNKCfnDEpOzqTG\njdtQu3Z9aNCga+jKK++m8867m+rVa0KrV6+mzZs3U3FxMX366aeUmJhJtWplUWRkAs2ZM4eOHDlC\nt956J9Wp04iaNm1DH330ER08eJC+/vpr2rZtW4XtHmrDTz/9lG699VZq1OgMio1NpYYN29K0adPC\nEm7dtGkTzZo1iwoLC8vuV1xcTNu3b6+2nVmVBJWASpKMKsGhQ4fw4osv4oknnsBXX331p+f/8ssv\n6NGjALGxdZCf3w6fffYZ1qxZg4MHDx517pEjR7B582YcOnSo3PfFxcWYOXMmnn32WXz33XcAgE2b\nNiE3tzlcrkg4nV48/PBjZeeXlpbi1VdfxZ13/hNTpkxBSUkJAODgwYMIBpNBVAtE9UH0AIg6gCgS\nRH4QuWAYHkRFZcLnS0WvXgU4fPhw2X2vv/42+HztQfQBiCYiIiIOc+fOxW233YGbb74NX375JQBg\n37596Ny5D4iCIIqWZ10GIh+IMkAUhejoZHTsaJ5zI4iOgOhL2GxRWLhwYdkzFy9eDJ8vFkTngqg5\niOJAdBGIYkHUAF5vgtzXCaIA7PZzQfQ2iP4h5+6RvwzJ44MgehRE8XKfoFzvgdPpA9FjIAKIlsAw\n/PB44uRZaSDqBSIf/P5Y+P05cLujcNdd9x+37EtKSvCvf/0bycn1kJSUjQEDzofDES3PiwVRbRC1\nAVE7ELlRt24DbN++vazM77nnATRt2gk9epx7zLq2ZMkSXHnllSgoOBePPPIIZs2aBZ8vFhERXWG3\nx8PnS0ZOTgt4PEEYRgA2WwQKCgbgwIEDf1ZtlQpyotpZKRS3pgh/aWkpnnjiKbRu3ROdO/fFu+++\ni9LS0qPO++WXXzBhwgT8+9//xuLFizFt2jTMnj0be/bsQUJCbREZJ4hi0LRpB3z66afHfWZMTAaI\nzgHRcmnkbhEdL7zeSEyY8BwA4PXXX4ffHw+PJwERETF46623AACzZ89GenpduFzp8PkGweeLw+zZ\ns9G6dTfY7XeBqBREP8Hny8SCBQsAAFdccR0iIpqA6C5ERLTCgAGXoLS0FB988AGI7CDygug9EC0D\n0T4RoBgQNRVxfBVEC0BUFw0aNMP27dsxduxYeDwxIFonwgjY7X+HyxUBw7gNRHfC54vDsmXLcNVV\n18Nmqwei/iD6SZ7lF0EGiN4Q8Wsn6TkAoo9AdDuIWiAnp1GZ/XJzW4LoWRDNAdHHIOoJos4gygVR\nAYieBFED6VgiysSZyAOiTBBdBaJbRLgvB9EhScNkOd4VRCkgGgyia6SzWCLntATR+SCaK/c9B0RD\n5d5OEPWF15uGoUMvR79+F+LOO0fhwIEDKC0txS23/B9sNrc8dwWIhoEoSvLwE4jOAlE+iK6Q79NB\nlAevNw4//PADRoy4AT7fmSB6HkQXwOMJYvbs2eje/Rw0adIRPXsWwOGIkTyMhmH0hWFEgGih2OVi\nEH0Bov+CKACiM0B0Hoj8OOus83HgwAEsXboUK1euLHMMKsLBgwexYcOGo5yTN954A7VrN0ZCQh2M\nGHEjFi1ahHPPvQQFBRdh/vz5AIAff/wRM2fOxCeffFLh51V2VPj/QtatW4clS5bg22+/xfTp0/He\ne++huLj4uOcfOnQIO3bsOErU77tvNLzehiBqIh6XH50790VRURFuvPF2dOjQD4MGXYrY2Fpwu9vA\n6RwOogh4va3h97dBZGQ8iPJAdCeIGoFoFojGIiIiDt9++y0AlPNWn3vuORGIb0E0EEQuEH0oojIP\nRF44HLHIz28hYjwXprfp88WiVq16IowxIGohQvk+YmPT4Hb7QbS7TIQdjpswZswYbNy4UQS6SI4d\ngM+Xiq+++gqXX34ViAywl5sl4lkf7Em/BPa8HwDRfhD1AXvrXjid0XC7B4nNPi97ps02GET9yj4T\n/Rddu/ZHZmYDEeHtIceuA9FDIZ9dIBoA7gTvA1ESiO4RAY7Ajh07AABeb7Sc0x1E9UQsffLvFnAn\nYBcxdoNoCHj08LNclwMeLQRAVAc8wjkIopmSv6ukbB4GdwbPybN2SX6/Anc8EfIXkHLaD6JLQBQP\np7MviCbD6z0X7dv3wLhx4+F0NhQbvgqiiXKve0Lyvxo88soGURdJM0A0Cg5HDFwuswOOlXJPEptd\nDRZ7t3zeJNetAJFN0uWC1cEB3Mn8H7gjjoLN5kRaWg4CgSaIiKiDTp36HCXkx2LGjJnw+aLh86Ug\nGEzAokWLAAAff/wxvN5EcAf/HVyulnA4IkE0FkTPwOtNwqhRo+DzxcHr7Q7DSEQgkIqHHnq0XBs9\nfPgwCgsLsXz58nIjzcqMCv9fwMaNG9GmTSfY7VHweOqByAefrzccjiTY7dGw26MQG1sbs2bNKrvm\nqafGw273wm73IympDtasWVN2LD6+Nnh4PwRE34NoNhyOtkhLqwensxWIeoMFuKOIYXsQvSb/LwV7\nhhNAlCCC0hHsHd6E66+/AUB54e/evQBEDmm8l4oAZYJoqzRIU5iCImoI+WsoIjMURPPBnmiG/EUi\nMrIWiGbIuYcREdEWU6dOxeLFi+F0ppe7VzDYEgsWLJBQRh0Q9QVRieRpBNgb3wn2uG8D0U0gugBE\nh0Uku4K93d5gz/QZGMYtMAw/iAbJfQCimfD5kmEYKWAvdllIOnqA6BH5//tgoe4GomaS/0Uh5w5E\ngwaNkJXVDCy2L8r3h8CddqSIYRcQ3Srp/FTs9bKcO03ubQrqYim/PmDvPQDuMDLBHcD1Up6twSKb\nCqK6IPpMPq+W+zwJosZiv1fBnfJhOXYEbncabLZIcCdyCYj+BaIzwR7/4JA8zgULfxqIngj5/nNw\np+yV53cG18P75HMQRO+AaD24bpnPfgVcn54U226T70vl+W+AR1Y2EDlhs/2zrO54vX3w8MOP/GFb\n3Lp1q4TcCuW6d+F0BpGVlY/MzLog+ieIfpNj/cGib+bpJdhsPljOxVkgioXbnYnHHnscAFBUVISG\nDVvB58uG3Z4IlysRF1wwFHv27AmjooQfFf4KsHLlSowbNw5Tp049Zpxx+fLlqFu3CbzeKOTmtoTH\nEykNcKc04lfAHlot8BD8W6lMPixbtgxLliyRhtFAGlQAhhHEE088gQ0bNsDpjAeL9t+lkXSB6dWy\noEWDwwKQhn2uCEuUCMAZ0ui7g2glWJDipEG70KRJh7IYPAAMHnyFHJ8Y0giuBYvr59JAU8AiFgmi\nNXLOFhGURWCveLA8M1Ia8CI4HLlgz7cziDIRF5eO5OS6YDHzgUMIG0E0BhERcbDZXPK8VLHRdHnW\nAsnfGhCtlefmgOjdkDS/AhbIuyQ/QRhGLXAnmgsW4/Ziv0QQ/SLlkgTuTP4G7lwC4JFSBDgU0VDS\nEgB3NE+Ahfofcq8bJc0/h6TlNrmXV/L6W8ixwfIsgAV3aMix38BCeb/c+0J5bldwqGs4uJ7VRjAY\nB6ezsdi7M7hzM+9TKvfJlvu4QDQ+5Fgq2Bu/ATxaiJVzJ4M794EgujkkDx5w3d4n148EURIMIw48\nWkwF0R0gait27gYW+x/B7SABXHf7SHqz5N86IPqP2KM5uEOMFZsFpLx8co++yM7OR506TdCsWUcs\nXLgQq1atwqOPPobzzx+KkSNvwrRp0xAZ2T7EDgA7IaOlvvjELo3B9fmZkPNekHy6JG23gkN2KcjO\nborBgy9DTExtGEaupP92EH0Em20omjXr8IehqF9//RWDBw9HRkYjtGvXC19//TVKSkrwwQcfYObM\nmdi6dSu2b9+OTZs2YeLEibjnnnswZ84cbNu27Q+jBhWlRgr/zz//jCVLlmDz5s1/eu7UqS/C40mA\nYVwCDi/4cf/9Y8qOb9++HYFAAlhkdoA9iDhpvIdEIO6FNZG3P6RinYfmzVsgPr6ONIReYOHeCw7N\nxMHni4dhjJKGHikNB+CJSh9YiG6TxmyK3r+lUncFUSLs9iR59s6QZ18mDT0AoihERMRj//79AICu\nXbtLY1sScv44aahmQ3HJtbGS367y/4fl/J8l74mwPGaAY+K1xF7T5ZypIh7vgEUlIPnxyd9SufYz\necZWSb8XRC44ncmw231gUboelphdAhbAIhCNAgv338AdYSrYo5wFFrsYsPADHM/2yvc+8KgnCKIf\n5Pgv8rk3iJ4Ge9zdJd3jQdRKnnG3pGM7WDzHIRCIh90eAM+dAETFcr4PNlsryUMQRF9LXTDFMw3c\nEUeD6BO5dh/Ym44DURM4nclwOmMkzQXgjsGsbx9Jnv4jn9eKLZ8Bd+rR8tzaYM+3M7jORIEnlQtA\n5ERGRh3YbKngUNkQsVsc2CF5H0QzYBgB+a4DOFYfJ/mKlOf8H4jeAlEnEMXBZvPD5YqF09kANpsX\nPl+83Pdvcn6h2PFf4PpUBB5NBsHtpieIxsFm88PhiJdz6sNuvwYxMbVkotsMLX0v6fhC0vWR3PtJ\nqR+R4M5/utinqZSrOQoslbJ2gR21GHm+H1znd0q6fXC7E9CqVScsWbIEpaWl+PXXX8tCRF27ngW3\n+2IQfQbDeArBYCLOPLMX/P48+P09YBh+cXp8Us/6yP9dcLsDmDr1xRPSPpMaI/wlJSXYuHEjXnzx\nJfh8sYiMbAmvNwZPP/0MSkpK8PPPP+PIkSNl5y5YsACvvfYa3O4giL6EObwkyoHDEcDVV1+NL774\nAmPHjoXT2Rw8pC6VP3NVSGuw13JBWaFZk4yl4Pi3DxyffVsq0qNy/CGpVHny+U2w12kK6F1g79j8\nPAPsge0Ci35dsEDFgb0WL3ikYZ7fU573s3wfi2uvvRYrV64ED6vPAHtpW+V4KgzDgbS0LGkgy8Ci\n9bLkwS4N2bx/oTQYrzR08/vZYO8Kct+MkGMlkt6B0rD7/+44wJ56AtjDikJcXBJstghwY/dLXluA\nY+lB8MR0ntjkJVjC7UL5TrhliO0ngDuGHPDE4lfy/9C8pUn+AQ5F+MUG8+X5d0vaY8Reo0C0CYbh\nxX333Q+7PRLsHLQGd/jzYbMF5bqJIfeLkPLwgh0CL6wQFUB0NrgTNNPRRK45AA5zpUq5+EBE4M71\nbHBH3QDcmQ8SuyeD692z4M7OC+6UB4NHSebkcFfwXANAtBks+qtC0nS7nLcFPDKcJt9/ImlzSPks\nkXKoJd83AtFtsNlqS3n0AXc4AE/+lko+dovdLgfXw3+AO6xrwU5Widj2eng8l+Css86F15sIn6+L\n1Inx4M40HlyP7payNOdD2oLbRxK4HUSAnTozfyPEtubIMyB2bAHuKFPBDsF0EEXB7Y5EVFQiHA4v\nYmNT8f7778Nud4P15BC4vkVJns0Q2MvyXWjbuVvy9RW83gR8/fXXFdK+Y81B1Ajh//HHH1G7diN4\nPIlS0YbD9HocjkjY7QEYhh9udwCvvPIKevU6F35/AwQC/aXyLwgx/kAQRcHhuFwar18aTC1wiOUn\nWF5xR1iNdBbYm8gA0Ri5Tzx4hBAqKA2kMpghCFNgtoI9kE/l3PNhedcAh3AipbLUAXv9j0ll3Cef\n0+TfjnJeL7nfOhBFwm5PhdebCm7g6bBWbrD3ffXVV2PSpEkSLnGJbR6VdJE0ogGSpyQQTQF3UD75\n93EQRcEwLpY075BjG0PyEC35/Ros8D4QfSPH18AUMMOIhN3eUfI8H9aIIFIazQJwSKsPODTmB8eX\nTU/598LfXvLjljSkgBt8S3AYIwHswX4JHgnkhlxbIja4RfI9RP4dBxaacWCRawuidvB6oxEZGSt1\n4TzwqK0HWCzN+lIqtrSBRwdNwKG+bLCoQOwSgDXxDnA4wgyZBOUac9WPX/6dDBbjBMnjCLCjUA/c\ngRpSB2qH3BeSBgfYmbkalqOTBPacQ0NXLvD8ROrv7tEGLNjPyTEHrHkBc15ju3yfJjY6CBb+ryW9\n34LbW0nIfeuBRdocXc4B0Rmw2/vipptuwjnnnI86dRpKvuIlzUvknmfACjXFyF8vcN0Pgtv1ReBO\nzhT6OCnXRLCHnyY2j5TvfOC61x3swHSTNHWBw+GBYTjBoy+f5CkKPLoz82O29zdCvpsF9v4Bv38Q\nXnjhhT/VPnMOwu/PQyDQANnZjTFx4kScNuGfO3cucnJyULduXYwZM+aY51x33XWoW7cuGjdujM8+\n++zoRBwn8UVFRSgqKgIArFixAg5HLFiMSsGTR/WkEAAeyt0GU3h4qHkGrJ53jlSSw+CQQyws768J\n2MsoBYt1Fyn4bHCD9YN7c9Mz8oI7iavAnkkmrNg8wA04FtZkXjK83gS43QVSuWKl4iaCRSIR3LjW\nwFpXPVPSUCCV8bmQ+4+RSpsEFsV/y+cguOE1h7Vaxoxt15HKmQC3OwGJiXXBHmYxOOxkrtSIAFE0\nIiJixC4fhOTbBZstAgkJWXjqqaeQkJCBQKAz/P4WSEjIhNOZCO7I0qUBHAJ7XGPBnUcseDRjhoAa\ngQV5laQ7VFhag1dpAOzh9wY35NZggSsGD/ujwUI+AyyO6eAQwmhYSyDdYpu2YKEcIfkMgsXjTrAX\nO1zuXyLpDSAyMgHcibeC1ZHUlvx5wKOQINj7fg5EZ8AwXCD6Dtbosp7Y/iewGJ4BrkN+SYdP7m2u\nOjJHe6OkHHujvGgkgOipkO9mgOuNOVfxBdgbjgLXLw+40xso5RMrf33l+U2lHFLFxv8C1+0kSZs5\nOlwF9v4Xit1ywXMWteV+MeA6e4GUz+ewBDFW7HixpMsn5wXAoxrINaly/lb53Ajc1trL911A9Dq4\nbqbA6jwBrqup4FH7jeA67wEvFgjKuRdL2qPEHs3lvmZ57QfXxRmSxhvA4TJzv4Vbys10FM3P5uT7\ncEnDVrCe/ANcR9qBw0e7JC8PgVe85aJhwxaw2bwwjCAyM+sdc8/ENdfcCLf7UrnnQhAF4XT2xmkR\n/uLiYmRlZWH9+vU4fPgw8vPzsWrVqnLnzJkzB7179wYALFu2DK1atTo6Eb9L/KFDh3D22RfC4fDB\n4fDh7LMHIjY2VSpV6BK928HCOxrWRNUAMXqCGNsM7+yVRmCTCt0R3NiWSkEtD7nvM1LQF0ul/EYq\n2Xwp2DpgT8UL9miCYM9hNHgiKREspPeCqCvc7hj07n2erMHvCB6C95F7kKQ7DtZQMw7cwO8HN6ZY\nyZfpRd4jFXdhSJrvAouFuVrmVrAY+MFLGZ1yn4vBDTAAog2/u96Bzp27Ye3atRg0aJDk4Sc53h9E\nThiGA+3a9cC6devQvn1PGIYDLlcAl156BW6++WY4nRFg4WgL9pLqgD14gEcEIyWP6ZKni8BCbcbD\nARZ0P1j4npW8Dgd3gDvBIQqP2D4LLKTdwfHqGLBAtZHyaSb1xgMeIZj57QjukGrBMCIREZEs9skX\nW6wEkQ89e/aC3T4M3ICvkefdAhafM6Sso2GtYtkPw/DId0PBjT5b7L05xNa1wQK0GSwGQ2F15n4p\nv1KweMaA5znuAtexKPCoy8zL62BBDF1lA3DHd76UYy1wZ3a1pDkZ3E58YO93AYgOwuHIl7ryN0lb\nX3DH0BZWR5Uh+XtZ/h8Aj8J+BQt1DnhZbiR4Aj1N0vsOOPz1mpxjyDldwW2uP4hiYLNFwuNJhd2e\nCG6bL4Cdm/GS9p9hjbT/EZLfKeDwYxLYCXwUVsgmStLZUmwRB+7EoiVPoU7H2WAHoTFYH8wOyBDb\n+MGjwcHgeht6fQm4M/DIHEkA7O1fAWv/TSSI+sDhyERMTCa4Xu0S+/hhswWwcePGcprYoUM/cJgY\n4A73Lfn/aRD+JUuWoGfPnmWfR48ejdGjR5c7Z/jw4XjllVfKPufk5GDbtm3lE/G7xN9xx93wevuA\nRfcA3O6OcDgSwY04dGldPlyuBCm8z8Ex3wvBDaUjiK6U/78FFsuWsCbdOoM9vYCccyO4oR0Gi0ho\n6AJSwWzgxrRF/p8AFopWYO8lGdygPVLxeoAoAk7ndeAGGw1rffMREGXCZouVitMJPFIoBa+xbwJu\nMFeBO4FaYE+kKawhZWhoYBTYMzQ7gw+kAVwIbuAuWGvgf5N03llWWW22Lrj88stRWlqKhx56WOwU\nJdeZXtsXYPFsJaOvvuCO4TvwSCIXPl8UgsEEWDH6BHAY5DA4JFRPvn9J7BaQCm0KaDdwgzY9rHyw\nIEfKBqG14IbSHtyAHLA8RoAF1OwY3pfvfpZ7hIYxustzn5U0miMcs9PyghtpptwrF9xJhXrfe2Gt\nbTdX8BTDMCKRnp4jZWV6jH7wqPIysOj0hmGkSz3oABaRN8U+l4U8YwlYXBuCHRnTthFgr3+i1I07\nxRamY1SyOHC9AAAgAElEQVQq930TLOBmLBrgyfD7YYV3JkvdOFfufSasSdlzwRP4hfLsLXKPN8DO\nUADcdgBeFWXG/s1J4NlgkTRXJi0Um2eKjePBocxh4M4iA0R94fHE4NJLL5V5gnZiu2RYS2AHw5q/\nGAFubz5wh3JTiP3mwVqGGoRZlzhN+VJuSZL2UrF3nKTRDyuEVR/sKKSCO/w0lO9Q3pHnLQZRJNzu\nWLz22mt46qlxsgzVJ8+NAC+N7Q+vNw6sI2ZoDOAOvgGGDRtWpod79+5F06ZtYRhZYB2KgLVP5jQI\n/7Rp03D55ZeXfZ4yZQquvfbacuf069cPH3/8cdnnrl27YsWKFeUTQYQhQ4bg7rvvxt13343MzFyp\nBKYx7gQ3wulggWgGc7KtXbsO4AZpCl4XsLCY8fz3pOCywSJ1iVRYuxRsfblvNNgLjZeCT4IVRloA\nHhKaXtY0cEPKBMc5I8CN5TPwcNIj57wg6Vko/68Na6i2QD6bq0hCl/5NghXfNc+fB2soHS9/aeAG\neKOkobVUwPfBAhoteTlP8muOGBaCxc0FFu9M8NLTBCQl5Yq9rpNzf5LnNgILWQOYr1fg76KlMraQ\nshkkaasv1/8C9nrtUobDJX08zPf7YxAfnw72pn4Ary+fDO40R8MKk4yD3Z4Mw4gCi+/D4NGLByx+\nCyV/7SRdzhB7LhTbNABPvl8EFpG94JFXHHjobdavfLFnLqxlj7UlHb3kfgvBHq4LHI+uBV5FdCkM\nIwZ9+vSRa5PA4mB6y5GSNhfc7liwgCXC6qTWwdoI9qw892Zw6M8NjovbYS2LjCgrD56rygOL5JlS\nJgfl3i5YI54zwA7FUng8SbIZzyv2NMvf3GSYDB493QJ2Ikx7LoA12r0WPNpKAYc83pZy6CjnPyvn\nmfNM5oa3keB62Bfs0ZtzFO+C6Fo0bNgMXI/el2d+I/noBxbqieBRvwtEteFwdIHbHQ1uk6YefCI2\nvF3qxWtiM6ec94iUq7k81xxJesFhyj3gji9JyilS8mmOwPeDtcUr6fIhL68xxo4dW6ZvMTEpsDqj\nNbDa8NNy3WRJbwlY27qgeXOOjBw5cgRZWQ3gdPYAj+xaS9obgSeJT4Pwv/766xUS/sWLF5d97tq1\n61GvGPh94gcPHg6Hw+q1nc4bkZCQARagvrB6zkhY67AvAXteXilks9FvkXMOgDuQBDH6rWLIWFib\ncoLgRnQQ1qalQWLsANgDehxWOOZXsPfsQvn13P1BNAmGcTYMw1w1cFgqYB44bj9EKvVv4IYSBV43\nvwZEZ8rOw2iwdzsDPFLwybPfBQt+lPwlgr0mM7QTBfYQ94CHkJlg72S0VNZPYcUpB4GFIA/cwCaC\nRTjUCxkOXiZXB1boZIUcWyXP88JaalckdjYnc5dKXhxi6z6SppdAFJQVVxFyTTZ42J8s92wBFux8\n+UuB1YGVwOoEbwV71qZ35YU1NP4RVkw+VcryIrDQxcIaNgM8SqwnZQvwMkYzrp8h6bwD7BT0AHfY\nQ8HCf4bY6kp5J87r4JGXF1x3x4LDD+Zyvjqw26Mk3+bKInNFlDkvY+53+A0s/L+AG/4kuU9jyZs5\nAkoHj3jMeam1YM+4FlisR8P0fH2+JEyc+DwCgfiQ8kyH9WqLX2C3ZyI7uzE8niRJp7mnYY7k6wK5\nX5Lc27Tjt1KGv8ixRuD6mQAenV4gz/pRbNZYyuZncOdxPhwOH6x9ERAb2cBOTSa4zdcCL2i4BvHx\n6Rg3bpzYbga43rUEj26mgdtJonw/G9zJRYPr/n/AS0SfkbKqj/LLoMdL2vvJsS9Djv1HbPAQfL42\neOqppzBhwgTMmTMH+/btg80WOtlv6oM5n3OdPO/v4BFaJoiCcLn8WLp0KQoLC+H358KaAD8Ia5Th\nx2kR/qVLl5YL9Tz44INHTfAOHz4cL7/8ctnnioR6tm3bJlu6OyEQ6Ij09Fy89dZbcDojwSGRtmDv\npQQcw/SJAW+RxpEgFXkP2EvxgxtuZ6mMl4A7h3iwCGfL+Q/Id6aRV8i1DcETdzlgEboCLEhmyOb3\nOxVbgMiNyMh4uN1RMIzHwV5RbXBc9AFwozF3IaKswIl8cLmCcvxCsKBnSmWLhTWkBFhIAuC5hER5\n7v+BxcnM517wcN3caGMXGzWAtbsx63cVOQ7W6xv2iX0uhzUpmwgW+bvke7NBIeTPDJv8W57tBQt+\nO8nPWlheywgpmx/AXnOMpPU2Sb9ZhmanZopksdjkDHDMt7XUhfPBnYofLNpesLi8KefeCbc7CLvd\nA+tlZc2kXM1w2tNSD3ZK+Y6HtRGsF6wdt2YHVUfyNgksYGNgdfhBWEtQITbJgBXP94M9yDfBHVIr\n8KS0+dK2OfJdc7CIm3stFsv9tsnnyeD6kQxuD5FSZg3lvnlio/rw+Vpg0qRJKC4uhs1ml3QeAQur\naV/A5RqKwYMHY/r06ejRo5/crx4cjiDsdj+4k3SBF11cBEvgXoW1mbEjeMQSh/J1vh/YkQuC54+i\nwC+xC8g9PfL/ReB6eCNcLnOfgrmXZROIvKhbtwGiopLBTktXsJNgzo3MAI+O7bBGsgCHHt1iu/Hg\n6MB4+ZwH7vRDHYIYcF0tgBWROCz5GyJl6oNhxMJmy4XPl4uCgoHy2g8zzPgruE6aTsl/JF13gaMC\nh8Ad5M2Ijc3A7bffDr+/vth1HazOyifpOw3Cf+TIEdSpUwfr16/HoUOH/nRyd+nSpRWa3AV4R9zs\n2bPx1ltvYd++fQCAyZMngxt+aIH0B/fooT2z2ZjMnXqmYP0TPMQ1z50NFnpz56O5qmAouKGaE6sZ\nUmk/hRW/9IE9oyNSebPAw88LwEI5CrxctLMsPw2AY+Tms68CC0kJ2OOMB4dzzNUCDeSe68ExdA9Y\nXF4PuceDsFbDXA9rNPQW2JO6RL4z16DXkUoVBRYSc0dvLqzNVQBPbpkv1koBNyI/uAFugdWRDAEL\npLlz8gXJz1y4XJFwu81XQtQFjxjM+w8DN6AoSV8AvMbePD4aLKxzpXwvAc9TLJR0dAUP2XtKvg7C\n6nRzJD/dwMIyUux0PbiTiYG545UnD9+Qe5lLA88Be31tpYyuA4ul6Y2nS31IBAtqLfl7T9IbB653\nt8KqU1Gw1stD7m++8+dFcIdnTp62AXunB8EinCt57Az2iiPFllEh9wP4NQTmOvvH4XDEyjxMS3DY\nJz2kLvgwdOhwLF26FOvXr0dOTnNwKOIQWMjN9rURRHHwenvA40mQUejLIJoFu70ANlsSuD66wPWt\nMbhTHASiCIltO8AOGMBtyRzBQMovA1zHi2C395K81gOPVM+EFfd3g6gpEhMzYe2JMf/MVUdjwPHz\ngfL9G7CWU3vlryuszukjEPkRCERKWbQGdyopco1f7mXOO7nlvImwRu8pcs0+uX978Ih8NIhqweGI\nl1GdNX+VklIPHk8P8IjiZrFRaMTgbHC78sPn6weXKxY22zCxrzlSeB+nzeMHgLfffhv16tVDVlYW\nHnzwQQDA+PHjMX78+LJzrrnmGmRlZaFx48bHfJPk/5L4iy8eAutdLwB7Z1NCjDZHGkfo8sxu8t0N\nKD8c/VIKbU3Id+Yw2dyY87UUQowcs4M9iOFSkW1SIOZW/pvAXirk+ielgkfBWrUCsCC5wB6K6emc\nLZX8E/AQ2dwYVlsqXXOpQI9LBY+QyrMVlkfTJeQZv8p3F6J5847ypk6zUjnlXm+Aw0lJ4NDAnfLM\npuC5g08kbTeE3HebnGM2oB1SeX1ijyAyMnIQEZENFrCmKO/pmfMgpscYD57ANo9fJt+b2+zzQsro\navkuTmzihrVaphTcYV4Da94mEhyS+ZfcJxfcWfcCC775zBvBQm7myZy4dcMKWZXCZkuQstsIdg6i\nYHlvAHd+Xvk+GyzoMWLft0LSFQWn03wFQbGkpzXY88sWe5tLPhuDO9kN4I7JzNdsuX6d2GOVlFcv\n2Gzp4Lr9GLiTNicDP4Hd7kMgkIBgsBlsNjO2HQWui244HJGyD8QtZQ/wCM0La55gq+TLLJP2YocB\nMENJMTG1pF44wZ3wxWBnYrXYIgo8QV0KHn3WgxVy7QkOfdwVYtvLkZaWI9fNleteBde7JFgCHQUe\n0U+RMu0GtztGXuQWBHco5ojIXE5r1s+tYMfrQ1jLpF2w5ifOk/+bz2sHHoU9J3Y02z5gOTV54M7p\nORDdinPPvRg33vgP1KvXEu3a9UJGRp7YZ6mUVy1YezYeg8/XF61atRc7FoXc/1rUiA1cAHDgwAE0\na9YeLJDmNuw08HLMleCQyO9f0PUMWDy7wtqkslYKLR/sDT0JnmjzgxunF6FDXm6YQSlsgGO1Q0LO\n+UaueVwq87dyv7Fgj9XcvTsb1uqHOPDEkbnN/AKwB2C+x+ci8CqNxVLppkpazXXkkXIPn+TNbGRn\ngTsOfleLzXYvhgwZLi+J+westzJeJ/npIraIB3viw8CdmvkStqelEpu2+FjSY34230OTAZ6sPgsR\nEfEIBs0VMCPBo5sD4E6jPvz+BLAQlIIbcRQ4VDcQ1rp7cxTwbymnUvCw+gqw52NuGIoAN/QbxD5+\nSUsd+WzOVxTJsR1io1CH4WqwSJufj8DpDCI7Ox+GMRQsDP8Ad0am0/GNpPv5kOsGg4V2LnhEGA92\nAEaBGz9vtnI4fPB664Idk/fAYS+zLm2RcmwDFqk5YAHMkHxfJmWQAGstuQ/cKcSDQ2P15dgN4M4+\n1EP2gkNSLcD1p7H8ay5D9mHcuHHw+9uDJ2ZHSRpiYL1qZLHYFvJdfSmLQeC2lQ2uZxskj4Mlj+Zm\nyabg+j1c7JcDnoNoJelIgbURqwO4U4xH7dqNJT0pYEGOlzSboz5z3s4Pw4iB252MhIQMeL2x4LCK\nOdHcVMqjE1gTQu3TF1z3i8U2BhyOHLG/2cbM15gEJe3mCrPQ16l0BTsCAI82zwXRYxg48NJymrZv\n3z54veZ7vMwJ+1bg+aFEOBw3YsyYMcjIaADu6ACiA7DZGqDGCD/AIaYZM2YgJ6cxDCMG3BjNHjkS\ncXG14XTeAmt5ZldY4mYuhUwFD/93gnvqgdIgngILlBvW9u4SEDVEdHQibLZMcMdwHzied4c0ojRY\nQ/VLYb3P5GxYw0hz6Wi2fHev3P9eucasMDMljdtCvrsZ3KDNCbwuYG9mDthTbwyeGDsMjnFzAzKM\nbggGE/D999+jd++/ia02ik1CJzUnwm6vKxUrCRxiSQXHjF+TCt4LPKIx18X/ByyIBeBG/R3YQ6wN\njycWHk80WPx2gkcrDrnuH3K/UI97LLjBmiJ2XsixUnBjM3fumruqzeWpX8rntuCO8nwpn2vBcw2h\n94kFC9U8KZ+nYYVOosChhWVwu4egTZtuiItLA3uzjSUP5isMzA5tCFh8HgaHHKPAnbn5zJekbpjr\n4btJ3mfKBHBDuW/H36XTXF0SuveANwNaw/39sHZ5t0P5V4nsBzsI5sY+c9QyRWw1SZ5tCuZ/wR0B\nvzepXbv2sFbtnAsWtwDc7rNhs90OpzMOLlc6eE4pEtbS3dsk/3EovzJvDayNY3ZY78OpBxbU18Gh\n2PPAglsK7uAuA4tnAEQJ8HoT4XZngidiv4bNVgs228iQ5+wV2w2G35+IRx99FFdccQ3Kh4PfkTIZ\nAnbKQlfwfSf5OVvK2o64uHTUqpUj55ovqHOB29FmcP07S/LcTMp8pNzXDHN9DqJ0+Hxxx/w9gM8/\n/xwREVGSpl2S/y0gioTXm4BPPvkEhYWFCAYTERnZGRERtTFgwGDUKOEPpbS0FNOnT0daWn1ERiZh\nwIDBWLNmDbKyGiEQaICIiEwEArVgt8fC5cpAIBCPqKhk2Gz3gRt/dxBdBpvtn4iMTIbD0VAK9lqw\nQD8Kot6IjExFUVERnn12Ijp06Ie+fS/A7NmzcemlI9C370AEg/HgZYZmqOBtqaweWPHzPWAvoRPY\nu0mW729C+RDUV9LgzHX6pWDRjQAPgU1P4xy518WwlpouBNFK+P21MGjQxbjrrnuwfv16AEBhYSGs\n4fnt0uA+BscLzfXhqbAmoiaCO5n64IlDc+K4Aaz3mURJhTdfjAYQNURsbLpMUkeAG7q5cqQYPDIz\n462/gT3yc8FCbO6kzYO1Pv8TcIdghrymgL01lHum9Yrm3uDRkbkx7DEQfQuH4wZ5ZXGe/JnPy4Nh\nROKCCwajU6d+qFu3OQYPHo7FixfD680IecZOOBxJEkb5p9jmEfDocgR4VBOD8m+GfBrWS/DMWLIZ\no3bI3gSzQ3sJPFl5veTHCSt0sBtcH92SnxJYI8UoWL9kFmqT7nA42iEYjJcRRgISEjIRG5siaQ19\nf8wWsYUd7InfImVkbmw8DJerMS6//HKMGnUvli5diqeeGg/D8IbUl93gOh0FblfnwmoPL4OoNdzu\nDqhfvzHc7obgOmsK5hPgMNHLIWmaD67fN4E7329BNB8OR4w81wcrzGN2xuaudheIkmCzpSIyMgXl\n29f7sN6MGgceTSWARyi8+YrtvwMcLu0q568LuUdXcB18FizyWeBRTS84nfFo06YzvN624I61FIZx\nM5KTc1BYWHhcLVu1apXMi0wEh3DbweOJw7Rpr5eds2PHDrzzzjtYsWIFSktLUWOF/3j89ttvWLFi\nBb788kscOXIEy5Ytw3vvvYc9e/bghx9+QP/+g5CSwm8RdLmikJPTDBs3bsTtt/8TPl80PJ4gevTo\niyuuuAYPPji67I2XxyM+Pg3ldxFuhrV2O7Qx9pNK9rE0sufB8bwYcAexQYQgTc67HhyjzgAL4Hqw\n8GfLNQFpBGYjWwjDeBpt2vQ4Ko179uyRhmK+3Oo8sEfcHETdYbMFYbP5YQ3nIQJgjkw+AotLLFh0\nNoOH6kHJSwLMyTS73Sl5awwWkBRYr6kw5y3MSXjTK20IFuPl4PBIDtjzMu14GawYrhflPX5zw1Wc\n3PtTsFcbV/acZs06yHP6yX1vB4+0LkBcXJ2j7PXjjz/C5YoEdyCTYa4+sX7joIHY41WwSNWB9abU\nf4HoYfnNAB+sePxCWC9Ni5J/IXlOkmMNwaO9K8Ax8fGSj+7gjt8Ljsf7Q/JsB3vPT4A71/dhGBHw\n+xPh9+fA58tAvXoN0bfv+ejVq7+8crwOLI90NLjTrwUz1MX3tJb1GsZFsNkccDg8uPDCIbj++htg\nGHbwCNgMf/UDUR5stsbgieWOMH95i2ga3O5ofPnll5gyZQouvXQEOnXqLq8H8YLDWmfLM0ukvM0N\nVqEvJrwL3NGtEztHweoAo8DtZD/YWToX1ssWnwXRG/B6s9CpUxcpJ/PV0lGw9gdFonwYcIGUtzmS\nK4XHUyCriFqAO6YPQBQPjycXd945CkeOHJEVPUnw+7NRt24+tm7d+qe6VVhYiDZteiA7uwVuuumO\nP/1BGBX+E+TAgQPYvn37MX8C8X/hlltug/WLSfvBXniGVCxzt/H3UgGbgENLAbCn0BvWLlY/rHXN\nLaXS14e1rnyaVLalcLsTsXPnTvzyyy/IzW2OQKADAoFzEBmZdNzf483NbSoNPBLWckCAaAJstiic\nd95geDwF4Djtu5KmIeAQWJoIjeltF4PF+TGwOGWCh+z/heXZRkia10ujehPs1V4J7gTM9+tkSeOL\nAYvdGvDLs2JBdBUMIxYNG7aRlSWLwR62V67zgOO+peAJNPOVCWfBegW1F253pNgzC9xxXQX2UAO4\n6KKLMWDAENx//2j89ttvZfa68sqR8Hrryz2agQV5N1h4UsCdgBluqQ0WneXgUFkQ+fn5YrfQzj9P\nzk8ROwM88ukr348AbwZ8Rco6CGt3LCSvvcAT8+YeARfYk20Kc4K9Xr08OJ03S3qbSt6fh2HcB6/X\nFEuf2MAcnYU+xwzDJMBa9PARuJOLADslV8F6h8538oy7kZiYDa83DW53HfCehQS43QGMHz/hmPWy\nV6+zYRjZsDZRpsq/5kT2/JB0DUH5MFJzcF3NQPnR1mJwG2omdekcGEYOLrzwIhQUXCT1oxU45PkV\nDCMDQ4YMQ1ZWI5Rf/fcwDKMO3O4o+P0D4fe3R+PGbbB27Vo0btwWNpsTNpsXtWs3xKOPPl6mJaWl\npVi7di2++uqrv+wXvVT4KwHDhl0mrxa2w+2Og83WCSxc5jp3N9h79yEvrwVWrlyJnJzmsNvj4PUm\n4ZFHHkVEhPlqgf3gMJMT3Hk0g/VTgR+DaAnS0xuWPfvgwYOYMWMGXn755aP2SYSyZcsWtG3bQ0IM\nncDe7EYQZaN587Y4ePAghg69GtaKG6808MulgbSD3R4n6fsJ1sRYS5R/++n9YFF/VsRrEqydn6ZH\n6QIPhc218tHgJaO5YC/WXAkxF2lp/Du4jz/+FLzeePh8jUQcbkX5lUylYudP5PNBsCCfJ+d5wR2w\neX5vBALR8Hp7g+hZeL1noWPH3mU/vlFaWor77rtPxC80DPGOfHcGeORQGzwKM49/gNTUBli+fLnk\nzXwv0jZYYZ2LwB7tb1IWncFzBeZ7g8wFBb+fD3kb1u86mPstrhd7/Bs22yBkZuYhK6speBT5N7mn\ntSHJMC6By2W+NjkF1j6EOLBgfgSr094MDn3GyvX9Uf7laKPk2S4QXQqvNxHvvPMOvvjiC3z44YfY\nuXMn1q5di7179x63Xu7fvx8XX3wFoqJSZENZJHjEYc4nxYMnSIdIun4IKd808KhvBMrPlT0m5ZME\nM2Tm9Z6Hp59+GiNH3gyn8wqwk8UjzpycJgD4tzk8nlgpj3PAS1qjsWjRIkyaNAnTp08v5xz89ttv\nJ+04nigq/JWI0tJS7N69G1dd9Xfk5bVArVp5CAZTERERi2bNOh7zDaUmc+fORURELAKBPHg8Ubjo\nosHweMw3bpobZV6Fz1cPY8eOO+r60J9e/CMOHTqE884bDJvNBZvNg+7d+5bzSp544il4vWkiOqag\nb4PLlYQePfojIsIUPHOS6wxYrx0AODz0d/BElR/s6beCFRL4Aextmi+Vi4b1uwQLpaG/AqK34HbX\nxsSJz5elbe3atRg48ELwXMAKsJdoxsK/RPnXU0AEdiKsTmFHyLHB8oMq5juUDiMiIhNffvllmT1/\n+uknWC9OM697UETSnBw1O6/RUj51MX78MygqKpJQXJIIcAo4RHQlXK4L4fUmys7ODPAIao3k3ZzY\nN1/h0FKeUQQW6OvBHU/oSCIbhuHD3/9+A/bs2YMBAwbD6bwe1ptmPws59zYEg7Vgva46Dhxz7yhl\nEQOeTDbPN18+thfcgc4NOTYZRM2QkpKFTp0KMG/evOPWu4rWz6lTX0Tbtr1kL8LNIHoNhtEWcXG1\nMGDAILhcTcFef3NYv/aVDZstCMNoB/NnTIPBZHg8KSD6D5zO4UhOzsLu3buxc+dOZGbmIRDoAr+/\nH2JjU7Fu3bqy52/duhWdO/dAdHQy8vJalnvtTGVChb8asXfvXnzxxRfYtWsXSktLMXnyFPTsOQA9\ne56NLl3OQufOZ2PSpMnHvLaiDcukpKTkuN7K/PnzcdFFF8HpDMLrbQq3OxZ33/0ASkpK8OKLL+LO\nO/+Jnj37imicKeL2EjiMEgeiz2EYT8AwIhEMtoNhBOFwdAG/8iAB5rvR7fZR8mtNvULE5GEQxaBR\no/Z4/vkXjkrbs88+C17i+ZsIVyZ4dZE5unpIhP4reZa5NLQB2JP7BOZrD9zu1JCOohSBQIOy90mZ\n9uSRVzo4ZjwQ1g+OWMJrtyehc+e+6Nz5bEyZMhUAOwHR0clgD/kV8G/FJuHMM3vhllvuwN69ezFj\nxgwEg+aoZSF4niRU0JNkx6oDRHa4XDFwu/ug/B6DLSCKwnXXXVdmo59//hk5Oc1gGEGwZ5sPXtDw\nHFyuKMyfPx+tW3eR0d9g8MgsUjohJziMZy4x3QgiB3y+c+F05oNHZV+D51Ky4XKlYdq0aX9a3/7X\n+rlq1So0b94JsbHp6NatP7Zu3YqSkhJMnjwZl18+HCNHjkSbNh2QlpaHAQPOx65du/DKK69g8uTJ\nZSPfGTNm4NJLR+COO/6JHTt2lN173759mD59Ol599VXs3Lnzf0pXZeFEtdOQi08rhmFQJUiGchx2\n7dpF3333HdWqVYtq16591PGZM2fSlClTaPfu3XTokJu2bt1CmzdvILe7FkVEHKYXX5xAREQZGRn0\n3nvv0ZYtW6lWrWQaO/YF2rBhHTVu3JSee+5x6t17AG3enEnFxTnkck2mV16ZQP379z9mmkpKSig9\nPY+2bNlHRBlE9BURHSKXqweVlkZRcfFMIjpERAYRnUFE04joa3I4BhDgoJISP9lsRyg/P4MOHjxM\n69a1pyNHBpLT+Qalp79Dq1Z9Qi6Xq+x5TZu2p88/zyGiNkS0iYj+JUfGEVFfIppAqakv0Pr135DD\n4SiX1g8//JD69TuPbLY0OnRoA9122410zz13lB3fs2cPZWc3pt27byegKRH1JqK3iagdEb1FPt9Q\n2rr1B9q1axfFxMSQzWajqVOn0hNPPE3ffbde8vcFeb1EGzasooSEhLJ7FxcX09NPP0233DKKiosb\nEPADeb2gOXNepI4dOxIR0erVq+nZZ5+nI0dKqE6dNNq/fz8lJCTQ009PplWrnHTwYGvyel+mG264\nmLKza5NhGLR06ac0YcIkKikB2WxHaOTIkfTYY6PJMIw/r1BK2DhR7VThV/4SNm3aJIKWTR6Pp0LX\n7Nu3j6ZMmUJFRUXUo0cPat68+R+ef/jwYRoxYiQtXfoZ5ebWo7vuuoU+/PBDOnz4MJ199tlks9no\n3nvvpYULl9OOHT9TTEw8TZjwbzIMg5YvL6T09DS65JJLqKioiEaMuJk+//wbatQol8aNe4QSExPL\nPWvHjh3Uvn0vWr36cyJyU7t2beiBB+6iSy65mn7+eTPl5TWh6dNfOGbHSERUVFRE33//PSUnJ1N6\nevpRx7/77jsaNuw6Wr9+PaWn16JVq76h4mIin89Dc+a8Tm3atDnqGgB0//2jacaMuZSenkJPPPEv\nSuSY9VMAAAquSURBVEtLO+bzv/rqK1qwYAHFxMTQeeedV6EyOXz4ME2aNIk2b95MrVu3pl69epU7\nXlpaSlu2bCG/309RUVF/ej8l/KjwK0REtGjRIurUqdPpTka14ff2LC0tJZvN9pc/t7i4mHbv3k1x\ncXGn5HmnCq2f4eVEtdPx56coimJyqkTY4XCUC9koSjhRj19RFKWKcqLaWX3GkIqiKEqFUOGvZixa\ntOh0J6FaofYML2rPyoEKv6IoSg1DY/yKoihVFI3xK4qiKBVChb+aoTHU8KL2DC9qz8qBCr+iKEoN\nQ2P8iqIoVRSN8SuKoigVQoW/mqEx1PCi9gwvas/KgQq/oihKDUNj/IqiKFUUjfEriqIoFUKFv5qh\nMdTwovYML2rPyoEKv6IoSg1DY/yKoihVFI3xK4qiKBVChb+aoTHU8KL2DC9qz8qBCr+iKEoNQ2P8\niqIoVRSN8SuKoigVQoW/mqEx1PCi9gwvas/KgQq/oihKDUNj/IqiKFUUjfEriqIoFUKFv5qhMdTw\novYML2rPyoEKv6IoSg1DY/yKoihVFI3xK4qiKBVChb+aoTHU8KL2DC9qz8qBCr+iKEoNQ2P8iqIo\nVRSN8SuKoigVQoW/mqEx1PCi9gwvas/KgQq/oihKDeOEY/y7d++mCy64gH788UfKzMyk1157jaKi\noo46LzMzk4LBINntdnI6nVRYWHh0IjTGryiK8j9zymP8Y8aMoe7du9Pq1aupa9euNGbMmOMmbNGi\nRbRy5cpjir6iKIpyajlh4Z81axYNGTKEiIiGDBlCM2bMOO656s2fOjSGGl7UnuFF7Vk5cJzohdu3\nb6fExEQiIkpMTKTt27cf8zzDMKhbt25kt9tp+PDhdMUVVxzzvKFDh1JmZiYREUVFRVGTJk2oU6dO\nRGRVFv2sn/Wzfq7JnxctWkQvvPACEVGZXp4Ifxjj7969O23btu2o7x944AEaMmQI7dmzp+y7mJgY\n2r1791Hnbt26lZKTk2nHjh3UvXt3evLJJ6lDhw7lE6ExfkVRlP+ZE9XOP/T458+ff9xjiYmJtG3b\nNkpKSqKtW7dSQkLCMc9LTk4mIqL4+Hg655xzqLCw8CjhVxRFUU4dJxzjLygooEmTJhER0aRJk6h/\n//5HnXPgwAH69ddfiYho//799O6771KjRo1O9JFKBTCHhUp4UHuGF7Vn5eCEhf/222+n+fPnU716\n9WjBggV0++23ExHRli1bqG/fvkREtG3bNurQoQM1adKEWrVqRf369aMePXqEJ+WKoijKCaHv6lEU\nRami6Lt6FEVRlAqhwl/N0BhqeFF7hhe1Z+VAhV9RFKWGoTF+RVGUKorG+BVFUZQKocJfzdAYanhR\ne4YXtWflQIVfURSlhqExfkVRlCqKxvgVRVGUCqHCX83QGGp4UXuGF7Vn5UCFX1EUpYahMX5FUZQq\nisb4FUVRlAqhwl/N0BhqeFF7hhe1Z+VAhV9RFKWGoTF+RVGUKorG+BVFUZQKocJfzdAYanhRe4YX\ntWflQIVfURSlhqExfkVRlCqKxvgVRVGUCqHCX83QGGp4UXuGF7Vn5UCFX1EUpYahMX5FUZQqisb4\nFUVRlAqhwl/N0BhqeFF7hhe1Z+VAhV9RFKWGoTF+RVGUKorG+BVFUZQKocJfzdAYanhRe4YXtWfl\nQIVfURSlhqExfkVRlCqKxvgVRVGUCqHCX83QGGp4UXuGF7Vn5UCFX1EUpYahMX5FUZQqisb4FUVR\nlAqhwl/N0BhqeFF7hhe1Z+VAhV9RFKWGoTF+RVGUKorG+BVFUZQKocJfzdAYanhRe4YXtWflQIVf\nURSlhqExfkVRlCqKxvgVRVGUCqHCX83QGGp4UXuGF7Vn5UCFv5rx+eefn+4kVCvUnuFF7Vk5OGHh\nnzZtGjVo0IDsdjt99tlnxz1v3rx5lJubS9nZ2fTQQw+d6OOUClJUVHS6k1CtUHuGF7Vn5eCEhb9R\no0b05ptv0plnnnncc0pKSujaa6+lefPm0apVq+jll1+mb7/99kQfqSiKooQBx4lemJub+6fnFBYW\nUt26dSkzM5OIiAYOHEgzZ86k+vXrn+hjlT9hw4YNpzsJ1Qq1Z3hRe1YOTlj4K8LmzZspLS2t7HNq\naiotX778mOcahvFXJqVGMWnSpNOdhGqF2jO8qD1PP38o/N27d6dt27Yd9f2DDz5IZ5111p/evKJi\nrmv4FUVRTh1/KPzz588/qZunpKTQxo0byz5v3LiRUlNTT+qeiqIoyskRluWcx/PYW7RoQWvWrKEN\nGzbQ4cOH6dVXX6WCgoJwPFJRFEU5QU5Y+N98801KS0ujZcuWUd++fal3795ERLRlyxbq27cvERE5\nHA4aO3Ys9ezZk/Ly8uiCCy7QiV1FUZTTDU4Dr732GvLy8mCz2fDpp58e97y5c+ciJycHdevWxZgx\nY05hCqsWu3btQrdu3ZCdnY3u3btjz549xzwvIyMDjRo1QpMmTdCyZctTnMrKTUXq2nXXXYe6deui\ncePG+Oyzz05xCqsWf2bPhQsXIhgMokmTJmjSpAnuu+++05DKqsGwYcOQkJCAhg0bHvec/7Vunhbh\n//bbb/H999+jU6dOxxX+4uJiZGVlYf369Th8+DDy8/OxatWqU5zSqsEtt9yChx56CAAwZswY3Hbb\nbcc8LzMzE7t27TqVSasSVKSuzZkzB7179wYALFu2DK1atTodSa0SVMSeCxcuxFlnnXWaUli1+PDD\nD/HZZ58dV/hPpG6ellc25ObmUr169f7wnNA9AE6ns2wPgHI0s2bNoiFDhhAR0ZAhQ2jGjBnHPRe6\nguooKlLXQm3cqlUrKioqou3bt5+O5FZ6Ktp2tS5WjA4dOlB0dPRxj59I3ay07+o51h6AzZs3n8YU\nVV62b99OiYmJRESUmJh43EI3DIO6detGLVq0oAkTJpzKJFZqKlLXjnXOpk2bTlkaqxIVsadhGLRk\nyRLKz8+nPn360KpVq051MqsNJ1I3/7INXKdqD0BN4Xj2fOCBB8p9NgzjuLb7+OOPKTk5mXbs2EHd\nu3en3Nxc6tChw1+S3qrEie430Tp6bCpil2bNmtHGjRvJ5/PR3LlzqX///rR69epTkLrqyf9aN/8y\n4dc9AOHlj+yZmJhI27Zto6SkJNq6dSslJCQc87zk5GQiIoqPj6dzzjmHCgsLVfipYnXt9+ds2rSJ\nUlJSTlkaqxIVsWcgECj7f+/evWnEiBG0e/duiomJOWXprC6cSN087aGe48X5dA9AxSkoKCjbBj9p\n0iTq37//UeccOHCAfv31VyIi2r9/P7377rvUqFGjU5rOykpF6lpBQQFNnjyZiIiWLVtGUVFRZeE1\npTwVsef27dvL2n5hYSEBUNE/QU6oboZn3vl/44033kBqaio8Hg8SExPRq1cvAMDmzZvRp0+fsvPe\nfvtt1KtXD1lZWXjwwQdPR1KrBLt27ULXrl2PWs4Zas9169YhPz8f+fn5aNCggdrzdxyrro0fPx7j\nx48vO+eaa65BVlYWGjdu/IfLkJU/t+fYsWPRoEED5Ofno02bNli6dOnpTG6lZuDAgUhOTobT6URq\naiqee+65k66bleI3dxVFUZRTx2kP9SiKoiinFhV+RVGUGoYKv6IoSg1DhV9RFKWGocKvKIpSw1Dh\nVxRFqWH8P1R5xTOwJ1IDAAAAAElFTkSuQmCC\n&quot;,</div><div class='line' id='LC196'>&nbsp;&nbsp;&nbsp;&nbsp;&nbsp;&nbsp;&nbsp;&quot;text&quot;: [</div><div class='line' id='LC197'>&nbsp;&nbsp;&nbsp;&nbsp;&nbsp;&nbsp;&nbsp;&nbsp;&quot;&lt;matplotlib.figure.Figure at 0x22be310&gt;&quot;</div><div class='line' id='LC198'>&nbsp;&nbsp;&nbsp;&nbsp;&nbsp;&nbsp;&nbsp;]</div><div class='line' id='LC199'>&nbsp;&nbsp;&nbsp;&nbsp;&nbsp;&nbsp;}</div><div class='line' id='LC200'>&nbsp;&nbsp;&nbsp;&nbsp;&nbsp;],</div><div class='line' id='LC201'>&nbsp;&nbsp;&nbsp;&nbsp;&nbsp;&quot;prompt_number&quot;: 13</div><div class='line' id='LC202'>&nbsp;&nbsp;&nbsp;&nbsp;},</div><div class='line' id='LC203'>&nbsp;&nbsp;&nbsp;&nbsp;{</div><div class='line' id='LC204'>&gt;&gt;&gt;&gt;&gt;&gt;&gt; upstream/master</div><div class='line' id='LC205'>&nbsp;&nbsp;&nbsp;&nbsp;&nbsp;&quot;cell_type&quot;: &quot;heading&quot;,</div><div class='line' id='LC206'>&nbsp;&nbsp;&nbsp;&nbsp;&nbsp;&quot;level&quot;: 2,</div><div class='line' id='LC207'>&nbsp;&nbsp;&nbsp;&nbsp;&nbsp;&quot;metadata&quot;: {},</div><div class='line' id='LC208'>&nbsp;&nbsp;&nbsp;&nbsp;&nbsp;&quot;source&quot;: [</div><div class='line' id='LC209'>&nbsp;&nbsp;&nbsp;&nbsp;&nbsp;&nbsp;&quot;Dimensionality Reduction: PCA&quot;</div><div class='line' id='LC210'>&nbsp;&nbsp;&nbsp;&nbsp;&nbsp;]</div><div class='line' id='LC211'>&nbsp;&nbsp;&nbsp;&nbsp;},</div><div class='line' id='LC212'>&nbsp;&nbsp;&nbsp;&nbsp;{</div><div class='line' id='LC213'>&nbsp;&nbsp;&nbsp;&nbsp;&nbsp;&quot;cell_type&quot;: &quot;markdown&quot;,</div><div class='line' id='LC214'>&nbsp;&nbsp;&nbsp;&nbsp;&nbsp;&quot;metadata&quot;: {},</div><div class='line' id='LC215'>&nbsp;&nbsp;&nbsp;&nbsp;&nbsp;&quot;source&quot;: [</div><div class='line' id='LC216'>&nbsp;&nbsp;&nbsp;&nbsp;&nbsp;&nbsp;&quot;Dimensionality reduction is the task of deriving a set of new\n&quot;,</div><div class='line' id='LC217'>&nbsp;&nbsp;&nbsp;&nbsp;&nbsp;&nbsp;&quot;artificial features that is smaller than the original feature\n&quot;,</div><div class='line' id='LC218'>&nbsp;&nbsp;&nbsp;&nbsp;&nbsp;&nbsp;&quot;set while retaining most of the variance of the original data.\n&quot;,</div><div class='line' id='LC219'>&nbsp;&nbsp;&nbsp;&nbsp;&nbsp;&nbsp;&quot;Here we&#39;ll use a common but powerful dimensionality reduction\n&quot;,</div><div class='line' id='LC220'>&nbsp;&nbsp;&nbsp;&nbsp;&nbsp;&nbsp;&quot;technique called Principal Component Analysis (PCA).\n&quot;,</div><div class='line' id='LC221'>&nbsp;&nbsp;&nbsp;&nbsp;&nbsp;&nbsp;&quot;We&#39;ll perform PCA on the iris dataset that we saw before:&quot;</div><div class='line' id='LC222'>&nbsp;&nbsp;&nbsp;&nbsp;&nbsp;]</div><div class='line' id='LC223'>&nbsp;&nbsp;&nbsp;&nbsp;},</div><div class='line' id='LC224'>&nbsp;&nbsp;&nbsp;&nbsp;{</div><div class='line' id='LC225'>&nbsp;&nbsp;&nbsp;&nbsp;&nbsp;&quot;cell_type&quot;: &quot;code&quot;,</div><div class='line' id='LC226'>&nbsp;&nbsp;&nbsp;&nbsp;&nbsp;&quot;collapsed&quot;: false,</div><div class='line' id='LC227'>&nbsp;&nbsp;&nbsp;&nbsp;&nbsp;&quot;input&quot;: [</div><div class='line' id='LC228'>&nbsp;&nbsp;&nbsp;&nbsp;&nbsp;&nbsp;&quot;from sklearn.datasets import load_iris\n&quot;,</div><div class='line' id='LC229'>&nbsp;&nbsp;&nbsp;&nbsp;&nbsp;&nbsp;&quot;iris = load_iris()\n&quot;,</div><div class='line' id='LC230'>&nbsp;&nbsp;&nbsp;&nbsp;&nbsp;&nbsp;&quot;X = iris.data\n&quot;,</div><div class='line' id='LC231'>&nbsp;&nbsp;&nbsp;&nbsp;&nbsp;&nbsp;&quot;y = iris.target\n&quot;,</div><div class='line' id='LC232'>&nbsp;&nbsp;&nbsp;&nbsp;&nbsp;&nbsp;&quot;print shape(X),shape(y)&quot;</div><div class='line' id='LC233'>&nbsp;&nbsp;&nbsp;&nbsp;&nbsp;],</div><div class='line' id='LC234'>&nbsp;&nbsp;&nbsp;&nbsp;&nbsp;&quot;language&quot;: &quot;python&quot;,</div><div class='line' id='LC235'>&nbsp;&nbsp;&nbsp;&nbsp;&nbsp;&quot;metadata&quot;: {},</div><div class='line' id='LC236'>&lt;&lt;&lt;&lt;&lt;&lt;&lt; HEAD</div><div class='line' id='LC237'>&nbsp;&nbsp;&nbsp;&nbsp;&nbsp;&quot;outputs&quot;: [],</div><div class='line' id='LC238'>&nbsp;&nbsp;&nbsp;&nbsp;&nbsp;&quot;prompt_number&quot;: 1</div><div class='line' id='LC239'>=======</div><div class='line' id='LC240'>&nbsp;&nbsp;&nbsp;&nbsp;&nbsp;&quot;outputs&quot;: [</div><div class='line' id='LC241'>&nbsp;&nbsp;&nbsp;&nbsp;&nbsp;&nbsp;{</div><div class='line' id='LC242'>&nbsp;&nbsp;&nbsp;&nbsp;&nbsp;&nbsp;&nbsp;&quot;output_type&quot;: &quot;stream&quot;,</div><div class='line' id='LC243'>&nbsp;&nbsp;&nbsp;&nbsp;&nbsp;&nbsp;&nbsp;&quot;stream&quot;: &quot;stdout&quot;,</div><div class='line' id='LC244'>&nbsp;&nbsp;&nbsp;&nbsp;&nbsp;&nbsp;&nbsp;&quot;text&quot;: [</div><div class='line' id='LC245'>&nbsp;&nbsp;&nbsp;&nbsp;&nbsp;&nbsp;&nbsp;&nbsp;&quot;(150, 4) (150,)\n&quot;</div><div class='line' id='LC246'>&nbsp;&nbsp;&nbsp;&nbsp;&nbsp;&nbsp;&nbsp;]</div><div class='line' id='LC247'>&nbsp;&nbsp;&nbsp;&nbsp;&nbsp;&nbsp;}</div><div class='line' id='LC248'>&nbsp;&nbsp;&nbsp;&nbsp;&nbsp;],</div><div class='line' id='LC249'>&nbsp;&nbsp;&nbsp;&nbsp;&nbsp;&quot;prompt_number&quot;: 15</div><div class='line' id='LC250'>&gt;&gt;&gt;&gt;&gt;&gt;&gt; upstream/master</div><div class='line' id='LC251'>&nbsp;&nbsp;&nbsp;&nbsp;},</div><div class='line' id='LC252'>&nbsp;&nbsp;&nbsp;&nbsp;{</div><div class='line' id='LC253'>&nbsp;&nbsp;&nbsp;&nbsp;&nbsp;&quot;cell_type&quot;: &quot;markdown&quot;,</div><div class='line' id='LC254'>&nbsp;&nbsp;&nbsp;&nbsp;&nbsp;&quot;metadata&quot;: {},</div><div class='line' id='LC255'>&nbsp;&nbsp;&nbsp;&nbsp;&nbsp;&quot;source&quot;: [</div><div class='line' id='LC256'>&nbsp;&nbsp;&nbsp;&nbsp;&nbsp;&nbsp;&quot;PCA is performed using linear combinations of the original features\n&quot;,</div><div class='line' id='LC257'>&nbsp;&nbsp;&nbsp;&nbsp;&nbsp;&nbsp;&quot;using a truncated Singular Value Decomposition of the matrix X so\n&quot;,</div><div class='line' id='LC258'>&nbsp;&nbsp;&nbsp;&nbsp;&nbsp;&nbsp;&quot;as to project the data onto a base of the top singular vectors.\n&quot;,</div><div class='line' id='LC259'>&nbsp;&nbsp;&nbsp;&nbsp;&nbsp;&nbsp;&quot;If the number of retained components is 2 or 3, PCA can be used\n&quot;,</div><div class='line' id='LC260'>&nbsp;&nbsp;&nbsp;&nbsp;&nbsp;&nbsp;&quot;to visualize the dataset.&quot;</div><div class='line' id='LC261'>&nbsp;&nbsp;&nbsp;&nbsp;&nbsp;]</div><div class='line' id='LC262'>&nbsp;&nbsp;&nbsp;&nbsp;},</div><div class='line' id='LC263'>&nbsp;&nbsp;&nbsp;&nbsp;{</div><div class='line' id='LC264'>&nbsp;&nbsp;&nbsp;&nbsp;&nbsp;&quot;cell_type&quot;: &quot;code&quot;,</div><div class='line' id='LC265'>&nbsp;&nbsp;&nbsp;&nbsp;&nbsp;&quot;collapsed&quot;: false,</div><div class='line' id='LC266'>&nbsp;&nbsp;&nbsp;&nbsp;&nbsp;&quot;input&quot;: [</div><div class='line' id='LC267'>&nbsp;&nbsp;&nbsp;&nbsp;&nbsp;&nbsp;&quot;from sklearn.decomposition import PCA\n&quot;,</div><div class='line' id='LC268'>&nbsp;&nbsp;&nbsp;&nbsp;&nbsp;&nbsp;&quot;pca = PCA(n_components=2, whiten=True)\n&quot;,</div><div class='line' id='LC269'>&nbsp;&nbsp;&nbsp;&nbsp;&nbsp;&nbsp;&quot;pca.fit(X)&quot;</div><div class='line' id='LC270'>&nbsp;&nbsp;&nbsp;&nbsp;&nbsp;],</div><div class='line' id='LC271'>&nbsp;&nbsp;&nbsp;&nbsp;&nbsp;&quot;language&quot;: &quot;python&quot;,</div><div class='line' id='LC272'>&nbsp;&nbsp;&nbsp;&nbsp;&nbsp;&quot;metadata&quot;: {},</div><div class='line' id='LC273'>&nbsp;&nbsp;&nbsp;&nbsp;&nbsp;&quot;outputs&quot;: [</div><div class='line' id='LC274'>&nbsp;&nbsp;&nbsp;&nbsp;&nbsp;&nbsp;{</div><div class='line' id='LC275'>&nbsp;&nbsp;&nbsp;&nbsp;&nbsp;&nbsp;&nbsp;&quot;metadata&quot;: {},</div><div class='line' id='LC276'>&nbsp;&nbsp;&nbsp;&nbsp;&nbsp;&nbsp;&nbsp;&quot;output_type&quot;: &quot;pyout&quot;,</div><div class='line' id='LC277'>&nbsp;&nbsp;&nbsp;&nbsp;&nbsp;&nbsp;&nbsp;&quot;prompt_number&quot;: 16,</div><div class='line' id='LC278'>&nbsp;&nbsp;&nbsp;&nbsp;&nbsp;&nbsp;&nbsp;&quot;text&quot;: [</div><div class='line' id='LC279'>&nbsp;&nbsp;&nbsp;&nbsp;&nbsp;&nbsp;&nbsp;&nbsp;&quot;PCA(copy=True, n_components=2, whiten=True)&quot;</div><div class='line' id='LC280'>&nbsp;&nbsp;&nbsp;&nbsp;&nbsp;&nbsp;&nbsp;]</div><div class='line' id='LC281'>&nbsp;&nbsp;&nbsp;&nbsp;&nbsp;&nbsp;}</div><div class='line' id='LC282'>&nbsp;&nbsp;&nbsp;&nbsp;&nbsp;],</div><div class='line' id='LC283'>&nbsp;&nbsp;&nbsp;&nbsp;&nbsp;&quot;prompt_number&quot;: 16</div><div class='line' id='LC284'>&nbsp;&nbsp;&nbsp;&nbsp;},</div><div class='line' id='LC285'>&nbsp;&nbsp;&nbsp;&nbsp;{</div><div class='line' id='LC286'>&nbsp;&nbsp;&nbsp;&nbsp;&nbsp;&quot;cell_type&quot;: &quot;markdown&quot;,</div><div class='line' id='LC287'>&nbsp;&nbsp;&nbsp;&nbsp;&nbsp;&quot;metadata&quot;: {},</div><div class='line' id='LC288'>&nbsp;&nbsp;&nbsp;&nbsp;&nbsp;&quot;source&quot;: [</div><div class='line' id='LC289'>&nbsp;&nbsp;&nbsp;&nbsp;&nbsp;&nbsp;&quot;Once fitted, the pca model exposes the singular vectors in the components_ attribute:&quot;</div><div class='line' id='LC290'>&nbsp;&nbsp;&nbsp;&nbsp;&nbsp;]</div><div class='line' id='LC291'>&nbsp;&nbsp;&nbsp;&nbsp;},</div><div class='line' id='LC292'>&nbsp;&nbsp;&nbsp;&nbsp;{</div><div class='line' id='LC293'>&nbsp;&nbsp;&nbsp;&nbsp;&nbsp;&quot;cell_type&quot;: &quot;code&quot;,</div><div class='line' id='LC294'>&nbsp;&nbsp;&nbsp;&nbsp;&nbsp;&quot;collapsed&quot;: false,</div><div class='line' id='LC295'>&nbsp;&nbsp;&nbsp;&nbsp;&nbsp;&quot;input&quot;: [</div><div class='line' id='LC296'>&nbsp;&nbsp;&nbsp;&nbsp;&nbsp;&nbsp;&quot;pca.components_&quot;</div><div class='line' id='LC297'>&nbsp;&nbsp;&nbsp;&nbsp;&nbsp;],</div><div class='line' id='LC298'>&nbsp;&nbsp;&nbsp;&nbsp;&nbsp;&quot;language&quot;: &quot;python&quot;,</div><div class='line' id='LC299'>&nbsp;&nbsp;&nbsp;&nbsp;&nbsp;&quot;metadata&quot;: {},</div><div class='line' id='LC300'>&nbsp;&nbsp;&nbsp;&nbsp;&nbsp;&quot;outputs&quot;: [</div><div class='line' id='LC301'>&nbsp;&nbsp;&nbsp;&nbsp;&nbsp;&nbsp;{</div><div class='line' id='LC302'>&nbsp;&nbsp;&nbsp;&nbsp;&nbsp;&nbsp;&nbsp;&quot;metadata&quot;: {},</div><div class='line' id='LC303'>&nbsp;&nbsp;&nbsp;&nbsp;&nbsp;&nbsp;&nbsp;&quot;output_type&quot;: &quot;pyout&quot;,</div><div class='line' id='LC304'>&nbsp;&nbsp;&nbsp;&nbsp;&nbsp;&nbsp;&nbsp;&quot;prompt_number&quot;: 3,</div><div class='line' id='LC305'>&nbsp;&nbsp;&nbsp;&nbsp;&nbsp;&nbsp;&nbsp;&quot;text&quot;: [</div><div class='line' id='LC306'>&nbsp;&nbsp;&nbsp;&nbsp;&nbsp;&nbsp;&nbsp;&nbsp;&quot;array([[ 0.17650757, -0.04015901,  0.41812992,  0.17516725],\n&quot;,</div><div class='line' id='LC307'>&nbsp;&nbsp;&nbsp;&nbsp;&nbsp;&nbsp;&nbsp;&nbsp;&quot;       [-1.33840478, -1.48757227,  0.35831476,  0.15229463]])&quot;</div><div class='line' id='LC308'>&nbsp;&nbsp;&nbsp;&nbsp;&nbsp;&nbsp;&nbsp;]</div><div class='line' id='LC309'>&nbsp;&nbsp;&nbsp;&nbsp;&nbsp;&nbsp;}</div><div class='line' id='LC310'>&nbsp;&nbsp;&nbsp;&nbsp;&nbsp;],</div><div class='line' id='LC311'>&nbsp;&nbsp;&nbsp;&nbsp;&nbsp;&quot;prompt_number&quot;: 3</div><div class='line' id='LC312'>&nbsp;&nbsp;&nbsp;&nbsp;},</div><div class='line' id='LC313'>&nbsp;&nbsp;&nbsp;&nbsp;{</div><div class='line' id='LC314'>&nbsp;&nbsp;&nbsp;&nbsp;&nbsp;&quot;cell_type&quot;: &quot;markdown&quot;,</div><div class='line' id='LC315'>&nbsp;&nbsp;&nbsp;&nbsp;&nbsp;&quot;metadata&quot;: {},</div><div class='line' id='LC316'>&nbsp;&nbsp;&nbsp;&nbsp;&nbsp;&quot;source&quot;: [</div><div class='line' id='LC317'>&nbsp;&nbsp;&nbsp;&nbsp;&nbsp;&nbsp;&quot;Other attributes are available as well:&quot;</div><div class='line' id='LC318'>&nbsp;&nbsp;&nbsp;&nbsp;&nbsp;]</div><div class='line' id='LC319'>&nbsp;&nbsp;&nbsp;&nbsp;},</div><div class='line' id='LC320'>&nbsp;&nbsp;&nbsp;&nbsp;{</div><div class='line' id='LC321'>&nbsp;&nbsp;&nbsp;&nbsp;&nbsp;&quot;cell_type&quot;: &quot;code&quot;,</div><div class='line' id='LC322'>&nbsp;&nbsp;&nbsp;&nbsp;&nbsp;&quot;collapsed&quot;: false,</div><div class='line' id='LC323'>&nbsp;&nbsp;&nbsp;&nbsp;&nbsp;&quot;input&quot;: [</div><div class='line' id='LC324'>&nbsp;&nbsp;&nbsp;&nbsp;&nbsp;&nbsp;&quot;pca.explained_variance_ratio_&quot;</div><div class='line' id='LC325'>&nbsp;&nbsp;&nbsp;&nbsp;&nbsp;],</div><div class='line' id='LC326'>&nbsp;&nbsp;&nbsp;&nbsp;&nbsp;&quot;language&quot;: &quot;python&quot;,</div><div class='line' id='LC327'>&nbsp;&nbsp;&nbsp;&nbsp;&nbsp;&quot;metadata&quot;: {},</div><div class='line' id='LC328'>&nbsp;&nbsp;&nbsp;&nbsp;&nbsp;&quot;outputs&quot;: [</div><div class='line' id='LC329'>&nbsp;&nbsp;&nbsp;&nbsp;&nbsp;&nbsp;{</div><div class='line' id='LC330'>&nbsp;&nbsp;&nbsp;&nbsp;&nbsp;&nbsp;&nbsp;&quot;metadata&quot;: {},</div><div class='line' id='LC331'>&nbsp;&nbsp;&nbsp;&nbsp;&nbsp;&nbsp;&nbsp;&quot;output_type&quot;: &quot;pyout&quot;,</div><div class='line' id='LC332'>&nbsp;&nbsp;&nbsp;&nbsp;&nbsp;&nbsp;&nbsp;&quot;prompt_number&quot;: 17,</div><div class='line' id='LC333'>&nbsp;&nbsp;&nbsp;&nbsp;&nbsp;&nbsp;&nbsp;&quot;text&quot;: [</div><div class='line' id='LC334'>&nbsp;&nbsp;&nbsp;&nbsp;&nbsp;&nbsp;&nbsp;&nbsp;&quot;array([ 0.92461621,  0.05301557])&quot;</div><div class='line' id='LC335'>&nbsp;&nbsp;&nbsp;&nbsp;&nbsp;&nbsp;&nbsp;]</div><div class='line' id='LC336'>&nbsp;&nbsp;&nbsp;&nbsp;&nbsp;&nbsp;}</div><div class='line' id='LC337'>&nbsp;&nbsp;&nbsp;&nbsp;&nbsp;],</div><div class='line' id='LC338'>&nbsp;&nbsp;&nbsp;&nbsp;&nbsp;&quot;prompt_number&quot;: 17</div><div class='line' id='LC339'>&nbsp;&nbsp;&nbsp;&nbsp;},</div><div class='line' id='LC340'>&nbsp;&nbsp;&nbsp;&nbsp;{</div><div class='line' id='LC341'>&nbsp;&nbsp;&nbsp;&nbsp;&nbsp;&quot;cell_type&quot;: &quot;code&quot;,</div><div class='line' id='LC342'>&nbsp;&nbsp;&nbsp;&nbsp;&nbsp;&quot;collapsed&quot;: false,</div><div class='line' id='LC343'>&nbsp;&nbsp;&nbsp;&nbsp;&nbsp;&quot;input&quot;: [</div><div class='line' id='LC344'>&nbsp;&nbsp;&nbsp;&nbsp;&nbsp;&nbsp;&quot;pca.explained_variance_ratio_.sum()&quot;</div><div class='line' id='LC345'>&nbsp;&nbsp;&nbsp;&nbsp;&nbsp;],</div><div class='line' id='LC346'>&nbsp;&nbsp;&nbsp;&nbsp;&nbsp;&quot;language&quot;: &quot;python&quot;,</div><div class='line' id='LC347'>&nbsp;&nbsp;&nbsp;&nbsp;&nbsp;&quot;metadata&quot;: {},</div><div class='line' id='LC348'>&nbsp;&nbsp;&nbsp;&nbsp;&nbsp;&quot;outputs&quot;: [</div><div class='line' id='LC349'>&nbsp;&nbsp;&nbsp;&nbsp;&nbsp;&nbsp;{</div><div class='line' id='LC350'>&nbsp;&nbsp;&nbsp;&nbsp;&nbsp;&nbsp;&nbsp;&quot;metadata&quot;: {},</div><div class='line' id='LC351'>&nbsp;&nbsp;&nbsp;&nbsp;&nbsp;&nbsp;&nbsp;&quot;output_type&quot;: &quot;pyout&quot;,</div><div class='line' id='LC352'>&nbsp;&nbsp;&nbsp;&nbsp;&nbsp;&nbsp;&nbsp;&quot;prompt_number&quot;: 5,</div><div class='line' id='LC353'>&nbsp;&nbsp;&nbsp;&nbsp;&nbsp;&nbsp;&nbsp;&quot;text&quot;: [</div><div class='line' id='LC354'>&nbsp;&nbsp;&nbsp;&nbsp;&nbsp;&nbsp;&nbsp;&nbsp;&quot;0.97763177502480336&quot;</div><div class='line' id='LC355'>&nbsp;&nbsp;&nbsp;&nbsp;&nbsp;&nbsp;&nbsp;]</div><div class='line' id='LC356'>&nbsp;&nbsp;&nbsp;&nbsp;&nbsp;&nbsp;}</div><div class='line' id='LC357'>&nbsp;&nbsp;&nbsp;&nbsp;&nbsp;],</div><div class='line' id='LC358'>&nbsp;&nbsp;&nbsp;&nbsp;&nbsp;&quot;prompt_number&quot;: 5</div><div class='line' id='LC359'>&nbsp;&nbsp;&nbsp;&nbsp;},</div><div class='line' id='LC360'>&nbsp;&nbsp;&nbsp;&nbsp;{</div><div class='line' id='LC361'>&nbsp;&nbsp;&nbsp;&nbsp;&nbsp;&quot;cell_type&quot;: &quot;markdown&quot;,</div><div class='line' id='LC362'>&nbsp;&nbsp;&nbsp;&nbsp;&nbsp;&quot;metadata&quot;: {},</div><div class='line' id='LC363'>&nbsp;&nbsp;&nbsp;&nbsp;&nbsp;&quot;source&quot;: [</div><div class='line' id='LC364'>&nbsp;&nbsp;&nbsp;&nbsp;&nbsp;&nbsp;&quot;Let us project the iris dataset along those first two dimensions:&quot;</div><div class='line' id='LC365'>&nbsp;&nbsp;&nbsp;&nbsp;&nbsp;]</div><div class='line' id='LC366'>&nbsp;&nbsp;&nbsp;&nbsp;},</div><div class='line' id='LC367'>&nbsp;&nbsp;&nbsp;&nbsp;{</div><div class='line' id='LC368'>&nbsp;&nbsp;&nbsp;&nbsp;&nbsp;&quot;cell_type&quot;: &quot;code&quot;,</div><div class='line' id='LC369'>&nbsp;&nbsp;&nbsp;&nbsp;&nbsp;&quot;collapsed&quot;: false,</div><div class='line' id='LC370'>&nbsp;&nbsp;&nbsp;&nbsp;&nbsp;&quot;input&quot;: [</div><div class='line' id='LC371'>&nbsp;&nbsp;&nbsp;&nbsp;&nbsp;&nbsp;&quot;X_pca = pca.transform(X)\n&quot;,</div><div class='line' id='LC372'>&nbsp;&nbsp;&nbsp;&nbsp;&nbsp;&nbsp;&quot;print shape(X), shape(X_pca)&quot;</div><div class='line' id='LC373'>&nbsp;&nbsp;&nbsp;&nbsp;&nbsp;],</div><div class='line' id='LC374'>&nbsp;&nbsp;&nbsp;&nbsp;&nbsp;&quot;language&quot;: &quot;python&quot;,</div><div class='line' id='LC375'>&nbsp;&nbsp;&nbsp;&nbsp;&nbsp;&quot;metadata&quot;: {},</div><div class='line' id='LC376'>&nbsp;&nbsp;&nbsp;&nbsp;&nbsp;&quot;outputs&quot;: [</div><div class='line' id='LC377'>&nbsp;&nbsp;&nbsp;&nbsp;&nbsp;&nbsp;{</div><div class='line' id='LC378'>&nbsp;&nbsp;&nbsp;&nbsp;&nbsp;&nbsp;&nbsp;&quot;output_type&quot;: &quot;stream&quot;,</div><div class='line' id='LC379'>&nbsp;&nbsp;&nbsp;&nbsp;&nbsp;&nbsp;&nbsp;&quot;stream&quot;: &quot;stdout&quot;,</div><div class='line' id='LC380'>&nbsp;&nbsp;&nbsp;&nbsp;&nbsp;&nbsp;&nbsp;&quot;text&quot;: [</div><div class='line' id='LC381'>&nbsp;&nbsp;&nbsp;&nbsp;&nbsp;&nbsp;&nbsp;&nbsp;&quot;(150, 4) (150, 2)\n&quot;</div><div class='line' id='LC382'>&nbsp;&nbsp;&nbsp;&nbsp;&nbsp;&nbsp;&nbsp;]</div><div class='line' id='LC383'>&nbsp;&nbsp;&nbsp;&nbsp;&nbsp;&nbsp;}</div><div class='line' id='LC384'>&nbsp;&nbsp;&nbsp;&nbsp;&nbsp;],</div><div class='line' id='LC385'>&nbsp;&nbsp;&nbsp;&nbsp;&nbsp;&quot;prompt_number&quot;: 18</div><div class='line' id='LC386'>&nbsp;&nbsp;&nbsp;&nbsp;},</div><div class='line' id='LC387'>&nbsp;&nbsp;&nbsp;&nbsp;{</div><div class='line' id='LC388'>&nbsp;&nbsp;&nbsp;&nbsp;&nbsp;&quot;cell_type&quot;: &quot;markdown&quot;,</div><div class='line' id='LC389'>&nbsp;&nbsp;&nbsp;&nbsp;&nbsp;&quot;metadata&quot;: {},</div><div class='line' id='LC390'>&nbsp;&nbsp;&nbsp;&nbsp;&nbsp;&quot;source&quot;: [</div><div class='line' id='LC391'>&nbsp;&nbsp;&nbsp;&nbsp;&nbsp;&nbsp;&quot;PCA `normalizes` and `whitens` the data, which means that the data\n&quot;,</div><div class='line' id='LC392'>&nbsp;&nbsp;&nbsp;&nbsp;&nbsp;&nbsp;&quot;is now centered on both components with unit variance:&quot;</div><div class='line' id='LC393'>&nbsp;&nbsp;&nbsp;&nbsp;&nbsp;]</div><div class='line' id='LC394'>&nbsp;&nbsp;&nbsp;&nbsp;},</div><div class='line' id='LC395'>&nbsp;&nbsp;&nbsp;&nbsp;{</div><div class='line' id='LC396'>&nbsp;&nbsp;&nbsp;&nbsp;&nbsp;&quot;cell_type&quot;: &quot;code&quot;,</div><div class='line' id='LC397'>&nbsp;&nbsp;&nbsp;&nbsp;&nbsp;&quot;collapsed&quot;: false,</div><div class='line' id='LC398'>&nbsp;&nbsp;&nbsp;&nbsp;&nbsp;&quot;input&quot;: [</div><div class='line' id='LC399'>&nbsp;&nbsp;&nbsp;&nbsp;&nbsp;&nbsp;&quot;import numpy as np\n&quot;,</div><div class='line' id='LC400'>&nbsp;&nbsp;&nbsp;&nbsp;&nbsp;&nbsp;&quot;np.round(X_pca.mean(axis=0), decimals=5)&quot;</div><div class='line' id='LC401'>&nbsp;&nbsp;&nbsp;&nbsp;&nbsp;],</div><div class='line' id='LC402'>&nbsp;&nbsp;&nbsp;&nbsp;&nbsp;&quot;language&quot;: &quot;python&quot;,</div><div class='line' id='LC403'>&nbsp;&nbsp;&nbsp;&nbsp;&nbsp;&quot;metadata&quot;: {},</div><div class='line' id='LC404'>&nbsp;&nbsp;&nbsp;&nbsp;&nbsp;&quot;outputs&quot;: [</div><div class='line' id='LC405'>&nbsp;&nbsp;&nbsp;&nbsp;&nbsp;&nbsp;{</div><div class='line' id='LC406'>&nbsp;&nbsp;&nbsp;&nbsp;&nbsp;&nbsp;&nbsp;&quot;metadata&quot;: {},</div><div class='line' id='LC407'>&nbsp;&nbsp;&nbsp;&nbsp;&nbsp;&nbsp;&nbsp;&quot;output_type&quot;: &quot;pyout&quot;,</div><div class='line' id='LC408'>&nbsp;&nbsp;&nbsp;&nbsp;&nbsp;&nbsp;&nbsp;&quot;prompt_number&quot;: 19,</div><div class='line' id='LC409'>&nbsp;&nbsp;&nbsp;&nbsp;&nbsp;&nbsp;&nbsp;&quot;text&quot;: [</div><div class='line' id='LC410'>&nbsp;&nbsp;&nbsp;&nbsp;&nbsp;&nbsp;&nbsp;&nbsp;&quot;array([-0.,  0.])&quot;</div><div class='line' id='LC411'>&nbsp;&nbsp;&nbsp;&nbsp;&nbsp;&nbsp;&nbsp;]</div><div class='line' id='LC412'>&nbsp;&nbsp;&nbsp;&nbsp;&nbsp;&nbsp;}</div><div class='line' id='LC413'>&nbsp;&nbsp;&nbsp;&nbsp;&nbsp;],</div><div class='line' id='LC414'>&nbsp;&nbsp;&nbsp;&nbsp;&nbsp;&quot;prompt_number&quot;: 19</div><div class='line' id='LC415'>&nbsp;&nbsp;&nbsp;&nbsp;},</div><div class='line' id='LC416'>&nbsp;&nbsp;&nbsp;&nbsp;{</div><div class='line' id='LC417'>&nbsp;&nbsp;&nbsp;&nbsp;&nbsp;&quot;cell_type&quot;: &quot;code&quot;,</div><div class='line' id='LC418'>&nbsp;&nbsp;&nbsp;&nbsp;&nbsp;&quot;collapsed&quot;: false,</div><div class='line' id='LC419'>&nbsp;&nbsp;&nbsp;&nbsp;&nbsp;&quot;input&quot;: [</div><div class='line' id='LC420'>&nbsp;&nbsp;&nbsp;&nbsp;&nbsp;&nbsp;&quot;np.round(X_pca.std(axis=0), decimals=5)&quot;</div><div class='line' id='LC421'>&nbsp;&nbsp;&nbsp;&nbsp;&nbsp;],</div><div class='line' id='LC422'>&nbsp;&nbsp;&nbsp;&nbsp;&nbsp;&quot;language&quot;: &quot;python&quot;,</div><div class='line' id='LC423'>&nbsp;&nbsp;&nbsp;&nbsp;&nbsp;&quot;metadata&quot;: {},</div><div class='line' id='LC424'>&nbsp;&nbsp;&nbsp;&nbsp;&nbsp;&quot;outputs&quot;: [</div><div class='line' id='LC425'>&nbsp;&nbsp;&nbsp;&nbsp;&nbsp;&nbsp;{</div><div class='line' id='LC426'>&nbsp;&nbsp;&nbsp;&nbsp;&nbsp;&nbsp;&nbsp;&quot;metadata&quot;: {},</div><div class='line' id='LC427'>&nbsp;&nbsp;&nbsp;&nbsp;&nbsp;&nbsp;&nbsp;&quot;output_type&quot;: &quot;pyout&quot;,</div><div class='line' id='LC428'>&nbsp;&nbsp;&nbsp;&nbsp;&nbsp;&nbsp;&nbsp;&quot;prompt_number&quot;: 20,</div><div class='line' id='LC429'>&nbsp;&nbsp;&nbsp;&nbsp;&nbsp;&nbsp;&nbsp;&quot;text&quot;: [</div><div class='line' id='LC430'>&nbsp;&nbsp;&nbsp;&nbsp;&nbsp;&nbsp;&nbsp;&nbsp;&quot;array([ 1.,  1.])&quot;</div><div class='line' id='LC431'>&nbsp;&nbsp;&nbsp;&nbsp;&nbsp;&nbsp;&nbsp;]</div><div class='line' id='LC432'>&nbsp;&nbsp;&nbsp;&nbsp;&nbsp;&nbsp;}</div><div class='line' id='LC433'>&nbsp;&nbsp;&nbsp;&nbsp;&nbsp;],</div><div class='line' id='LC434'>&nbsp;&nbsp;&nbsp;&nbsp;&nbsp;&quot;prompt_number&quot;: 20</div><div class='line' id='LC435'>&nbsp;&nbsp;&nbsp;&nbsp;},</div><div class='line' id='LC436'>&nbsp;&nbsp;&nbsp;&nbsp;{</div><div class='line' id='LC437'>&nbsp;&nbsp;&nbsp;&nbsp;&nbsp;&quot;cell_type&quot;: &quot;markdown&quot;,</div><div class='line' id='LC438'>&nbsp;&nbsp;&nbsp;&nbsp;&nbsp;&quot;metadata&quot;: {},</div><div class='line' id='LC439'>&nbsp;&nbsp;&nbsp;&nbsp;&nbsp;&quot;source&quot;: [</div><div class='line' id='LC440'>&nbsp;&nbsp;&nbsp;&nbsp;&nbsp;&nbsp;&quot;Furthermore, the samples components do no longer carry any linear correlation:&quot;</div><div class='line' id='LC441'>&nbsp;&nbsp;&nbsp;&nbsp;&nbsp;]</div><div class='line' id='LC442'>&nbsp;&nbsp;&nbsp;&nbsp;},</div><div class='line' id='LC443'>&nbsp;&nbsp;&nbsp;&nbsp;{</div><div class='line' id='LC444'>&nbsp;&nbsp;&nbsp;&nbsp;&nbsp;&quot;cell_type&quot;: &quot;code&quot;,</div><div class='line' id='LC445'>&nbsp;&nbsp;&nbsp;&nbsp;&nbsp;&quot;collapsed&quot;: false,</div><div class='line' id='LC446'>&nbsp;&nbsp;&nbsp;&nbsp;&nbsp;&quot;input&quot;: [</div><div class='line' id='LC447'>&nbsp;&nbsp;&nbsp;&nbsp;&nbsp;&nbsp;&quot;np.corrcoef(X_pca.T)&quot;</div><div class='line' id='LC448'>&nbsp;&nbsp;&nbsp;&nbsp;&nbsp;],</div><div class='line' id='LC449'>&nbsp;&nbsp;&nbsp;&nbsp;&nbsp;&quot;language&quot;: &quot;python&quot;,</div><div class='line' id='LC450'>&nbsp;&nbsp;&nbsp;&nbsp;&nbsp;&quot;metadata&quot;: {},</div><div class='line' id='LC451'>&nbsp;&nbsp;&nbsp;&nbsp;&nbsp;&quot;outputs&quot;: [</div><div class='line' id='LC452'>&nbsp;&nbsp;&nbsp;&nbsp;&nbsp;&nbsp;{</div><div class='line' id='LC453'>&nbsp;&nbsp;&nbsp;&nbsp;&nbsp;&nbsp;&nbsp;&quot;metadata&quot;: {},</div><div class='line' id='LC454'>&nbsp;&nbsp;&nbsp;&nbsp;&nbsp;&nbsp;&nbsp;&quot;output_type&quot;: &quot;pyout&quot;,</div><div class='line' id='LC455'>&nbsp;&nbsp;&nbsp;&nbsp;&nbsp;&nbsp;&nbsp;&quot;prompt_number&quot;: 21,</div><div class='line' id='LC456'>&nbsp;&nbsp;&nbsp;&nbsp;&nbsp;&nbsp;&nbsp;&quot;text&quot;: [</div><div class='line' id='LC457'>&nbsp;&nbsp;&nbsp;&nbsp;&nbsp;&nbsp;&nbsp;&nbsp;&quot;array([[  1.00000000e+00,  -7.58652400e-16],\n&quot;,</div><div class='line' id='LC458'>&nbsp;&nbsp;&nbsp;&nbsp;&nbsp;&nbsp;&nbsp;&nbsp;&quot;       [ -7.58652400e-16,   1.00000000e+00]])&quot;</div><div class='line' id='LC459'>&nbsp;&nbsp;&nbsp;&nbsp;&nbsp;&nbsp;&nbsp;]</div><div class='line' id='LC460'>&nbsp;&nbsp;&nbsp;&nbsp;&nbsp;&nbsp;}</div><div class='line' id='LC461'>&nbsp;&nbsp;&nbsp;&nbsp;&nbsp;],</div><div class='line' id='LC462'>&nbsp;&nbsp;&nbsp;&nbsp;&nbsp;&quot;prompt_number&quot;: 21</div><div class='line' id='LC463'>&nbsp;&nbsp;&nbsp;&nbsp;},</div><div class='line' id='LC464'>&nbsp;&nbsp;&nbsp;&nbsp;{</div><div class='line' id='LC465'>&nbsp;&nbsp;&nbsp;&nbsp;&nbsp;&quot;cell_type&quot;: &quot;markdown&quot;,</div><div class='line' id='LC466'>&nbsp;&nbsp;&nbsp;&nbsp;&nbsp;&quot;metadata&quot;: {},</div><div class='line' id='LC467'>&nbsp;&nbsp;&nbsp;&nbsp;&nbsp;&quot;source&quot;: [</div><div class='line' id='LC468'>&nbsp;&nbsp;&nbsp;&nbsp;&nbsp;&nbsp;&quot;We can visualize the projection using pylab, but first\n&quot;,</div><div class='line' id='LC469'>&nbsp;&nbsp;&nbsp;&nbsp;&nbsp;&nbsp;&quot;let&#39;s make sure our ipython notebook is in pylab inline mode&quot;</div><div class='line' id='LC470'>&nbsp;&nbsp;&nbsp;&nbsp;&nbsp;]</div><div class='line' id='LC471'>&nbsp;&nbsp;&nbsp;&nbsp;},</div><div class='line' id='LC472'>&nbsp;&nbsp;&nbsp;&nbsp;{</div><div class='line' id='LC473'>&nbsp;&nbsp;&nbsp;&nbsp;&nbsp;&quot;cell_type&quot;: &quot;code&quot;,</div><div class='line' id='LC474'>&nbsp;&nbsp;&nbsp;&nbsp;&nbsp;&quot;collapsed&quot;: false,</div><div class='line' id='LC475'>&nbsp;&nbsp;&nbsp;&nbsp;&nbsp;&quot;input&quot;: [</div><div class='line' id='LC476'>&nbsp;&nbsp;&nbsp;&nbsp;&nbsp;&nbsp;&quot;%pylab inline&quot;</div><div class='line' id='LC477'>&nbsp;&nbsp;&nbsp;&nbsp;&nbsp;],</div><div class='line' id='LC478'>&nbsp;&nbsp;&nbsp;&nbsp;&nbsp;&quot;language&quot;: &quot;python&quot;,</div><div class='line' id='LC479'>&nbsp;&nbsp;&nbsp;&nbsp;&nbsp;&quot;metadata&quot;: {},</div><div class='line' id='LC480'>&nbsp;&nbsp;&nbsp;&nbsp;&nbsp;&quot;outputs&quot;: [</div><div class='line' id='LC481'>&nbsp;&nbsp;&nbsp;&nbsp;&nbsp;&nbsp;{</div><div class='line' id='LC482'>&nbsp;&nbsp;&nbsp;&nbsp;&nbsp;&nbsp;&nbsp;&quot;output_type&quot;: &quot;stream&quot;,</div><div class='line' id='LC483'>&nbsp;&nbsp;&nbsp;&nbsp;&nbsp;&nbsp;&nbsp;&quot;stream&quot;: &quot;stdout&quot;,</div><div class='line' id='LC484'>&nbsp;&nbsp;&nbsp;&nbsp;&nbsp;&nbsp;&nbsp;&quot;text&quot;: [</div><div class='line' id='LC485'>&nbsp;&nbsp;&nbsp;&nbsp;&nbsp;&nbsp;&nbsp;&nbsp;&quot;Populating the interactive namespace from numpy and matplotlib\n&quot;</div><div class='line' id='LC486'>&nbsp;&nbsp;&nbsp;&nbsp;&nbsp;&nbsp;&nbsp;]</div><div class='line' id='LC487'>&nbsp;&nbsp;&nbsp;&nbsp;&nbsp;&nbsp;},</div><div class='line' id='LC488'>&nbsp;&nbsp;&nbsp;&nbsp;&nbsp;&nbsp;{</div><div class='line' id='LC489'>&nbsp;&nbsp;&nbsp;&nbsp;&nbsp;&nbsp;&nbsp;&quot;output_type&quot;: &quot;stream&quot;,</div><div class='line' id='LC490'>&nbsp;&nbsp;&nbsp;&nbsp;&nbsp;&nbsp;&nbsp;&quot;stream&quot;: &quot;stderr&quot;,</div><div class='line' id='LC491'>&nbsp;&nbsp;&nbsp;&nbsp;&nbsp;&nbsp;&nbsp;&quot;text&quot;: [</div><div class='line' id='LC492'>&nbsp;&nbsp;&nbsp;&nbsp;&nbsp;&nbsp;&nbsp;&nbsp;&quot;WARNING: pylab import has clobbered these variables: [&#39;uniform&#39;]\n&quot;,</div><div class='line' id='LC493'>&nbsp;&nbsp;&nbsp;&nbsp;&nbsp;&nbsp;&nbsp;&nbsp;&quot;`%pylab --no-import-all` prevents importing * from pylab and numpy\n&quot;</div><div class='line' id='LC494'>&nbsp;&nbsp;&nbsp;&nbsp;&nbsp;&nbsp;&nbsp;]</div><div class='line' id='LC495'>&nbsp;&nbsp;&nbsp;&nbsp;&nbsp;&nbsp;}</div><div class='line' id='LC496'>&nbsp;&nbsp;&nbsp;&nbsp;&nbsp;],</div><div class='line' id='LC497'>&nbsp;&nbsp;&nbsp;&nbsp;&nbsp;&quot;prompt_number&quot;: 22</div><div class='line' id='LC498'>&nbsp;&nbsp;&nbsp;&nbsp;},</div><div class='line' id='LC499'>&nbsp;&nbsp;&nbsp;&nbsp;{</div><div class='line' id='LC500'>&nbsp;&nbsp;&nbsp;&nbsp;&nbsp;&quot;cell_type&quot;: &quot;markdown&quot;,</div><div class='line' id='LC501'>&nbsp;&nbsp;&nbsp;&nbsp;&nbsp;&quot;metadata&quot;: {},</div><div class='line' id='LC502'>&nbsp;&nbsp;&nbsp;&nbsp;&nbsp;&quot;source&quot;: [</div><div class='line' id='LC503'>&nbsp;&nbsp;&nbsp;&nbsp;&nbsp;&nbsp;&quot;Now we can visualize the results using the following utility function:&quot;</div><div class='line' id='LC504'>&nbsp;&nbsp;&nbsp;&nbsp;&nbsp;]</div><div class='line' id='LC505'>&nbsp;&nbsp;&nbsp;&nbsp;},</div><div class='line' id='LC506'>&nbsp;&nbsp;&nbsp;&nbsp;{</div><div class='line' id='LC507'>&nbsp;&nbsp;&nbsp;&nbsp;&nbsp;&quot;cell_type&quot;: &quot;code&quot;,</div><div class='line' id='LC508'>&nbsp;&nbsp;&nbsp;&nbsp;&nbsp;&quot;collapsed&quot;: false,</div><div class='line' id='LC509'>&nbsp;&nbsp;&nbsp;&nbsp;&nbsp;&quot;input&quot;: [</div><div class='line' id='LC510'>&nbsp;&nbsp;&nbsp;&nbsp;&nbsp;&nbsp;&quot;import pylab as pl\n&quot;,</div><div class='line' id='LC511'>&nbsp;&nbsp;&nbsp;&nbsp;&nbsp;&nbsp;&quot;from itertools import cycle\n&quot;,</div><div class='line' id='LC512'>&nbsp;&nbsp;&nbsp;&nbsp;&nbsp;&nbsp;&quot;\n&quot;,</div><div class='line' id='LC513'>&nbsp;&nbsp;&nbsp;&nbsp;&nbsp;&nbsp;&quot;def plot_PCA_2D(data, target, target_names):\n&quot;,</div><div class='line' id='LC514'>&nbsp;&nbsp;&nbsp;&nbsp;&nbsp;&nbsp;&quot;    colors = cycle(&#39;rgbcmykw&#39;)\n&quot;,</div><div class='line' id='LC515'>&nbsp;&nbsp;&nbsp;&nbsp;&nbsp;&nbsp;&quot;    target_ids = range(len(target_names))\n&quot;,</div><div class='line' id='LC516'>&nbsp;&nbsp;&nbsp;&nbsp;&nbsp;&nbsp;&quot;    pl.figure()\n&quot;,</div><div class='line' id='LC517'>&nbsp;&nbsp;&nbsp;&nbsp;&nbsp;&nbsp;&quot;    for i, c, label in zip(target_ids, colors, target_names):\n&quot;,</div><div class='line' id='LC518'>&nbsp;&nbsp;&nbsp;&nbsp;&nbsp;&nbsp;&quot;        pl.scatter(data[target == i, 0], data[target == i, 1],\n&quot;,</div><div class='line' id='LC519'>&nbsp;&nbsp;&nbsp;&nbsp;&nbsp;&nbsp;&quot;                   c=c, label=label)\n&quot;,</div><div class='line' id='LC520'>&nbsp;&nbsp;&nbsp;&nbsp;&nbsp;&nbsp;&quot;    pl.legend()&quot;</div><div class='line' id='LC521'>&nbsp;&nbsp;&nbsp;&nbsp;&nbsp;],</div><div class='line' id='LC522'>&nbsp;&nbsp;&nbsp;&nbsp;&nbsp;&quot;language&quot;: &quot;python&quot;,</div><div class='line' id='LC523'>&nbsp;&nbsp;&nbsp;&nbsp;&nbsp;&quot;metadata&quot;: {},</div><div class='line' id='LC524'>&nbsp;&nbsp;&nbsp;&nbsp;&nbsp;&quot;outputs&quot;: [],</div><div class='line' id='LC525'>&nbsp;&nbsp;&nbsp;&nbsp;&nbsp;&quot;prompt_number&quot;: 23</div><div class='line' id='LC526'>&nbsp;&nbsp;&nbsp;&nbsp;},</div><div class='line' id='LC527'>&nbsp;&nbsp;&nbsp;&nbsp;{</div><div class='line' id='LC528'>&nbsp;&nbsp;&nbsp;&nbsp;&nbsp;&quot;cell_type&quot;: &quot;markdown&quot;,</div><div class='line' id='LC529'>&nbsp;&nbsp;&nbsp;&nbsp;&nbsp;&quot;metadata&quot;: {},</div><div class='line' id='LC530'>&nbsp;&nbsp;&nbsp;&nbsp;&nbsp;&quot;source&quot;: [</div><div class='line' id='LC531'>&nbsp;&nbsp;&nbsp;&nbsp;&nbsp;&nbsp;&quot;Now calling this function for our data, we see the plot:&quot;</div><div class='line' id='LC532'>&nbsp;&nbsp;&nbsp;&nbsp;&nbsp;]</div><div class='line' id='LC533'>&nbsp;&nbsp;&nbsp;&nbsp;},</div><div class='line' id='LC534'>&nbsp;&nbsp;&nbsp;&nbsp;{</div><div class='line' id='LC535'>&nbsp;&nbsp;&nbsp;&nbsp;&nbsp;&quot;cell_type&quot;: &quot;code&quot;,</div><div class='line' id='LC536'>&nbsp;&nbsp;&nbsp;&nbsp;&nbsp;&quot;collapsed&quot;: false,</div><div class='line' id='LC537'>&nbsp;&nbsp;&nbsp;&nbsp;&nbsp;&quot;input&quot;: [</div><div class='line' id='LC538'>&nbsp;&nbsp;&nbsp;&nbsp;&nbsp;&nbsp;&quot;plot_PCA_2D(X_pca, iris.target, iris.target_names)&quot;</div><div class='line' id='LC539'>&nbsp;&nbsp;&nbsp;&nbsp;&nbsp;],</div><div class='line' id='LC540'>&nbsp;&nbsp;&nbsp;&nbsp;&nbsp;&quot;language&quot;: &quot;python&quot;,</div><div class='line' id='LC541'>&nbsp;&nbsp;&nbsp;&nbsp;&nbsp;&quot;metadata&quot;: {},</div><div class='line' id='LC542'>&nbsp;&nbsp;&nbsp;&nbsp;&nbsp;&quot;outputs&quot;: [</div><div class='line' id='LC543'>&nbsp;&nbsp;&nbsp;&nbsp;&nbsp;&nbsp;{</div><div class='line' id='LC544'>&nbsp;&nbsp;&nbsp;&nbsp;&nbsp;&nbsp;&nbsp;&quot;metadata&quot;: {},</div><div class='line' id='LC545'>&nbsp;&nbsp;&nbsp;&nbsp;&nbsp;&nbsp;&nbsp;&quot;output_type&quot;: &quot;display_data&quot;,</div><div class='line' id='LC546'>&nbsp;&nbsp;&nbsp;&nbsp;&nbsp;&nbsp;&nbsp;&quot;png&quot;: &quot;iVBORw0KGgoAAAANSUhEUgAAAXUAAAD9CAYAAABDaefJAAAABHNCSVQICAgIfAhkiAAAAAlwSFlz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\n&quot;,</div><div class='line' id='LC547'>&nbsp;&nbsp;&nbsp;&nbsp;&nbsp;&nbsp;&nbsp;&quot;text&quot;: [</div><div class='line' id='LC548'>&lt;&lt;&lt;&lt;&lt;&lt;&lt; HEAD</div><div class='line' id='LC549'>&nbsp;&nbsp;&nbsp;&nbsp;&nbsp;&nbsp;&nbsp;&nbsp;&quot;&lt;matplotlib.figure.Figure at 0x3a44950&gt;&quot;</div><div class='line' id='LC550'>&nbsp;&nbsp;&nbsp;&nbsp;&nbsp;&nbsp;&nbsp;]</div><div class='line' id='LC551'>&nbsp;&nbsp;&nbsp;&nbsp;&nbsp;&nbsp;}</div><div class='line' id='LC552'>&nbsp;&nbsp;&nbsp;&nbsp;&nbsp;],</div><div class='line' id='LC553'>&nbsp;&nbsp;&nbsp;&nbsp;&nbsp;&quot;prompt_number&quot;: 12</div><div class='line' id='LC554'>=======</div><div class='line' id='LC555'>&nbsp;&nbsp;&nbsp;&nbsp;&nbsp;&nbsp;&nbsp;&nbsp;&quot;&lt;matplotlib.figure.Figure at 0x23f9c90&gt;&quot;</div><div class='line' id='LC556'>&nbsp;&nbsp;&nbsp;&nbsp;&nbsp;&nbsp;&nbsp;]</div><div class='line' id='LC557'>&nbsp;&nbsp;&nbsp;&nbsp;&nbsp;&nbsp;}</div><div class='line' id='LC558'>&nbsp;&nbsp;&nbsp;&nbsp;&nbsp;],</div><div class='line' id='LC559'>&nbsp;&nbsp;&nbsp;&nbsp;&nbsp;&quot;prompt_number&quot;: 24</div><div class='line' id='LC560'>&gt;&gt;&gt;&gt;&gt;&gt;&gt; upstream/master</div><div class='line' id='LC561'>&nbsp;&nbsp;&nbsp;&nbsp;},</div><div class='line' id='LC562'>&nbsp;&nbsp;&nbsp;&nbsp;{</div><div class='line' id='LC563'>&nbsp;&nbsp;&nbsp;&nbsp;&nbsp;&quot;cell_type&quot;: &quot;markdown&quot;,</div><div class='line' id='LC564'>&nbsp;&nbsp;&nbsp;&nbsp;&nbsp;&quot;metadata&quot;: {},</div><div class='line' id='LC565'>&nbsp;&nbsp;&nbsp;&nbsp;&nbsp;&quot;source&quot;: [</div><div class='line' id='LC566'>&nbsp;&nbsp;&nbsp;&nbsp;&nbsp;&nbsp;&quot;Note that this projection was determined *without* any information about the\n&quot;,</div><div class='line' id='LC567'>&nbsp;&nbsp;&nbsp;&nbsp;&nbsp;&nbsp;&quot;labels (represented by the colors): this is the sense in which the learning\n&quot;,</div><div class='line' id='LC568'>&nbsp;&nbsp;&nbsp;&nbsp;&nbsp;&nbsp;&quot;is **unsupervised**.  Nevertheless, we see that the projection gives us insight\n&quot;,</div><div class='line' id='LC569'>&nbsp;&nbsp;&nbsp;&nbsp;&nbsp;&nbsp;&quot;into the distribution of the different flowers in parameter space: notably,\n&quot;,</div><div class='line' id='LC570'>&nbsp;&nbsp;&nbsp;&nbsp;&nbsp;&nbsp;&quot;*iris setosa* is much more distinct than the other two species.&quot;</div><div class='line' id='LC571'>&nbsp;&nbsp;&nbsp;&nbsp;&nbsp;]</div><div class='line' id='LC572'>&nbsp;&nbsp;&nbsp;&nbsp;},</div><div class='line' id='LC573'>&nbsp;&nbsp;&nbsp;&nbsp;{</div><div class='line' id='LC574'>&nbsp;&nbsp;&nbsp;&nbsp;&nbsp;&quot;cell_type&quot;: &quot;markdown&quot;,</div><div class='line' id='LC575'>&nbsp;&nbsp;&nbsp;&nbsp;&nbsp;&quot;metadata&quot;: {},</div><div class='line' id='LC576'>&nbsp;&nbsp;&nbsp;&nbsp;&nbsp;&quot;source&quot;: [</div><div class='line' id='LC577'>&nbsp;&nbsp;&nbsp;&nbsp;&nbsp;&nbsp;&quot;Note also that the default implementation of PCA computes the\n&quot;,</div><div class='line' id='LC578'>&nbsp;&nbsp;&nbsp;&nbsp;&nbsp;&nbsp;&quot;singular value decomposition (SVD) of the full\n&quot;,</div><div class='line' id='LC579'>&nbsp;&nbsp;&nbsp;&nbsp;&nbsp;&nbsp;&quot;data matrix, which is not scalable when both ``n_samples`` and\n&quot;,</div><div class='line' id='LC580'>&nbsp;&nbsp;&nbsp;&nbsp;&nbsp;&nbsp;&quot;``n_features`` are big (more that a few thousands).\n&quot;,</div><div class='line' id='LC581'>&nbsp;&nbsp;&nbsp;&nbsp;&nbsp;&nbsp;&quot;If you are interested in a number of components that is much\n&quot;,</div><div class='line' id='LC582'>&nbsp;&nbsp;&nbsp;&nbsp;&nbsp;&nbsp;&quot;smaller than both ``n_samples`` and ``n_features``, consider using\n&quot;,</div><div class='line' id='LC583'>&nbsp;&nbsp;&nbsp;&nbsp;&nbsp;&nbsp;&quot;`sklearn.decomposition.RandomizedPCA` instead.&quot;</div><div class='line' id='LC584'>&nbsp;&nbsp;&nbsp;&nbsp;&nbsp;]</div><div class='line' id='LC585'>&nbsp;&nbsp;&nbsp;&nbsp;},</div><div class='line' id='LC586'>&nbsp;&nbsp;&nbsp;&nbsp;{</div><div class='line' id='LC587'>&nbsp;&nbsp;&nbsp;&nbsp;&nbsp;&quot;cell_type&quot;: &quot;markdown&quot;,</div><div class='line' id='LC588'>&nbsp;&nbsp;&nbsp;&nbsp;&nbsp;&quot;metadata&quot;: {},</div><div class='line' id='LC589'>&nbsp;&nbsp;&nbsp;&nbsp;&nbsp;&quot;source&quot;: [</div><div class='line' id='LC590'>&nbsp;&nbsp;&nbsp;&nbsp;&nbsp;&nbsp;&quot;Other dimensionality reduction techniques which are useful to know about:\n&quot;,</div><div class='line' id='LC591'>&nbsp;&nbsp;&nbsp;&nbsp;&nbsp;&nbsp;&quot;\n&quot;,</div><div class='line' id='LC592'>&nbsp;&nbsp;&nbsp;&nbsp;&nbsp;&nbsp;&quot;- `sklearn.decomposition.PCA`: &lt;br/&gt;\n&quot;,</div><div class='line' id='LC593'>&nbsp;&nbsp;&nbsp;&nbsp;&nbsp;&nbsp;&quot;   Principal Component Analysis\n&quot;,</div><div class='line' id='LC594'>&nbsp;&nbsp;&nbsp;&nbsp;&nbsp;&nbsp;&quot;- `sklearn.decomposition.RandomizedPCA`:&lt;br/&gt;\n&quot;,</div><div class='line' id='LC595'>&nbsp;&nbsp;&nbsp;&nbsp;&nbsp;&nbsp;&quot;   fast non-exact PCA implementation based on a randomized algorithm\n&quot;,</div><div class='line' id='LC596'>&nbsp;&nbsp;&nbsp;&nbsp;&nbsp;&nbsp;&quot;- `sklearn.decomposition.SparsePCA`:&lt;br/&gt;\n&quot;,</div><div class='line' id='LC597'>&nbsp;&nbsp;&nbsp;&nbsp;&nbsp;&nbsp;&quot;   PCA variant including L1 penalty for sparsity\n&quot;,</div><div class='line' id='LC598'>&nbsp;&nbsp;&nbsp;&nbsp;&nbsp;&nbsp;&quot;- `sklearn.decomposition.FastICA`:&lt;br/&gt;\n&quot;,</div><div class='line' id='LC599'>&nbsp;&nbsp;&nbsp;&nbsp;&nbsp;&nbsp;&quot;   Independent Component Analysis\n&quot;,</div><div class='line' id='LC600'>&nbsp;&nbsp;&nbsp;&nbsp;&nbsp;&nbsp;&quot;- `sklearn.decomposition.NMF`:&lt;br/&gt;\n&quot;,</div><div class='line' id='LC601'>&nbsp;&nbsp;&nbsp;&nbsp;&nbsp;&nbsp;&quot;   non-negative matrix factorization\n&quot;,</div><div class='line' id='LC602'>&nbsp;&nbsp;&nbsp;&nbsp;&nbsp;&nbsp;&quot;- `sklearn.manifold.LocallyLinearEmbedding`: &lt;br/&gt;\n&quot;,</div><div class='line' id='LC603'>&nbsp;&nbsp;&nbsp;&nbsp;&nbsp;&nbsp;&quot;   nonlinear manifold learning technique based on local neighborhood geometry\n&quot;,</div><div class='line' id='LC604'>&nbsp;&nbsp;&nbsp;&nbsp;&nbsp;&nbsp;&quot;- `sklearn.manifold.IsoMap`: &lt;br/&gt;\n&quot;,</div><div class='line' id='LC605'>&nbsp;&nbsp;&nbsp;&nbsp;&nbsp;&nbsp;&quot;   nonlinear manifold learning technique based on a sparse graph algorithm&quot;</div><div class='line' id='LC606'>&nbsp;&nbsp;&nbsp;&nbsp;&nbsp;]</div><div class='line' id='LC607'>&nbsp;&nbsp;&nbsp;&nbsp;},</div><div class='line' id='LC608'>&nbsp;&nbsp;&nbsp;&nbsp;{</div><div class='line' id='LC609'>&nbsp;&nbsp;&nbsp;&nbsp;&nbsp;&quot;cell_type&quot;: &quot;heading&quot;,</div><div class='line' id='LC610'>&nbsp;&nbsp;&nbsp;&nbsp;&nbsp;&quot;level&quot;: 2,</div><div class='line' id='LC611'>&nbsp;&nbsp;&nbsp;&nbsp;&nbsp;&quot;metadata&quot;: {},</div><div class='line' id='LC612'>&nbsp;&nbsp;&nbsp;&nbsp;&nbsp;&quot;source&quot;: [</div><div class='line' id='LC613'>&nbsp;&nbsp;&nbsp;&nbsp;&nbsp;&nbsp;&quot;Exercise:&quot;</div><div class='line' id='LC614'>&nbsp;&nbsp;&nbsp;&nbsp;&nbsp;]</div><div class='line' id='LC615'>&nbsp;&nbsp;&nbsp;&nbsp;},</div><div class='line' id='LC616'>&nbsp;&nbsp;&nbsp;&nbsp;{</div><div class='line' id='LC617'>&nbsp;&nbsp;&nbsp;&nbsp;&nbsp;&quot;cell_type&quot;: &quot;markdown&quot;,</div><div class='line' id='LC618'>&nbsp;&nbsp;&nbsp;&nbsp;&nbsp;&quot;metadata&quot;: {},</div><div class='line' id='LC619'>&nbsp;&nbsp;&nbsp;&nbsp;&nbsp;&quot;source&quot;: [</div><div class='line' id='LC620'>&nbsp;&nbsp;&nbsp;&nbsp;&nbsp;&nbsp;&quot;Repeat the above dimensionality reduction with\n&quot;,</div><div class='line' id='LC621'>&nbsp;&nbsp;&nbsp;&nbsp;&nbsp;&nbsp;&quot;``sklearn.decomposition.RandomizedPCA``.\n&quot;,</div><div class='line' id='LC622'>&nbsp;&nbsp;&nbsp;&nbsp;&nbsp;&nbsp;&quot;\n&quot;,</div><div class='line' id='LC623'>&nbsp;&nbsp;&nbsp;&nbsp;&nbsp;&nbsp;&quot;You can re-use the ``plot_PCA_2D`` function from above.\n&quot;,</div><div class='line' id='LC624'>&nbsp;&nbsp;&nbsp;&nbsp;&nbsp;&nbsp;&quot;Are the results similar to those from standard PCA?&quot;</div><div class='line' id='LC625'>&nbsp;&nbsp;&nbsp;&nbsp;&nbsp;]</div><div class='line' id='LC626'>&nbsp;&nbsp;&nbsp;&nbsp;},</div><div class='line' id='LC627'>&nbsp;&nbsp;&nbsp;&nbsp;{</div><div class='line' id='LC628'>&nbsp;&nbsp;&nbsp;&nbsp;&nbsp;&quot;cell_type&quot;: &quot;heading&quot;,</div><div class='line' id='LC629'>&nbsp;&nbsp;&nbsp;&nbsp;&nbsp;&quot;level&quot;: 2,</div><div class='line' id='LC630'>&nbsp;&nbsp;&nbsp;&nbsp;&nbsp;&quot;metadata&quot;: {},</div><div class='line' id='LC631'>&nbsp;&nbsp;&nbsp;&nbsp;&nbsp;&quot;source&quot;: [</div><div class='line' id='LC632'>&nbsp;&nbsp;&nbsp;&nbsp;&nbsp;&nbsp;&quot;Answer:&quot;</div><div class='line' id='LC633'>&nbsp;&nbsp;&nbsp;&nbsp;&nbsp;]</div><div class='line' id='LC634'>&nbsp;&nbsp;&nbsp;&nbsp;},</div><div class='line' id='LC635'>&nbsp;&nbsp;&nbsp;&nbsp;{</div><div class='line' id='LC636'>&nbsp;&nbsp;&nbsp;&nbsp;&nbsp;&quot;cell_type&quot;: &quot;markdown&quot;,</div><div class='line' id='LC637'>&nbsp;&nbsp;&nbsp;&nbsp;&nbsp;&quot;metadata&quot;: {},</div><div class='line' id='LC638'>&nbsp;&nbsp;&nbsp;&nbsp;&nbsp;&quot;source&quot;: [</div><div class='line' id='LC639'>&nbsp;&nbsp;&nbsp;&nbsp;&nbsp;&nbsp;&quot;Instead of use sklearn.decomposition.PCA, we use klearn.decomposition.RandomizedPCA repeat the process above:&quot;</div><div class='line' id='LC640'>&nbsp;&nbsp;&nbsp;&nbsp;&nbsp;]</div><div class='line' id='LC641'>&nbsp;&nbsp;&nbsp;&nbsp;},</div><div class='line' id='LC642'>&nbsp;&nbsp;&nbsp;&nbsp;{</div><div class='line' id='LC643'>&nbsp;&nbsp;&nbsp;&nbsp;&nbsp;&quot;cell_type&quot;: &quot;code&quot;,</div><div class='line' id='LC644'>&nbsp;&nbsp;&nbsp;&nbsp;&nbsp;&quot;collapsed&quot;: false,</div><div class='line' id='LC645'>&nbsp;&nbsp;&nbsp;&nbsp;&nbsp;&quot;input&quot;: [</div><div class='line' id='LC646'>&nbsp;&nbsp;&nbsp;&nbsp;&nbsp;&nbsp;&quot;RandomizedPCA?? #Principal component analysis (PCA) randomized SVD&quot;</div><div class='line' id='LC647'>&nbsp;&nbsp;&nbsp;&nbsp;&nbsp;],</div><div class='line' id='LC648'>&nbsp;&nbsp;&nbsp;&nbsp;&nbsp;&quot;language&quot;: &quot;python&quot;,</div><div class='line' id='LC649'>&nbsp;&nbsp;&nbsp;&nbsp;&nbsp;&quot;metadata&quot;: {},</div><div class='line' id='LC650'>&nbsp;&nbsp;&nbsp;&nbsp;&nbsp;&quot;outputs&quot;: [],</div><div class='line' id='LC651'>&nbsp;&nbsp;&nbsp;&nbsp;&nbsp;&quot;prompt_number&quot;: 14</div><div class='line' id='LC652'>&nbsp;&nbsp;&nbsp;&nbsp;},</div><div class='line' id='LC653'>&nbsp;&nbsp;&nbsp;&nbsp;{</div><div class='line' id='LC654'>&nbsp;&nbsp;&nbsp;&nbsp;&nbsp;&quot;cell_type&quot;: &quot;code&quot;,</div><div class='line' id='LC655'>&nbsp;&nbsp;&nbsp;&nbsp;&nbsp;&quot;collapsed&quot;: false,</div><div class='line' id='LC656'>&nbsp;&nbsp;&nbsp;&nbsp;&nbsp;&quot;input&quot;: [</div><div class='line' id='LC657'>&nbsp;&nbsp;&nbsp;&nbsp;&nbsp;&nbsp;&quot;\&quot;\&quot;\&quot;\n&quot;,</div><div class='line' id='LC658'>&nbsp;&nbsp;&nbsp;&nbsp;&nbsp;&nbsp;&quot;from sklearn.datasets import load_iris\n&quot;,</div><div class='line' id='LC659'>&nbsp;&nbsp;&nbsp;&nbsp;&nbsp;&nbsp;&quot;iris = load_iris()\n&quot;,</div><div class='line' id='LC660'>&nbsp;&nbsp;&nbsp;&nbsp;&nbsp;&nbsp;&quot;X = iris.data\n&quot;,</div><div class='line' id='LC661'>&nbsp;&nbsp;&nbsp;&nbsp;&nbsp;&nbsp;&quot;y = iris.target\n&quot;,</div><div class='line' id='LC662'>&nbsp;&nbsp;&nbsp;&nbsp;&nbsp;&nbsp;&quot;\&quot;\&quot;\&quot;\n&quot;,</div><div class='line' id='LC663'>&nbsp;&nbsp;&nbsp;&nbsp;&nbsp;&nbsp;&quot;\n&quot;,</div><div class='line' id='LC664'>&nbsp;&nbsp;&nbsp;&nbsp;&nbsp;&nbsp;&quot;from sklearn.decomposition import RandomizedPCA\n&quot;,</div><div class='line' id='LC665'>&nbsp;&nbsp;&nbsp;&nbsp;&nbsp;&nbsp;&quot;pca_r = RandomizedPCA(n_components=2, whiten=True)\n&quot;,</div><div class='line' id='LC666'>&nbsp;&nbsp;&nbsp;&nbsp;&nbsp;&nbsp;&quot;pca_r.fit(X)&quot;</div><div class='line' id='LC667'>&nbsp;&nbsp;&nbsp;&nbsp;&nbsp;],</div><div class='line' id='LC668'>&nbsp;&nbsp;&nbsp;&nbsp;&nbsp;&quot;language&quot;: &quot;python&quot;,</div><div class='line' id='LC669'>&nbsp;&nbsp;&nbsp;&nbsp;&nbsp;&quot;metadata&quot;: {},</div><div class='line' id='LC670'>&nbsp;&nbsp;&nbsp;&nbsp;&nbsp;&quot;outputs&quot;: [</div><div class='line' id='LC671'>&nbsp;&nbsp;&nbsp;&nbsp;&nbsp;&nbsp;{</div><div class='line' id='LC672'>&nbsp;&nbsp;&nbsp;&nbsp;&nbsp;&nbsp;&nbsp;&quot;metadata&quot;: {},</div><div class='line' id='LC673'>&nbsp;&nbsp;&nbsp;&nbsp;&nbsp;&nbsp;&nbsp;&quot;output_type&quot;: &quot;pyout&quot;,</div><div class='line' id='LC674'>&nbsp;&nbsp;&nbsp;&nbsp;&nbsp;&nbsp;&nbsp;&quot;prompt_number&quot;: 15,</div><div class='line' id='LC675'>&nbsp;&nbsp;&nbsp;&nbsp;&nbsp;&nbsp;&nbsp;&quot;text&quot;: [</div><div class='line' id='LC676'>&nbsp;&nbsp;&nbsp;&nbsp;&nbsp;&nbsp;&nbsp;&nbsp;&quot;RandomizedPCA(copy=True, iterated_power=3, n_components=2, random_state=None,\n&quot;,</div><div class='line' id='LC677'>&nbsp;&nbsp;&nbsp;&nbsp;&nbsp;&nbsp;&nbsp;&nbsp;&quot;       whiten=True)&quot;</div><div class='line' id='LC678'>&nbsp;&nbsp;&nbsp;&nbsp;&nbsp;&nbsp;&nbsp;]</div><div class='line' id='LC679'>&nbsp;&nbsp;&nbsp;&nbsp;&nbsp;&nbsp;}</div><div class='line' id='LC680'>&nbsp;&nbsp;&nbsp;&nbsp;&nbsp;],</div><div class='line' id='LC681'>&nbsp;&nbsp;&nbsp;&nbsp;&nbsp;&quot;prompt_number&quot;: 15</div><div class='line' id='LC682'>&nbsp;&nbsp;&nbsp;&nbsp;},</div><div class='line' id='LC683'>&nbsp;&nbsp;&nbsp;&nbsp;{</div><div class='line' id='LC684'>&nbsp;&nbsp;&nbsp;&nbsp;&nbsp;&quot;cell_type&quot;: &quot;markdown&quot;,</div><div class='line' id='LC685'>&nbsp;&nbsp;&nbsp;&nbsp;&nbsp;&quot;metadata&quot;: {},</div><div class='line' id='LC686'>&nbsp;&nbsp;&nbsp;&nbsp;&nbsp;&quot;source&quot;: [</div><div class='line' id='LC687'>&nbsp;&nbsp;&nbsp;&nbsp;&nbsp;&nbsp;&quot;Once fitted, the pca model exposes the singular vectors in the components_ attribute:\n&quot;,</div><div class='line' id='LC688'>&nbsp;&nbsp;&nbsp;&nbsp;&nbsp;&nbsp;&quot;\n&quot;,</div><div class='line' id='LC689'>&nbsp;&nbsp;&nbsp;&nbsp;&nbsp;&nbsp;&quot;Here&#39;s the result from sklearn.decomposition.PCA:\n&quot;,</div><div class='line' id='LC690'>&nbsp;&nbsp;&nbsp;&nbsp;&nbsp;&nbsp;&quot;\n&quot;,</div><div class='line' id='LC691'>&nbsp;&nbsp;&nbsp;&nbsp;&nbsp;&nbsp;&quot;array([[ 0.17650757, -0.04015901,  0.41812992,  0.17516725],\n&quot;,</div><div class='line' id='LC692'>&nbsp;&nbsp;&nbsp;&nbsp;&nbsp;&nbsp;&quot;       [-1.33840478, -1.48757227,  0.35831476,  0.15229463]])&quot;</div><div class='line' id='LC693'>&nbsp;&nbsp;&nbsp;&nbsp;&nbsp;]</div><div class='line' id='LC694'>&nbsp;&nbsp;&nbsp;&nbsp;},</div><div class='line' id='LC695'>&nbsp;&nbsp;&nbsp;&nbsp;{</div><div class='line' id='LC696'>&nbsp;&nbsp;&nbsp;&nbsp;&nbsp;&quot;cell_type&quot;: &quot;code&quot;,</div><div class='line' id='LC697'>&nbsp;&nbsp;&nbsp;&nbsp;&nbsp;&quot;collapsed&quot;: false,</div><div class='line' id='LC698'>&nbsp;&nbsp;&nbsp;&nbsp;&nbsp;&quot;input&quot;: [</div><div class='line' id='LC699'>&nbsp;&nbsp;&nbsp;&nbsp;&nbsp;&nbsp;&quot;pca_r.components_ #The same result with pca.components_&quot;</div><div class='line' id='LC700'>&nbsp;&nbsp;&nbsp;&nbsp;&nbsp;],</div><div class='line' id='LC701'>&nbsp;&nbsp;&nbsp;&nbsp;&nbsp;&quot;language&quot;: &quot;python&quot;,</div><div class='line' id='LC702'>&nbsp;&nbsp;&nbsp;&nbsp;&nbsp;&quot;metadata&quot;: {},</div><div class='line' id='LC703'>&nbsp;&nbsp;&nbsp;&nbsp;&nbsp;&quot;outputs&quot;: []</div><div class='line' id='LC704'>&nbsp;&nbsp;&nbsp;&nbsp;},</div><div class='line' id='LC705'>&nbsp;&nbsp;&nbsp;&nbsp;{</div><div class='line' id='LC706'>&nbsp;&nbsp;&nbsp;&nbsp;&nbsp;&quot;cell_type&quot;: &quot;markdown&quot;,</div><div class='line' id='LC707'>&nbsp;&nbsp;&nbsp;&nbsp;&nbsp;&quot;metadata&quot;: {},</div><div class='line' id='LC708'>&nbsp;&nbsp;&nbsp;&nbsp;&nbsp;&quot;source&quot;: [</div><div class='line' id='LC709'>&nbsp;&nbsp;&nbsp;&nbsp;&nbsp;&nbsp;&quot;Let&#39;s try some other attributes:&quot;</div><div class='line' id='LC710'>&nbsp;&nbsp;&nbsp;&nbsp;&nbsp;]</div><div class='line' id='LC711'>&nbsp;&nbsp;&nbsp;&nbsp;},</div><div class='line' id='LC712'>&nbsp;&nbsp;&nbsp;&nbsp;{</div><div class='line' id='LC713'>&nbsp;&nbsp;&nbsp;&nbsp;&nbsp;&quot;cell_type&quot;: &quot;code&quot;,</div><div class='line' id='LC714'>&nbsp;&nbsp;&nbsp;&nbsp;&nbsp;&quot;collapsed&quot;: false,</div><div class='line' id='LC715'>&nbsp;&nbsp;&nbsp;&nbsp;&nbsp;&quot;input&quot;: [</div><div class='line' id='LC716'>&nbsp;&nbsp;&nbsp;&nbsp;&nbsp;&nbsp;&quot;print pca_r.explained_variance_ratio_\n&quot;,</div><div class='line' id='LC717'>&nbsp;&nbsp;&nbsp;&nbsp;&nbsp;&nbsp;&quot;\n&quot;,</div><div class='line' id='LC718'>&nbsp;&nbsp;&nbsp;&nbsp;&nbsp;&nbsp;&quot;print pca_r.explained_variance_ratio_.sum()&quot;</div><div class='line' id='LC719'>&nbsp;&nbsp;&nbsp;&nbsp;&nbsp;],</div><div class='line' id='LC720'>&nbsp;&nbsp;&nbsp;&nbsp;&nbsp;&quot;language&quot;: &quot;python&quot;,</div><div class='line' id='LC721'>&nbsp;&nbsp;&nbsp;&nbsp;&nbsp;&quot;metadata&quot;: {},</div><div class='line' id='LC722'>&nbsp;&nbsp;&nbsp;&nbsp;&nbsp;&quot;outputs&quot;: []</div><div class='line' id='LC723'>&nbsp;&nbsp;&nbsp;&nbsp;},</div><div class='line' id='LC724'>&nbsp;&nbsp;&nbsp;&nbsp;{</div><div class='line' id='LC725'>&nbsp;&nbsp;&nbsp;&nbsp;&nbsp;&quot;cell_type&quot;: &quot;markdown&quot;,</div><div class='line' id='LC726'>&nbsp;&nbsp;&nbsp;&nbsp;&nbsp;&quot;metadata&quot;: {},</div><div class='line' id='LC727'>&nbsp;&nbsp;&nbsp;&nbsp;&nbsp;&quot;source&quot;: [</div><div class='line' id='LC728'>&nbsp;&nbsp;&nbsp;&nbsp;&nbsp;&nbsp;&quot;Now project the iris dataset along those first two dimensions:&quot;</div><div class='line' id='LC729'>&nbsp;&nbsp;&nbsp;&nbsp;&nbsp;]</div><div class='line' id='LC730'>&nbsp;&nbsp;&nbsp;&nbsp;},</div><div class='line' id='LC731'>&nbsp;&nbsp;&nbsp;&nbsp;{</div><div class='line' id='LC732'>&nbsp;&nbsp;&nbsp;&nbsp;&nbsp;&quot;cell_type&quot;: &quot;code&quot;,</div><div class='line' id='LC733'>&nbsp;&nbsp;&nbsp;&nbsp;&nbsp;&quot;collapsed&quot;: false,</div><div class='line' id='LC734'>&nbsp;&nbsp;&nbsp;&nbsp;&nbsp;&quot;input&quot;: [</div><div class='line' id='LC735'>&nbsp;&nbsp;&nbsp;&nbsp;&nbsp;&nbsp;&quot;X_pca_r = pca_r.transform(X)&quot;</div><div class='line' id='LC736'>&nbsp;&nbsp;&nbsp;&nbsp;&nbsp;],</div><div class='line' id='LC737'>&nbsp;&nbsp;&nbsp;&nbsp;&nbsp;&quot;language&quot;: &quot;python&quot;,</div><div class='line' id='LC738'>&nbsp;&nbsp;&nbsp;&nbsp;&nbsp;&quot;metadata&quot;: {},</div><div class='line' id='LC739'>&nbsp;&nbsp;&nbsp;&nbsp;&nbsp;&quot;outputs&quot;: []</div><div class='line' id='LC740'>&nbsp;&nbsp;&nbsp;&nbsp;},</div><div class='line' id='LC741'>&nbsp;&nbsp;&nbsp;&nbsp;{</div><div class='line' id='LC742'>&nbsp;&nbsp;&nbsp;&nbsp;&nbsp;&quot;cell_type&quot;: &quot;markdown&quot;,</div><div class='line' id='LC743'>&nbsp;&nbsp;&nbsp;&nbsp;&nbsp;&quot;metadata&quot;: {},</div><div class='line' id='LC744'>&nbsp;&nbsp;&nbsp;&nbsp;&nbsp;&quot;source&quot;: [</div><div class='line' id='LC745'>&nbsp;&nbsp;&nbsp;&nbsp;&nbsp;&nbsp;&quot;Check whether that the data is now with mean of zero and unit variance:&quot;</div><div class='line' id='LC746'>&nbsp;&nbsp;&nbsp;&nbsp;&nbsp;]</div><div class='line' id='LC747'>&nbsp;&nbsp;&nbsp;&nbsp;},</div><div class='line' id='LC748'>&nbsp;&nbsp;&nbsp;&nbsp;{</div><div class='line' id='LC749'>&nbsp;&nbsp;&nbsp;&nbsp;&nbsp;&quot;cell_type&quot;: &quot;code&quot;,</div><div class='line' id='LC750'>&nbsp;&nbsp;&nbsp;&nbsp;&nbsp;&quot;collapsed&quot;: false,</div><div class='line' id='LC751'>&nbsp;&nbsp;&nbsp;&nbsp;&nbsp;&quot;input&quot;: [</div><div class='line' id='LC752'>&nbsp;&nbsp;&nbsp;&nbsp;&nbsp;&nbsp;&quot;print \&quot;the mean of the first two components are:\&quot;,np.round(X_pca.mean(axis=0), decimals=5),\&quot;and their variance are:\&quot;,np.round(X_pca.mean(axis=0), decimals=5)&quot;</div><div class='line' id='LC753'>&nbsp;&nbsp;&nbsp;&nbsp;&nbsp;],</div><div class='line' id='LC754'>&nbsp;&nbsp;&nbsp;&nbsp;&nbsp;&quot;language&quot;: &quot;python&quot;,</div><div class='line' id='LC755'>&nbsp;&nbsp;&nbsp;&nbsp;&nbsp;&quot;metadata&quot;: {},</div><div class='line' id='LC756'>&nbsp;&nbsp;&nbsp;&nbsp;&nbsp;&quot;outputs&quot;: []</div><div class='line' id='LC757'>&nbsp;&nbsp;&nbsp;&nbsp;},</div><div class='line' id='LC758'>&nbsp;&nbsp;&nbsp;&nbsp;{</div><div class='line' id='LC759'>&nbsp;&nbsp;&nbsp;&nbsp;&nbsp;&quot;cell_type&quot;: &quot;markdown&quot;,</div><div class='line' id='LC760'>&nbsp;&nbsp;&nbsp;&nbsp;&nbsp;&quot;metadata&quot;: {},</div><div class='line' id='LC761'>&nbsp;&nbsp;&nbsp;&nbsp;&nbsp;&quot;source&quot;: [</div><div class='line' id='LC762'>&nbsp;&nbsp;&nbsp;&nbsp;&nbsp;&nbsp;&quot;The coefficient covariance matrix tells us the components are not linear correlated:&quot;</div><div class='line' id='LC763'>&nbsp;&nbsp;&nbsp;&nbsp;&nbsp;]</div><div class='line' id='LC764'>&nbsp;&nbsp;&nbsp;&nbsp;},</div><div class='line' id='LC765'>&nbsp;&nbsp;&nbsp;&nbsp;{</div><div class='line' id='LC766'>&nbsp;&nbsp;&nbsp;&nbsp;&nbsp;&quot;cell_type&quot;: &quot;code&quot;,</div><div class='line' id='LC767'>&nbsp;&nbsp;&nbsp;&nbsp;&nbsp;&quot;collapsed&quot;: false,</div><div class='line' id='LC768'>&nbsp;&nbsp;&nbsp;&nbsp;&nbsp;&quot;input&quot;: [</div><div class='line' id='LC769'>&nbsp;&nbsp;&nbsp;&nbsp;&nbsp;&nbsp;&quot;np.corrcoef(X_pca_r.T)&quot;</div><div class='line' id='LC770'>&nbsp;&nbsp;&nbsp;&nbsp;&nbsp;],</div><div class='line' id='LC771'>&nbsp;&nbsp;&nbsp;&nbsp;&nbsp;&quot;language&quot;: &quot;python&quot;,</div><div class='line' id='LC772'>&nbsp;&nbsp;&nbsp;&nbsp;&nbsp;&quot;metadata&quot;: {},</div><div class='line' id='LC773'>&nbsp;&nbsp;&nbsp;&nbsp;&nbsp;&quot;outputs&quot;: []</div><div class='line' id='LC774'>&nbsp;&nbsp;&nbsp;&nbsp;},</div><div class='line' id='LC775'>&nbsp;&nbsp;&nbsp;&nbsp;{</div><div class='line' id='LC776'>&nbsp;&nbsp;&nbsp;&nbsp;&nbsp;&quot;cell_type&quot;: &quot;markdown&quot;,</div><div class='line' id='LC777'>&nbsp;&nbsp;&nbsp;&nbsp;&nbsp;&quot;metadata&quot;: {},</div><div class='line' id='LC778'>&nbsp;&nbsp;&nbsp;&nbsp;&nbsp;&quot;source&quot;: [</div><div class='line' id='LC779'>&nbsp;&nbsp;&nbsp;&nbsp;&nbsp;&nbsp;&quot;Now we can visualize the projection using plot_PCA_2D function from above:&quot;</div><div class='line' id='LC780'>&nbsp;&nbsp;&nbsp;&nbsp;&nbsp;]</div><div class='line' id='LC781'>&nbsp;&nbsp;&nbsp;&nbsp;},</div><div class='line' id='LC782'>&nbsp;&nbsp;&nbsp;&nbsp;{</div><div class='line' id='LC783'>&nbsp;&nbsp;&nbsp;&nbsp;&nbsp;&quot;cell_type&quot;: &quot;code&quot;,</div><div class='line' id='LC784'>&nbsp;&nbsp;&nbsp;&nbsp;&nbsp;&quot;collapsed&quot;: false,</div><div class='line' id='LC785'>&nbsp;&nbsp;&nbsp;&nbsp;&nbsp;&quot;input&quot;: [</div><div class='line' id='LC786'>&nbsp;&nbsp;&nbsp;&nbsp;&nbsp;&nbsp;&quot;plot_PCA_2D(X_pca_r, iris.target, iris.target_names)&quot;</div><div class='line' id='LC787'>&nbsp;&nbsp;&nbsp;&nbsp;&nbsp;],</div><div class='line' id='LC788'>&nbsp;&nbsp;&nbsp;&nbsp;&nbsp;&quot;language&quot;: &quot;python&quot;,</div><div class='line' id='LC789'>&nbsp;&nbsp;&nbsp;&nbsp;&nbsp;&quot;metadata&quot;: {},</div><div class='line' id='LC790'>&nbsp;&nbsp;&nbsp;&nbsp;&nbsp;&quot;outputs&quot;: []</div><div class='line' id='LC791'>&nbsp;&nbsp;&nbsp;&nbsp;},</div><div class='line' id='LC792'>&nbsp;&nbsp;&nbsp;&nbsp;{</div><div class='line' id='LC793'>&nbsp;&nbsp;&nbsp;&nbsp;&nbsp;&quot;cell_type&quot;: &quot;markdown&quot;,</div><div class='line' id='LC794'>&nbsp;&nbsp;&nbsp;&nbsp;&nbsp;&quot;metadata&quot;: {},</div><div class='line' id='LC795'>&nbsp;&nbsp;&nbsp;&nbsp;&nbsp;&quot;source&quot;: [</div><div class='line' id='LC796'>&nbsp;&nbsp;&nbsp;&nbsp;&nbsp;&nbsp;&quot;&lt;span style=\&quot;color:green\&quot;&gt;\n&quot;,</div><div class='line' id='LC797'>&nbsp;&nbsp;&nbsp;&nbsp;&nbsp;&nbsp;&quot;Review from **Chuan Wang**&quot;</div><div class='line' id='LC798'>&nbsp;&nbsp;&nbsp;&nbsp;&nbsp;]</div><div class='line' id='LC799'>&nbsp;&nbsp;&nbsp;&nbsp;},</div><div class='line' id='LC800'>&nbsp;&nbsp;&nbsp;&nbsp;{</div><div class='line' id='LC801'>&nbsp;&nbsp;&nbsp;&nbsp;&nbsp;&quot;cell_type&quot;: &quot;markdown&quot;,</div><div class='line' id='LC802'>&nbsp;&nbsp;&nbsp;&nbsp;&nbsp;&quot;metadata&quot;: {},</div><div class='line' id='LC803'>&nbsp;&nbsp;&nbsp;&nbsp;&nbsp;&quot;source&quot;: [</div><div class='line' id='LC804'>&nbsp;&nbsp;&nbsp;&nbsp;&nbsp;&nbsp;&quot;Everything is fine. You might do some comparsion between two algorithm.&quot;</div><div class='line' id='LC805'>&nbsp;&nbsp;&nbsp;&nbsp;&nbsp;]</div><div class='line' id='LC806'>&nbsp;&nbsp;&nbsp;&nbsp;},</div><div class='line' id='LC807'>&nbsp;&nbsp;&nbsp;&nbsp;{</div><div class='line' id='LC808'>&nbsp;&nbsp;&nbsp;&nbsp;&nbsp;&quot;cell_type&quot;: &quot;markdown&quot;,</div><div class='line' id='LC809'>&nbsp;&nbsp;&nbsp;&nbsp;&nbsp;&quot;metadata&quot;: {},</div><div class='line' id='LC810'>&nbsp;&nbsp;&nbsp;&nbsp;&nbsp;&quot;source&quot;: [</div><div class='line' id='LC811'>&nbsp;&nbsp;&nbsp;&nbsp;&nbsp;&nbsp;&quot;&lt;span style=\&quot;color:green\&quot;&gt;\n&quot;,</div><div class='line' id='LC812'>&nbsp;&nbsp;&nbsp;&nbsp;&nbsp;&nbsp;&quot;Review from **Michael Kirby**\n&quot;,</div><div class='line' id='LC813'>&nbsp;&nbsp;&nbsp;&nbsp;&nbsp;&nbsp;&quot;&lt;/span&gt; &lt;br/&gt;\n&quot;,</div><div class='line' id='LC814'>&nbsp;&nbsp;&nbsp;&nbsp;&nbsp;&nbsp;&quot;I agree with Chuan on this one. Try to explain how any of the data may or may not be quantitative evidence as to which algorithm worked better in this case.&quot;</div><div class='line' id='LC815'>&nbsp;&nbsp;&nbsp;&nbsp;&nbsp;]</div><div class='line' id='LC816'>&nbsp;&nbsp;&nbsp;&nbsp;}</div><div class='line' id='LC817'>&nbsp;&nbsp;&nbsp;],</div><div class='line' id='LC818'>&nbsp;&nbsp;&nbsp;&quot;metadata&quot;: {}</div><div class='line' id='LC819'>&nbsp;&nbsp;}</div><div class='line' id='LC820'>&nbsp;]</div><div class='line' id='LC821'>}</div></pre></div></td>
          </tr>
        </table>
  </div>

  </div>
</div>

<a href="#jump-to-line" rel="facebox[.linejump]" data-hotkey="l" class="js-jump-to-line" style="display:none">Jump to Line</a>
<div id="jump-to-line" style="display:none">
  <form accept-charset="UTF-8" class="js-jump-to-line-form">
    <input class="linejump-input js-jump-to-line-field" type="text" placeholder="Jump to line&hellip;" autofocus>
    <button type="submit" class="button">Go</button>
  </form>
</div>

        </div>

      </div><!-- /.repo-container -->
      <div class="modal-backdrop"></div>
    </div><!-- /.container -->
  </div><!-- /.site -->


    </div><!-- /.wrapper -->

      <div class="container">
  <div class="site-footer">
    <ul class="site-footer-links right">
      <li><a href="https://status.github.com/">Status</a></li>
      <li><a href="http://developer.github.com">API</a></li>
      <li><a href="http://training.github.com">Training</a></li>
      <li><a href="http://shop.github.com">Shop</a></li>
      <li><a href="/blog">Blog</a></li>
      <li><a href="/about">About</a></li>

    </ul>

    <a href="/">
      <span class="mega-octicon octicon-mark-github" title="GitHub"></span>
    </a>

    <ul class="site-footer-links">
      <li>&copy; 2014 <span title="0.04928s from github-fe128-cp1-prd.iad.github.net">GitHub</span>, Inc.</li>
        <li><a href="/site/terms">Terms</a></li>
        <li><a href="/site/privacy">Privacy</a></li>
        <li><a href="/security">Security</a></li>
        <li><a href="/contact">Contact</a></li>
    </ul>
  </div><!-- /.site-footer -->
</div><!-- /.container -->


    <div class="fullscreen-overlay js-fullscreen-overlay" id="fullscreen_overlay">
  <div class="fullscreen-container js-fullscreen-container">
    <div class="textarea-wrap">
      <textarea name="fullscreen-contents" id="fullscreen-contents" class="fullscreen-contents js-fullscreen-contents" placeholder="" data-suggester="fullscreen_suggester"></textarea>
    </div>
  </div>
  <div class="fullscreen-sidebar">
    <a href="#" class="exit-fullscreen js-exit-fullscreen tooltipped tooltipped-w" aria-label="Exit Zen Mode">
      <span class="mega-octicon octicon-screen-normal"></span>
    </a>
    <a href="#" class="theme-switcher js-theme-switcher tooltipped tooltipped-w"
      aria-label="Switch themes">
      <span class="octicon octicon-color-mode"></span>
    </a>
  </div>
</div>



    <div id="ajax-error-message" class="flash flash-error">
      <span class="octicon octicon-alert"></span>
      <a href="#" class="octicon octicon-remove-close close js-ajax-error-dismiss"></a>
      Something went wrong with that request. Please try again.
    </div>

  </body>
</html>

