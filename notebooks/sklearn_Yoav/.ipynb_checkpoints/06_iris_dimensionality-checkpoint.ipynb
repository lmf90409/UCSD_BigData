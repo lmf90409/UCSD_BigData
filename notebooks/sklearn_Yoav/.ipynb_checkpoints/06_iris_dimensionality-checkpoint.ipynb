{
 "metadata": {
  "name": "",
  "signature": "sha256:e090aacaf5f285c583615a5ad4b09131650bc8a135fc666a62be6ef05cea88ae"
 },
 "nbformat": 3,
 "nbformat_minor": 0,
 "worksheets": [
  {
   "cells": [
    {
     "cell_type": "heading",
     "level": 1,
     "metadata": {},
     "source": [
      "Unsupervised Learning: Dimensionality Reduction and Visualization"
     ]
    },
    {
     "cell_type": "markdown",
     "metadata": {},
     "source": [
      "Previously we worked on visualizing the iris data by plotting\n",
      "pairs of dimensions by trial and error, until we arrived at\n",
      "the best pair of dimensions for our dataset.  Here we will\n",
      "use an unsupervised *dimensionality reduction* algorithm\n",
      "to accomplish this more automatically."
     ]
    },
    {
     "cell_type": "markdown",
     "metadata": {},
     "source": [
      "By the end of this section you will\n",
      "\n",
      "- Know how to instantiate and train an unsupervised dimensionality reduction algorithm:\n",
      "  Principal Component Analysis (PCA)\n",
      "- Know how to use PCA to visualize high-dimensional data"
     ]
    },
    {
     "cell_type": "heading",
     "level": 2,
     "metadata": {},
     "source": [
      "Dimensionality Reduction: PCA"
     ]
    },
    {
     "cell_type": "markdown",
     "metadata": {},
     "source": [
      "Dimensionality reduction is the task of deriving a set of new\n",
      "artificial features that is smaller than the original feature\n",
      "set while retaining most of the variance of the original data.\n",
      "Here we'll use a common but powerful dimensionality reduction\n",
      "technique called Principal Component Analysis (PCA).\n",
      "We'll perform PCA on the iris dataset that we saw before:"
     ]
    },
    {
     "cell_type": "code",
     "collapsed": false,
     "input": [
      "from sklearn.datasets import load_iris\n",
      "iris = load_iris()\n",
      "X = iris.data\n",
      "y = iris.target"
     ],
     "language": "python",
     "metadata": {},
     "outputs": [],
     "prompt_number": 1
    },
    {
     "cell_type": "markdown",
     "metadata": {},
     "source": [
      "PCA is performed using linear combinations of the original features\n",
      "using a truncated Singular Value Decomposition of the matrix X so\n",
      "as to project the data onto a base of the top singular vectors.\n",
      "If the number of retained components is 2 or 3, PCA can be used\n",
      "to visualize the dataset."
     ]
    },
    {
     "cell_type": "code",
     "collapsed": false,
     "input": [
      "from sklearn.decomposition import PCA\n",
      "pca = PCA(n_components=2, whiten=True)\n",
      "pca.fit(X)"
     ],
     "language": "python",
     "metadata": {},
     "outputs": [
      {
       "metadata": {},
       "output_type": "pyout",
       "prompt_number": 2,
       "text": [
        "PCA(copy=True, n_components=2, whiten=True)"
       ]
      }
     ],
     "prompt_number": 2
    },
    {
     "cell_type": "markdown",
     "metadata": {},
     "source": [
      "Once fitted, the pca model exposes the singular vectors in the components_ attribute:"
     ]
    },
    {
     "cell_type": "code",
     "collapsed": false,
     "input": [
      "pca.components_"
     ],
     "language": "python",
     "metadata": {},
     "outputs": [
      {
       "metadata": {},
       "output_type": "pyout",
       "prompt_number": 3,
       "text": [
        "array([[ 0.17650757, -0.04015901,  0.41812992,  0.17516725],\n",
        "       [-1.33840478, -1.48757227,  0.35831476,  0.15229463]])"
       ]
      }
     ],
     "prompt_number": 3
    },
    {
     "cell_type": "markdown",
     "metadata": {},
     "source": [
      "Other attributes are available as well:"
     ]
    },
    {
     "cell_type": "code",
     "collapsed": false,
     "input": [
      "pca.explained_variance_ratio_"
     ],
     "language": "python",
     "metadata": {},
     "outputs": [
      {
       "metadata": {},
       "output_type": "pyout",
       "prompt_number": 4,
       "text": [
        "array([ 0.92461621,  0.05301557])"
       ]
      }
     ],
     "prompt_number": 4
    },
    {
     "cell_type": "code",
     "collapsed": false,
     "input": [
      "pca.explained_variance_ratio_.sum()"
     ],
     "language": "python",
     "metadata": {},
     "outputs": [
      {
       "metadata": {},
       "output_type": "pyout",
       "prompt_number": 5,
       "text": [
        "0.97763177502480336"
       ]
      }
     ],
     "prompt_number": 5
    },
    {
     "cell_type": "markdown",
     "metadata": {},
     "source": [
      "Let us project the iris dataset along those first two dimensions:"
     ]
    },
    {
     "cell_type": "code",
     "collapsed": false,
     "input": [
      "X_pca = pca.transform(X)"
     ],
     "language": "python",
     "metadata": {},
     "outputs": [],
     "prompt_number": 6
    },
    {
     "cell_type": "markdown",
     "metadata": {},
     "source": [
      "PCA `normalizes` and `whitens` the data, which means that the data\n",
      "is now centered on both components with unit variance:"
     ]
    },
    {
     "cell_type": "code",
     "collapsed": false,
     "input": [
      "import numpy as np\n",
      "np.round(X_pca.mean(axis=0), decimals=5)"
     ],
     "language": "python",
     "metadata": {},
     "outputs": [
      {
       "metadata": {},
       "output_type": "pyout",
       "prompt_number": 7,
       "text": [
        "array([-0.,  0.])"
       ]
      }
     ],
     "prompt_number": 7
    },
    {
     "cell_type": "code",
     "collapsed": false,
     "input": [
      "np.round(X_pca.std(axis=0), decimals=5)"
     ],
     "language": "python",
     "metadata": {},
     "outputs": [
      {
       "metadata": {},
       "output_type": "pyout",
       "prompt_number": 8,
       "text": [
        "array([ 1.,  1.])"
       ]
      }
     ],
     "prompt_number": 8
    },
    {
     "cell_type": "markdown",
     "metadata": {},
     "source": [
      "Furthermore, the samples components do no longer carry any linear correlation:"
     ]
    },
    {
     "cell_type": "code",
     "collapsed": false,
     "input": [
      "np.corrcoef(X_pca.T)"
     ],
     "language": "python",
     "metadata": {},
     "outputs": [
      {
       "metadata": {},
       "output_type": "pyout",
       "prompt_number": 9,
       "text": [
        "array([[  1.00000000e+00,  -7.58652400e-16],\n",
        "       [ -7.58652400e-16,   1.00000000e+00]])"
       ]
      }
     ],
     "prompt_number": 9
    },
    {
     "cell_type": "markdown",
     "metadata": {},
     "source": [
      "We can visualize the projection using pylab, but first\n",
      "let's make sure our ipython notebook is in pylab inline mode"
     ]
    },
    {
     "cell_type": "code",
     "collapsed": false,
     "input": [
      "%pylab inline"
     ],
     "language": "python",
     "metadata": {},
     "outputs": [
      {
       "output_type": "stream",
       "stream": "stdout",
       "text": [
        "Populating the interactive namespace from numpy and matplotlib\n"
       ]
      }
     ],
     "prompt_number": 10
    },
    {
     "cell_type": "markdown",
     "metadata": {},
     "source": [
      "Now we can visualize the results using the following utility function:"
     ]
    },
    {
     "cell_type": "code",
     "collapsed": false,
     "input": [
      "import pylab as pl\n",
      "from itertools import cycle\n",
      "\n",
      "def plot_PCA_2D(data, target, target_names):\n",
      "    colors = cycle('rgbcmykw')\n",
      "    target_ids = range(len(target_names))\n",
      "    pl.figure()\n",
      "    for i, c, label in zip(target_ids, colors, target_names):\n",
      "        pl.scatter(data[target == i, 0], data[target == i, 1],\n",
      "                   c=c, label=label)\n",
      "    pl.legend()"
     ],
     "language": "python",
     "metadata": {},
     "outputs": [],
     "prompt_number": 11
    },
    {
     "cell_type": "markdown",
     "metadata": {},
     "source": [
      "Now calling this function for our data, we see the plot:"
     ]
    },
    {
     "cell_type": "code",
     "collapsed": false,
     "input": [
      "plot_PCA_2D(X_pca, iris.target, iris.target_names)"
     ],
     "language": "python",
     "metadata": {},
     "outputs": [
      {
       "metadata": {},
       "output_type": "display_data",
       "png": "[encoded data removed]",
       "text": [
        "<matplotlib.figure.Figure at 0x3a44950>"
       ]
      }
     ],
     "prompt_number": 12
    },
    {
     "cell_type": "markdown",
     "metadata": {},
     "source": [
      "Note that this projection was determined *without* any information about the\n",
      "labels (represented by the colors): this is the sense in which the learning\n",
      "is **unsupervised**.  Nevertheless, we see that the projection gives us insight\n",
      "into the distribution of the different flowers in parameter space: notably,\n",
      "*iris setosa* is much more distinct than the other two species."
     ]
    },
    {
     "cell_type": "markdown",
     "metadata": {},
     "source": [
      "Note also that the default implementation of PCA computes the\n",
      "singular value decomposition (SVD) of the full\n",
      "data matrix, which is not scalable when both ``n_samples`` and\n",
      "``n_features`` are big (more that a few thousands).\n",
      "If you are interested in a number of components that is much\n",
      "smaller than both ``n_samples`` and ``n_features``, consider using\n",
      "`sklearn.decomposition.RandomizedPCA` instead."
     ]
    },
    {
     "cell_type": "markdown",
     "metadata": {},
     "source": [
      "Other dimensionality reduction techniques which are useful to know about:\n",
      "\n",
      "- `sklearn.decomposition.PCA`: <br/>\n",
      "   Principal Component Analysis\n",
      "- `sklearn.decomposition.RandomizedPCA`:<br/>\n",
      "   fast non-exact PCA implementation based on a randomized algorithm\n",
      "- `sklearn.decomposition.SparsePCA`:<br/>\n",
      "   PCA variant including L1 penalty for sparsity\n",
      "- `sklearn.decomposition.FastICA`:<br/>\n",
      "   Independent Component Analysis\n",
      "- `sklearn.decomposition.NMF`:<br/>\n",
      "   non-negative matrix factorization\n",
      "- `sklearn.manifold.LocallyLinearEmbedding`: <br/>\n",
      "   nonlinear manifold learning technique based on local neighborhood geometry\n",
      "- `sklearn.manifold.IsoMap`: <br/>\n",
      "   nonlinear manifold learning technique based on a sparse graph algorithm"
     ]
    },
    {
     "cell_type": "heading",
     "level": 2,
     "metadata": {},
     "source": [
      "Exercise:"
     ]
    },
    {
     "cell_type": "markdown",
     "metadata": {},
     "source": [
      "Repeat the above dimensionality reduction with\n",
      "``sklearn.decomposition.RandomizedPCA``.\n",
      "\n",
      "You can re-use the ``plot_PCA_2D`` function from above.\n",
      "Are the results similar to those from standard PCA?"
     ]
    },
    {
     "cell_type": "heading",
     "level": 2,
     "metadata": {},
     "source": [
      "Answer:"
     ]
    },
    {
     "cell_type": "markdown",
     "metadata": {},
     "source": [
      "Instead of use sklearn.decomposition.PCA, we use klearn.decomposition.RandomizedPCA repeat the process above:"
     ]
    },
    {
     "cell_type": "code",
     "collapsed": false,
     "input": [
      "RandomizedPCA?? #Principal component analysis (PCA) randomized SVD"
     ],
     "language": "python",
     "metadata": {},
     "outputs": [],
     "prompt_number": 14
    },
    {
     "cell_type": "code",
     "collapsed": false,
     "input": [
      "\"\"\"\n",
      "from sklearn.datasets import load_iris\n",
      "iris = load_iris()\n",
      "X = iris.data\n",
      "y = iris.target\n",
      "\"\"\"\n",
      "\n",
      "from sklearn.decomposition import RandomizedPCA\n",
      "pca_r = RandomizedPCA(n_components=2, whiten=True)\n",
      "pca_r.fit(X)"
     ],
     "language": "python",
     "metadata": {},
     "outputs": [
      {
       "metadata": {},
       "output_type": "pyout",
       "prompt_number": 15,
       "text": [
        "RandomizedPCA(copy=True, iterated_power=3, n_components=2, random_state=None,\n",
        "       whiten=True)"
       ]
      }
     ],
     "prompt_number": 15
    },
    {
     "cell_type": "markdown",
     "metadata": {},
     "source": [
      "Once fitted, the pca model exposes the singular vectors in the components_ attribute:\n",
      "\n",
      "Here's the result from sklearn.decomposition.PCA:\n",
      "\n",
      "array([[ 0.17650757, -0.04015901,  0.41812992,  0.17516725],\n",
      "       [-1.33840478, -1.48757227,  0.35831476,  0.15229463]])"
     ]
    },
    {
     "cell_type": "code",
     "collapsed": false,
     "input": [
      "pca_r.components_ #The same result with pca.components_"
     ],
     "language": "python",
     "metadata": {},
     "outputs": []
    },
    {
     "cell_type": "markdown",
     "metadata": {},
     "source": [
      "Let's try some other attributes:"
     ]
    },
    {
     "cell_type": "code",
     "collapsed": false,
     "input": [
      "print pca_r.explained_variance_ratio_\n",
      "\n",
      "print pca_r.explained_variance_ratio_.sum()"
     ],
     "language": "python",
     "metadata": {},
     "outputs": []
    },
    {
     "cell_type": "markdown",
     "metadata": {},
     "source": [
      "Now project the iris dataset along those first two dimensions:"
     ]
    },
    {
     "cell_type": "code",
     "collapsed": false,
     "input": [
      "X_pca_r = pca_r.transform(X)"
     ],
     "language": "python",
     "metadata": {},
     "outputs": []
    },
    {
     "cell_type": "markdown",
     "metadata": {},
     "source": [
      "Check whether that the data is now with mean of zero and unit variance:"
     ]
    },
    {
     "cell_type": "code",
     "collapsed": false,
     "input": [
      "print \"the mean of the first two components are:\",np.round(X_pca.mean(axis=0), decimals=5),\"and their variance are:\",np.round(X_pca.mean(axis=0), decimals=5)"
     ],
     "language": "python",
     "metadata": {},
     "outputs": []
    },
    {
     "cell_type": "markdown",
     "metadata": {},
     "source": [
      "The coefficient covariance matrix tells us the components are not linear correlated:"
     ]
    },
    {
     "cell_type": "code",
     "collapsed": false,
     "input": [
      "np.corrcoef(X_pca_r.T)"
     ],
     "language": "python",
     "metadata": {},
     "outputs": []
    },
    {
     "cell_type": "markdown",
     "metadata": {},
     "source": [
      "Now we can visualize the projection using plot_PCA_2D function from above:"
     ]
    },
    {
     "cell_type": "code",
     "collapsed": false,
     "input": [
      "plot_PCA_2D(X_pca_r, iris.target, iris.target_names)"
     ],
     "language": "python",
     "metadata": {},
     "outputs": []
    },
    {
     "cell_type": "markdown",
     "metadata": {},
     "source": [
      "<span style=\"color:green\">\n",
      "Review from **Chuan Wang**"
     ]
    },
    {
     "cell_type": "markdown",
     "metadata": {},
     "source": [
      "Everything is fine. You might do some comparsion between two algorithm."
     ]
    },
    {
     "cell_type": "markdown",
     "metadata": {},
     "source": [
      "<span style=\"color:green\">\n",
      "Review from **Michael Kirby**\n",
      "</span> <br/>\n",
      "I agree with Chuan on this one. Try to explain how any of the data may or may not be quantitative evidence as to which algorithm worked better in this case."
     ]
    }
   ],
   "metadata": {}
  }
 ]
}